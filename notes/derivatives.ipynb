{
 "cells": [
  {
   "cell_type": "code",
   "execution_count": 1,
   "id": "60700f4e-8099-4974-984c-738f786ec5f2",
   "metadata": {},
   "outputs": [],
   "source": [
    "import numpy as np\n",
    "from IPython.display import Math, display\n",
    "from sympy import exp, gamma, latex, log, polygamma, simplify, symbols"
   ]
  },
  {
   "cell_type": "code",
   "execution_count": 2,
   "id": "bcef9664-ec6f-4223-8fbb-c5f7bae073a2",
   "metadata": {},
   "outputs": [],
   "source": [
    "def cprint(tex_text):\n",
    "    display(Math(tex_text))"
   ]
  },
  {
   "cell_type": "markdown",
   "id": "7d4cc949-c6d7-4965-95e9-8ab66078ec09",
   "metadata": {},
   "source": [
    "# Derivatives for the extended GAM implementation"
   ]
  },
  {
   "cell_type": "markdown",
   "id": "1799d688-c3c5-4fbd-b47d-ddc2276fedd8",
   "metadata": {},
   "source": [
    "\\begin{align*}\n",
    "y&: y \\\\\n",
    "a&: \\alpha = \\exp(\\theta_{0}) \\\\\n",
    "n&: \\eta \\\\\n",
    "g&: \\gamma \\\\\n",
    "\\end{align*}\n",
    "where $\\theta_{0}\\in \\mathbb{R}$ is an unrestricted parameter."
   ]
  },
  {
   "cell_type": "code",
   "execution_count": 3,
   "id": "bc71e175-b1d6-4937-b73c-e179562da425",
   "metadata": {},
   "outputs": [],
   "source": [
    "y, t0, n, g = symbols(\"y, theta0, eta, gamma\")\n",
    "a = exp(t0)"
   ]
  },
  {
   "cell_type": "code",
   "execution_count": 4,
   "id": "24b1bd07-5294-45ee-a14f-6cd9524f397e",
   "metadata": {},
   "outputs": [
    {
     "data": {
      "text/latex": [
       "$\\displaystyle \\ell_{ZTNB} = \\gamma y + y \\log{\\left(\\alpha \\right)} - y \\log{\\left(\\alpha e^{\\gamma} + 1 \\right)} - \\log{\\left(\\left(\\alpha e^{\\gamma} + 1\\right)^{\\frac{1}{\\alpha}} - 1 \\right)} - \\log{\\left(\\Gamma\\left(\\frac{1}{\\alpha}\\right) \\right)} - \\log{\\left(\\Gamma\\left(y + 1\\right) \\right)} + \\log{\\left(\\Gamma\\left(y + \\frac{1}{\\alpha}\\right) \\right)}$"
      ],
      "text/plain": [
       "<IPython.core.display.Math object>"
      ]
     },
     "metadata": {},
     "output_type": "display_data"
    }
   ],
   "source": [
    "l_ZTNB = (\n",
    "    y * log(a)\n",
    "    + y * g\n",
    "    - y * log(1 + a * exp(g))\n",
    "    + log(gamma(y + 1 / a))\n",
    "    - log(gamma(y + 1))\n",
    "    - log(gamma(1 / a))\n",
    "    - log(((1 + a * exp(g)) ** (1 / a)) - 1)\n",
    ")\n",
    "\n",
    "cprint(rf\"\\ell_{{ZTNB}} = {latex(l_ZTNB.subs(a, 'alpha'))}\")"
   ]
  },
  {
   "cell_type": "code",
   "execution_count": 5,
   "id": "4bf0931d-6396-4652-8b1a-af3e66eb6aa9",
   "metadata": {},
   "outputs": [
    {
     "data": {
      "text/latex": [
       "$\\displaystyle \\ell_{ZINB} = - e^{\\eta}, \\quad \\text{for} ~ y = 0.$"
      ],
      "text/plain": [
       "<IPython.core.display.Math object>"
      ]
     },
     "metadata": {},
     "output_type": "display_data"
    },
    {
     "data": {
      "text/latex": [
       "$\\displaystyle \\ell_{ZINB} = \\gamma y + y \\log{\\left(\\alpha \\right)} - y \\log{\\left(\\alpha e^{\\gamma} + 1 \\right)} + \\log{\\left(1 - e^{- e^{\\eta}} \\right)} - \\log{\\left(\\left(\\alpha e^{\\gamma} + 1\\right)^{\\frac{1}{\\alpha}} - 1 \\right)} - \\log{\\left(\\Gamma\\left(\\frac{1}{\\alpha}\\right) \\right)} - \\log{\\left(\\Gamma\\left(y + 1\\right) \\right)} + \\log{\\left(\\Gamma\\left(y + \\frac{1}{\\alpha}\\right) \\right)}, \\quad \\text{for} ~ y > 0.$"
      ],
      "text/plain": [
       "<IPython.core.display.Math object>"
      ]
     },
     "metadata": {},
     "output_type": "display_data"
    }
   ],
   "source": [
    "# for y == 0\n",
    "l0_ZINB = -exp(n)\n",
    "# for y_p = y > 0\n",
    "l_ZINB = log(1 - exp(-exp(n))) + l_ZTNB\n",
    "\n",
    "cprint(rf\"\\ell_{{ZINB}} = {latex(l0_ZINB)}, \\quad \\text{{for}} ~ y = 0.\")\n",
    "cprint(\n",
    "    rf\"\\ell_{{ZINB}} = {latex(l_ZINB.subs(a, 'alpha'))}, \\quad \\text{{for}} ~ y > 0.\"\n",
    ")"
   ]
  },
  {
   "cell_type": "markdown",
   "id": "6ced3a5e-08b9-4b46-93aa-b3a980fcc1ab",
   "metadata": {},
   "source": [
    "## Derivatives, for $y > 0$"
   ]
  },
  {
   "cell_type": "markdown",
   "id": "e3dbb424-b147-4408-a149-4c5af2e52ac1",
   "metadata": {},
   "source": [
    "#### w.r.t. $\\eta$"
   ]
  },
  {
   "cell_type": "code",
   "execution_count": 6,
   "id": "1c1c94a6-2b36-4aa5-87ba-72583096462c",
   "metadata": {},
   "outputs": [
    {
     "data": {
      "text/latex": [
       "$\\displaystyle \\ell_{\\eta} = \\frac{e^{\\eta} e^{- e^{\\eta}}}{1 - e^{- e^{\\eta}}}$"
      ],
      "text/plain": [
       "<IPython.core.display.Math object>"
      ]
     },
     "metadata": {},
     "output_type": "display_data"
    }
   ],
   "source": [
    "l_e = l_ZINB.diff(n, 1)\n",
    "cprint(rf\"\\ell_{{\\eta}} = {latex(l_e)}\")"
   ]
  },
  {
   "cell_type": "code",
   "execution_count": 7,
   "id": "9e5858f0-5171-40e0-aa86-3c0a9081344e",
   "metadata": {},
   "outputs": [
    {
     "data": {
      "text/latex": [
       "$\\displaystyle \\ell_{\\eta\\eta} = - l_{\\eta}^{2} - l_{\\eta} e^{\\eta} + l_{\\eta}$"
      ],
      "text/plain": [
       "<IPython.core.display.Math object>"
      ]
     },
     "metadata": {},
     "output_type": "display_data"
    }
   ],
   "source": [
    "l_ee = l_ZINB.diff(n, 2).subs(l_e, \"l_eta\").expand()\n",
    "cprint(rf\"\\ell_{{\\eta\\eta}} = {latex(l_ee)}\")"
   ]
  },
  {
   "cell_type": "code",
   "execution_count": 8,
   "id": "e6439f28-8791-4c0a-b79f-a2c08c14b938",
   "metadata": {},
   "outputs": [
    {
     "data": {
      "text/latex": [
       "$\\displaystyle \\ell_{\\eta\\eta\\eta} = 2 l_{\\eta}^{3} + 3 l_{\\eta}^{2} e^{\\eta} - 3 l_{\\eta}^{2} + l_{\\eta} e^{2 \\eta} - 3 l_{\\eta} e^{\\eta} + l_{\\eta}$"
      ],
      "text/plain": [
       "<IPython.core.display.Math object>"
      ]
     },
     "metadata": {},
     "output_type": "display_data"
    }
   ],
   "source": [
    "l_eee = l_ZINB.diff(n, 3).subs(l_e, \"l_eta\").expand()\n",
    "cprint(rf\"\\ell_{{\\eta\\eta\\eta}} = {latex(l_eee)}\")"
   ]
  },
  {
   "cell_type": "code",
   "execution_count": 9,
   "id": "51f17d35-a86a-4d85-a3e3-e014022ab3c8",
   "metadata": {},
   "outputs": [
    {
     "data": {
      "text/latex": [
       "$\\displaystyle \\ell_{\\eta\\eta\\eta\\eta} = - 6 l_{\\eta}^{4} - 12 l_{\\eta}^{3} e^{\\eta} + 12 l_{\\eta}^{3} - 7 l_{\\eta}^{2} e^{2 \\eta} + 18 l_{\\eta}^{2} e^{\\eta} - 7 l_{\\eta}^{2} - l_{\\eta} e^{3 \\eta} + 6 l_{\\eta} e^{2 \\eta} - 7 l_{\\eta} e^{\\eta} + l_{\\eta}$"
      ],
      "text/plain": [
       "<IPython.core.display.Math object>"
      ]
     },
     "metadata": {},
     "output_type": "display_data"
    }
   ],
   "source": [
    "l_eeee = l_ZINB.diff(n, 4).subs(l_e, \"l_eta\").expand()\n",
    "cprint(rf\"\\ell_{{\\eta\\eta\\eta\\eta}} = {latex(l_eeee)}\")"
   ]
  },
  {
   "cell_type": "markdown",
   "id": "242f9346-a418-45e7-8603-bafeb089193f",
   "metadata": {},
   "source": [
    "#### w.r.t. $\\gamma$"
   ]
  },
  {
   "cell_type": "code",
   "execution_count": 10,
   "id": "c3f183de-687b-4fb6-ab36-281155d36caf",
   "metadata": {},
   "outputs": [],
   "source": [
    "alpha, kappa, tau = symbols(\"alpha kappa tau\")\n",
    "\n",
    "k = exp(g) / (1 + alpha * exp(g))\n",
    "t = ((1 + alpha * exp(g)) ** (1 / alpha)) / ((1 + alpha * exp(g)) ** (1 / alpha) - 1)"
   ]
  },
  {
   "cell_type": "code",
   "execution_count": 11,
   "id": "a8bd8f39-7d75-417c-874a-545ffb6e3043",
   "metadata": {},
   "outputs": [
    {
     "data": {
      "text/latex": [
       "$\\displaystyle \\ell_{\\gamma} = - \\alpha \\kappa y - \\kappa \\tau + y$"
      ],
      "text/plain": [
       "<IPython.core.display.Math object>"
      ]
     },
     "metadata": {},
     "output_type": "display_data"
    }
   ],
   "source": [
    "l_g = l_ZINB.diff(g, 1).subs(a, alpha).subs(k, kappa).subs(t, tau)\n",
    "cprint(rf\"\\ell_{{\\gamma}} = {latex(l_g)}\")"
   ]
  },
  {
   "cell_type": "code",
   "execution_count": 12,
   "id": "1eb49c78-3955-42a5-ba7a-19f78aed36af",
   "metadata": {},
   "outputs": [
    {
     "data": {
      "text/latex": [
       "$\\displaystyle \\ell_{\\gamma\\gamma} = - \\ell_{\\gamma} \\alpha \\kappa + \\kappa^{2} \\tau^{2} - \\kappa^{2} \\tau - \\kappa \\tau$"
      ],
      "text/plain": [
       "<IPython.core.display.Math object>"
      ]
     },
     "metadata": {},
     "output_type": "display_data"
    }
   ],
   "source": [
    "l_gg = l_ZINB.diff(g, 2).subs(a, alpha).subs(k, kappa).subs(t, tau).expand()\n",
    "\n",
    "lg = symbols(r\"\\ell_{\\gamma}\")\n",
    "sl_gg = -alpha * kappa * lg - kappa * tau + kappa**2 * tau**2 - kappa**2 * tau\n",
    "assert simplify(sl_gg.subs(lg, l_g) - l_gg) == 0\n",
    "cprint(rf\"\\ell_{{\\gamma\\gamma}} = {latex(sl_gg)}\")"
   ]
  },
  {
   "cell_type": "code",
   "execution_count": 13,
   "id": "bf9f4117-d8eb-4bc1-8fa1-a21ed6adc7da",
   "metadata": {},
   "outputs": [
    {
     "data": {
      "text/latex": [
       "$\\displaystyle \\ell_{\\gamma\\gamma\\gamma} = - 2 \\ell_{\\gamma\\gamma} \\alpha \\kappa + \\ell_{\\gamma\\gamma} - \\alpha \\kappa^{3} \\tau^{2} + \\alpha \\kappa^{3} \\tau - 2 \\kappa^{3} \\tau^{3} + 3 \\kappa^{3} \\tau^{2} - \\kappa^{3} \\tau + 2 \\kappa^{2} \\tau^{2} - 2 \\kappa^{2} \\tau$"
      ],
      "text/plain": [
       "<IPython.core.display.Math object>"
      ]
     },
     "metadata": {},
     "output_type": "display_data"
    }
   ],
   "source": [
    "l_ggg = l_ZINB.diff(g, 3).subs(a, alpha).subs(k, kappa).subs(t, tau).expand()\n",
    "\n",
    "lgg = symbols(r\"\\ell_{\\gamma\\gamma}\")\n",
    "sl_ggg = (\n",
    "    -2 * alpha * kappa * lgg\n",
    "    + lgg\n",
    "    - alpha * kappa**3 * tau**2\n",
    "    + alpha * kappa**3 * tau\n",
    "    + 2 * kappa**2 * tau**2\n",
    "    - 2 * kappa**2 * tau\n",
    "    - 2 * kappa**3 * tau**3\n",
    "    + 3 * kappa**3 * tau**2\n",
    "    - kappa**3 * tau\n",
    ")\n",
    "assert simplify(sl_ggg.subs(lgg, l_gg) - l_ggg) == 0\n",
    "cprint(rf\"\\ell_{{\\gamma\\gamma\\gamma}} = {latex(sl_ggg)}\")"
   ]
  },
  {
   "cell_type": "code",
   "execution_count": 14,
   "id": "b6eb44eb-c9c4-4ad1-a2fa-d38d8e74d615",
   "metadata": {},
   "outputs": [
    {
     "data": {
      "text/latex": [
       "$\\displaystyle \\ell_{\\gamma\\gamma\\gamma\\gamma} = 6 \\alpha^{4} \\kappa^{4} y + 6 \\alpha^{3} \\kappa^{4} \\tau - 12 \\alpha^{3} \\kappa^{3} y + 11 \\alpha^{2} \\kappa^{4} \\tau^{2} - 11 \\alpha^{2} \\kappa^{4} \\tau - 12 \\alpha^{2} \\kappa^{3} \\tau + 7 \\alpha^{2} \\kappa^{2} y + 12 \\alpha \\kappa^{4} \\tau^{3} - 18 \\alpha \\kappa^{4} \\tau^{2} + 6 \\alpha \\kappa^{4} \\tau - 18 \\alpha \\kappa^{3} \\tau^{2} + 18 \\alpha \\kappa^{3} \\tau + 7 \\alpha \\kappa^{2} \\tau - \\alpha \\kappa y + 6 \\kappa^{4} \\tau^{4} - 12 \\kappa^{4} \\tau^{3} + 7 \\kappa^{4} \\tau^{2} - \\kappa^{4} \\tau - 12 \\kappa^{3} \\tau^{3} + 18 \\kappa^{3} \\tau^{2} - 6 \\kappa^{3} \\tau + 7 \\kappa^{2} \\tau^{2} - 7 \\kappa^{2} \\tau - \\kappa \\tau$"
      ],
      "text/plain": [
       "<IPython.core.display.Math object>"
      ]
     },
     "metadata": {},
     "output_type": "display_data"
    }
   ],
   "source": [
    "l_gggg = l_ZINB.diff(g, 4).subs(a, alpha).subs(k, kappa).subs(t, tau).expand()\n",
    "cprint(rf\"\\ell_{{\\gamma\\gamma\\gamma\\gamma}} = {latex(l_gggg)}\")"
   ]
  },
  {
   "cell_type": "markdown",
   "id": "3c422df3-5355-458b-b970-a14204726dce",
   "metadata": {},
   "source": [
    "#### w.r.t. $\\theta_0$"
   ]
  },
  {
   "cell_type": "code",
   "execution_count": 15,
   "id": "4281dffc-6fa2-4777-b313-e679dfccd4b3",
   "metadata": {},
   "outputs": [],
   "source": [
    "omega = symbols(\"omega\")\n",
    "w = (1 / alpha) * log(1 + alpha * exp(g)) - kappa"
   ]
  },
  {
   "cell_type": "code",
   "execution_count": 16,
   "id": "4819a8d7-aaa7-4871-a148-a974ce749346",
   "metadata": {},
   "outputs": [
    {
     "data": {
      "text/latex": [
       "$\\displaystyle \\ell_{\\theta_0} = - \\alpha \\kappa y + \\omega \\tau + y + \\frac{\\operatorname{polygamma}{\\left(0,\\frac{1}{\\alpha} \\right)}}{\\alpha} - \\frac{\\operatorname{polygamma}{\\left(0,y + \\frac{1}{\\alpha} \\right)}}{\\alpha}$"
      ],
      "text/plain": [
       "<IPython.core.display.Math object>"
      ]
     },
     "metadata": {},
     "output_type": "display_data"
    }
   ],
   "source": [
    "l_t0 = l_ZINB.diff(t0, 1).subs(a, alpha).subs(k, kappa).subs(t, tau).subs(w, omega)\n",
    "cprint(rf\"\\ell_{{\\theta_{0}}} = {latex(l_t0)}\")"
   ]
  },
  {
   "cell_type": "code",
   "execution_count": 17,
   "id": "02bb1fde-8a05-4d67-a7b9-e18175183b84",
   "metadata": {},
   "outputs": [
    {
     "data": {
      "text/latex": [
       "$\\displaystyle \\ell_{\\theta_0\\theta_0} = - \\ell_{\\gamma} \\alpha \\kappa + \\omega^{2} \\tau^{2} - \\omega^{2} \\tau - \\omega \\tau - \\frac{\\operatorname{polygamma}{\\left(0,\\frac{1}{\\alpha} \\right)}}{\\alpha} + \\frac{\\operatorname{polygamma}{\\left(0,y + \\frac{1}{\\alpha} \\right)}}{\\alpha} - \\frac{\\operatorname{polygamma}{\\left(1,\\frac{1}{\\alpha} \\right)}}{\\alpha^{2}} + \\frac{\\operatorname{polygamma}{\\left(1,y + \\frac{1}{\\alpha} \\right)}}{\\alpha^{2}}$"
      ],
      "text/plain": [
       "<IPython.core.display.Math object>"
      ]
     },
     "metadata": {},
     "output_type": "display_data"
    }
   ],
   "source": [
    "l_t0t0 = l_ZINB.diff(t0, 2).subs(a, alpha).subs(k, kappa).subs(t, tau).subs(w, omega)\n",
    "\n",
    "sl_t0t0 = (\n",
    "    -alpha * kappa * lg\n",
    "    + omega**2 * tau**2\n",
    "    - omega**2 * tau\n",
    "    - omega * tau\n",
    "    - polygamma(0, 1 / alpha) / alpha\n",
    "    + polygamma(0, y + 1 / alpha) / alpha\n",
    "    - polygamma(1, 1 / alpha) / alpha**2\n",
    "    + polygamma(1, y + 1 / alpha) / alpha**2\n",
    ")\n",
    "assert simplify(sl_t0t0.subs(lg, l_g) - l_t0t0) == 0\n",
    "cprint(rf\"\\ell_{{\\theta_{0}\\theta_{0}}} = {latex(sl_t0t0)}\")"
   ]
  },
  {
   "cell_type": "markdown",
   "id": "eebc07d1-e6f0-43db-935d-3f700ddf12df",
   "metadata": {},
   "source": [
    "#### Mixed derivatives"
   ]
  },
  {
   "cell_type": "markdown",
   "id": "b217d724-fce3-4542-b8d1-d66b5ebc5f2f",
   "metadata": {},
   "source": [
    "Mixed derivatives involving $\\eta$ are all 0 in the GAMLSS case. In the Extended GAM case, with $\\eta=\\theta_{1} + \\exp(\\theta_{2})\\gamma$, we are interested in mixed derivatives involving $\\gamma$ and $\\theta_{i}, i=0,1,2$."
   ]
  },
  {
   "cell_type": "code",
   "execution_count": 18,
   "id": "435e764c-6cd0-4685-8e1f-410d7235a59e",
   "metadata": {},
   "outputs": [
    {
     "data": {
      "text/latex": [
       "$\\displaystyle \\ell_{\\gamma\\theta_0} = - \\ell_{\\gamma} \\alpha \\kappa - \\kappa \\omega \\tau^{2} + \\kappa \\omega \\tau$"
      ],
      "text/plain": [
       "<IPython.core.display.Math object>"
      ]
     },
     "metadata": {},
     "output_type": "display_data"
    }
   ],
   "source": [
    "# for quasi-Newton\n",
    "l_gt0 = (\n",
    "    l_ZINB.diff(g, 1, t0, 1)\n",
    "    .subs(a, alpha)\n",
    "    .subs(k, kappa)\n",
    "    .subs(t, tau)\n",
    "    .subs(w, omega)\n",
    "    .expand()\n",
    ")\n",
    "\n",
    "sl_gt0 = -alpha * kappa * lg - kappa * tau**2 * omega + kappa * tau * omega\n",
    "assert simplify(sl_gt0.subs(lg, l_g) - l_gt0) == 0\n",
    "cprint(rf\"\\ell_{{\\gamma\\theta_{0}}} = {latex(sl_gt0)}\")"
   ]
  },
  {
   "cell_type": "code",
   "execution_count": 19,
   "id": "a805a307-80c7-44f5-8704-86e2e43f4a62",
   "metadata": {},
   "outputs": [
    {
     "data": {
      "text/latex": [
       "$\\displaystyle \\ell_{\\gamma\\gamma\\theta_0} = - 2 \\ell_{\\gamma\\theta_{0}} \\alpha \\kappa + \\ell_{\\gamma\\theta_{0}} - 2 \\alpha \\kappa^{3} \\tau^{2} + 2 \\alpha \\kappa^{3} \\tau - \\alpha \\kappa^{2} \\omega \\tau^{2} + \\alpha \\kappa^{2} \\omega \\tau + \\alpha \\kappa^{2} \\tau + 2 \\kappa^{2} \\omega \\tau^{3} - 3 \\kappa^{2} \\omega \\tau^{2} + \\kappa^{2} \\omega \\tau$"
      ],
      "text/plain": [
       "<IPython.core.display.Math object>"
      ]
     },
     "metadata": {},
     "output_type": "display_data"
    }
   ],
   "source": [
    "# for quasi-Newton\n",
    "l_ggt0 = (\n",
    "    l_ZINB.diff(g, 2, t0, 1)\n",
    "    .subs(a, alpha)\n",
    "    .subs(k, kappa)\n",
    "    .subs(t, tau)\n",
    "    .subs(w, omega)\n",
    "    .expand()\n",
    ")\n",
    "\n",
    "lgt0 = symbols(r\"\\ell_{\\gamma\\theta_{0}}\")\n",
    "sl_ggt0 = (\n",
    "    -2 * alpha * kappa * lgt0\n",
    "    + lgt0\n",
    "    + alpha * kappa**2 * tau\n",
    "    - alpha * kappa**2 * omega * tau**2\n",
    "    + alpha * kappa**2 * omega * tau\n",
    "    - 2 * alpha * kappa**3 * tau**2\n",
    "    + 2 * alpha * kappa**3 * tau\n",
    "    + 2 * kappa**2 * omega * tau**3\n",
    "    - 3 * kappa**2 * omega * tau**2\n",
    "    + kappa**2 * omega * tau\n",
    ")\n",
    "assert simplify(sl_ggt0.subs(lgt0, l_gt0) - l_ggt0) == 0\n",
    "cprint(rf\"\\ell_{{\\gamma\\gamma\\theta_{0}}} = {latex(sl_ggt0)}\")"
   ]
  },
  {
   "cell_type": "code",
   "execution_count": 20,
   "id": "fde98722-0c67-4fbd-a7b4-53486867411d",
   "metadata": {},
   "outputs": [
    {
     "data": {
      "text/latex": [
       "$\\displaystyle \\ell_{\\gamma\\theta_0\\theta_0} = - 2 \\alpha^{3} \\kappa^{3} y - 2 \\alpha^{2} \\kappa^{3} \\tau + 3 \\alpha^{2} \\kappa^{2} y - \\alpha \\kappa^{3} \\tau^{2} + \\alpha \\kappa^{3} \\tau + 2 \\alpha \\kappa^{2} \\omega \\tau^{2} - 2 \\alpha \\kappa^{2} \\omega \\tau + \\alpha \\kappa^{2} \\tau - \\alpha \\kappa y - 2 \\kappa \\omega^{2} \\tau^{3} + 3 \\kappa \\omega^{2} \\tau^{2} - \\kappa \\omega^{2} \\tau + \\kappa \\omega \\tau^{2} - \\kappa \\omega \\tau$"
      ],
      "text/plain": [
       "<IPython.core.display.Math object>"
      ]
     },
     "metadata": {},
     "output_type": "display_data"
    }
   ],
   "source": [
    "# for full Newton\n",
    "# not simplified\n",
    "l_gt0t0 = (\n",
    "    l_ZINB.diff(g, 1, t0, 2)\n",
    "    .subs(a, alpha)\n",
    "    .subs(k, kappa)\n",
    "    .subs(t, tau)\n",
    "    .subs(w, omega)\n",
    "    .expand()\n",
    ")\n",
    "cprint(rf\"\\ell_{{\\gamma\\theta_{0}\\theta_{0}}} = {latex(l_gt0t0)}\")"
   ]
  },
  {
   "cell_type": "code",
   "execution_count": 21,
   "id": "9ba5aa9a-cc51-4ca4-9230-0e7ac950c7a1",
   "metadata": {},
   "outputs": [
    {
     "data": {
      "text/latex": [
       "$\\displaystyle \\ell_{\\gamma\\gamma\\theta_0\\theta_0} = 6 \\alpha^{4} \\kappa^{4} y + 6 \\alpha^{3} \\kappa^{4} \\tau - 12 \\alpha^{3} \\kappa^{3} y + 7 \\alpha^{2} \\kappa^{4} \\tau^{2} - 7 \\alpha^{2} \\kappa^{4} \\tau - 4 \\alpha^{2} \\kappa^{3} \\omega \\tau^{2} + 4 \\alpha^{2} \\kappa^{3} \\omega \\tau - 8 \\alpha^{2} \\kappa^{3} \\tau + 7 \\alpha^{2} \\kappa^{2} y + 2 \\alpha \\kappa^{4} \\tau^{3} - 3 \\alpha \\kappa^{4} \\tau^{2} + \\alpha \\kappa^{4} \\tau - 8 \\alpha \\kappa^{3} \\omega \\tau^{3} + 12 \\alpha \\kappa^{3} \\omega \\tau^{2} - 4 \\alpha \\kappa^{3} \\omega \\tau - 3 \\alpha \\kappa^{3} \\tau^{2} + 3 \\alpha \\kappa^{3} \\tau + 2 \\alpha \\kappa^{2} \\omega^{2} \\tau^{3} - 3 \\alpha \\kappa^{2} \\omega^{2} \\tau^{2} + \\alpha \\kappa^{2} \\omega^{2} \\tau + 3 \\alpha \\kappa^{2} \\omega \\tau^{2} - 3 \\alpha \\kappa^{2} \\omega \\tau + 2 \\alpha \\kappa^{2} \\tau - \\alpha \\kappa y + 6 \\kappa^{2} \\omega^{2} \\tau^{4} - 12 \\kappa^{2} \\omega^{2} \\tau^{3} + 7 \\kappa^{2} \\omega^{2} \\tau^{2} - \\kappa^{2} \\omega^{2} \\tau - 2 \\kappa^{2} \\omega \\tau^{3} + 3 \\kappa^{2} \\omega \\tau^{2} - \\kappa^{2} \\omega \\tau - 2 \\kappa \\omega^{2} \\tau^{3} + 3 \\kappa \\omega^{2} \\tau^{2} - \\kappa \\omega^{2} \\tau + \\kappa \\omega \\tau^{2} - \\kappa \\omega \\tau$"
      ],
      "text/plain": [
       "<IPython.core.display.Math object>"
      ]
     },
     "metadata": {},
     "output_type": "display_data"
    }
   ],
   "source": [
    "# for full Newton\n",
    "# not simplified\n",
    "l_ggt0t0 = (\n",
    "    l_ZINB.diff(g, 2, t0, 2)\n",
    "    .subs(a, alpha)\n",
    "    .subs(k, kappa)\n",
    "    .subs(t, tau)\n",
    "    .collect(4)\n",
    "    .subs(w, omega)\n",
    "    .expand()\n",
    ")\n",
    "cprint(rf\"\\ell_{{\\gamma\\gamma\\theta_{0}\\theta_{0}}} = {latex(l_ggt0t0)}\")"
   ]
  },
  {
   "cell_type": "code",
   "execution_count": 22,
   "id": "b46399d3-c41b-429f-87db-9660625bd632",
   "metadata": {},
   "outputs": [
    {
     "data": {
      "text/latex": [
       "$\\displaystyle \\ell_{\\gamma\\gamma\\gamma\\theta_0} = 6 \\alpha^{4} \\kappa^{4} y + 6 \\alpha^{3} \\kappa^{4} \\tau - 12 \\alpha^{3} \\kappa^{3} y + 9 \\alpha^{2} \\kappa^{4} \\tau^{2} - 9 \\alpha^{2} \\kappa^{4} \\tau - 2 \\alpha^{2} \\kappa^{3} \\omega \\tau^{2} + 2 \\alpha^{2} \\kappa^{3} \\omega \\tau - 10 \\alpha^{2} \\kappa^{3} \\tau + 7 \\alpha^{2} \\kappa^{2} y + 6 \\alpha \\kappa^{4} \\tau^{3} - 9 \\alpha \\kappa^{4} \\tau^{2} + 3 \\alpha \\kappa^{4} \\tau - 6 \\alpha \\kappa^{3} \\omega \\tau^{3} + 9 \\alpha \\kappa^{3} \\omega \\tau^{2} - 3 \\alpha \\kappa^{3} \\omega \\tau - 9 \\alpha \\kappa^{3} \\tau^{2} + 9 \\alpha \\kappa^{3} \\tau + 3 \\alpha \\kappa^{2} \\omega \\tau^{2} - 3 \\alpha \\kappa^{2} \\omega \\tau + 4 \\alpha \\kappa^{2} \\tau - \\alpha \\kappa y - 6 \\kappa^{3} \\omega \\tau^{4} + 12 \\kappa^{3} \\omega \\tau^{3} - 7 \\kappa^{3} \\omega \\tau^{2} + \\kappa^{3} \\omega \\tau + 6 \\kappa^{2} \\omega \\tau^{3} - 9 \\kappa^{2} \\omega \\tau^{2} + 3 \\kappa^{2} \\omega \\tau - \\kappa \\omega \\tau^{2} + \\kappa \\omega \\tau$"
      ],
      "text/plain": [
       "<IPython.core.display.Math object>"
      ]
     },
     "metadata": {},
     "output_type": "display_data"
    }
   ],
   "source": [
    "# for full Newton\n",
    "# not simplified\n",
    "l_gggt0 = (\n",
    "    l_ZINB.diff(g, 3, t0, 1)\n",
    "    .subs(a, alpha)\n",
    "    .subs(k, kappa)\n",
    "    .subs(t, tau)\n",
    "    .collect([2, 6, 7, 12])\n",
    "    .subs(w, omega)\n",
    "    .expand()\n",
    ")\n",
    "cprint(rf\"\\ell_{{\\gamma\\gamma\\gamma\\theta_{0}}} = {latex(l_gggt0)}\")"
   ]
  },
  {
   "cell_type": "markdown",
   "id": "9c87c1a6-8e5a-491a-9591-abf5d583933f",
   "metadata": {},
   "source": [
    "Further mixed derivatives can be found in [zinb](zinb.pdf)."
   ]
  },
  {
   "cell_type": "markdown",
   "id": "3b36f7b6-f8d0-4f32-9274-b9e6a46ac517",
   "metadata": {},
   "source": [
    "## Generate some expectations for unit testing in R"
   ]
  },
  {
   "cell_type": "markdown",
   "id": "b7543a4d-b3a2-4873-b96c-4a1169914a70",
   "metadata": {},
   "source": [
    "We only compute the non-trivial ones."
   ]
  },
  {
   "cell_type": "code",
   "execution_count": 23,
   "id": "dc879990-af62-4a6d-abd4-4714aaf7e0dd",
   "metadata": {},
   "outputs": [
    {
     "data": {
      "text/latex": [
       "$\\displaystyle y=25,~\\gamma=10,~\\eta=0,~\\alpha=0.5:$"
      ],
      "text/plain": [
       "<IPython.core.display.Math object>"
      ]
     },
     "metadata": {},
     "output_type": "display_data"
    },
    {
     "data": {
      "text/latex": [
       "$\\displaystyle \\ell=-15.81674$"
      ],
      "text/plain": [
       "<IPython.core.display.Math object>"
      ]
     },
     "metadata": {},
     "output_type": "display_data"
    },
    {
     "data": {
      "text/latex": [
       "$\\displaystyle \\ell_{\\gamma}=-1.99755$"
      ],
      "text/plain": [
       "<IPython.core.display.Math object>"
      ]
     },
     "metadata": {},
     "output_type": "display_data"
    },
    {
     "data": {
      "text/latex": [
       "$\\displaystyle \\ell_{\\eta}=0.58198$"
      ],
      "text/plain": [
       "<IPython.core.display.Math object>"
      ]
     },
     "metadata": {},
     "output_type": "display_data"
    },
    {
     "data": {
      "text/latex": [
       "$\\displaystyle \\ell_{\\gamma\\gamma}=-0.00245$"
      ],
      "text/plain": [
       "<IPython.core.display.Math object>"
      ]
     },
     "metadata": {},
     "output_type": "display_data"
    },
    {
     "data": {
      "text/latex": [
       "$\\displaystyle \\ell_{\\eta\\eta}=-0.33870$"
      ],
      "text/plain": [
       "<IPython.core.display.Math object>"
      ]
     },
     "metadata": {},
     "output_type": "display_data"
    },
    {
     "data": {
      "text/latex": [
       "$\\displaystyle \\mathbb{E}[\\ell_{\\gamma\\gamma}]=-1.26413$"
      ],
      "text/plain": [
       "<IPython.core.display.Math object>"
      ]
     },
     "metadata": {},
     "output_type": "display_data"
    },
    {
     "data": {
      "text/latex": [
       "$\\displaystyle \\mathbb{E}[\\ell_{\\eta\\eta}]=-0.58198$"
      ],
      "text/plain": [
       "<IPython.core.display.Math object>"
      ]
     },
     "metadata": {},
     "output_type": "display_data"
    }
   ],
   "source": [
    "# scalar y, level = 0\n",
    "\n",
    "# y>0\n",
    "y_val = 25\n",
    "g_val = 10\n",
    "eta_val = 0\n",
    "a_val = 0.5\n",
    "\n",
    "k_val = k.subs(g, 10).subs(alpha, 0.5)\n",
    "t_val = t.subs(g, 10).subs(alpha, 0.5)\n",
    "\n",
    "cprint(rf\"y={y_val},~\\gamma={g_val},~\\eta={eta_val},~\\alpha={a_val}:\")\n",
    "lzinb = l_ZINB.subs(y, y_val).subs(g, g_val).subs(n, eta_val).subs(a, a_val).evalf()\n",
    "lg = l_g.subs(y, y_val).subs(kappa, k_val).subs(tau, t_val).subs(alpha, a_val).evalf()\n",
    "lgg = l_gg.subs(y, y_val).subs(kappa, k_val).subs(tau, t_val).subs(alpha, a_val).evalf()\n",
    "le = l_e.subs(n, eta_val).evalf()\n",
    "lee = l_ee.subs(n, 0).subs(\"l_eta\", le).evalf()\n",
    "\n",
    "cprint(rf\"\\ell={lzinb:.5f}\")\n",
    "cprint(rf\"\\ell_{{\\gamma}}={lg:.5f}\")\n",
    "cprint(rf\"\\ell_{{\\eta}}={le:.5f}\")\n",
    "cprint(rf\"\\ell_{{\\gamma\\gamma}}={lgg:.5f}\")\n",
    "cprint(rf\"\\ell_{{\\eta\\eta}}={lee:.5f}\")\n",
    "\n",
    "q = 1 - exp(-exp(eta_val))\n",
    "El_gg = (\n",
    "    q\n",
    "    * l_gg.subs(y, t_val * exp(g_val))\n",
    "    .subs(kappa, k_val)\n",
    "    .subs(tau, t_val)\n",
    "    .subs(alpha, a_val)\n",
    "    .evalf()\n",
    ")\n",
    "El_ee = (1 - q) * (-exp(eta_val)) + q * lee\n",
    "\n",
    "cprint(rf\"\\mathbb{{E}}[\\ell_{{\\gamma\\gamma}}]={El_gg:.5f}\")\n",
    "cprint(rf\"\\mathbb{{E}}[\\ell_{{\\eta\\eta}}]={El_ee:.5f}\")"
   ]
  },
  {
   "cell_type": "code",
   "execution_count": 24,
   "id": "9ab75d4a-7a64-4a27-83d5-ba1a33f137f7",
   "metadata": {},
   "outputs": [
    {
     "data": {
      "text/latex": [
       "$\\displaystyle \\ell^{y=0}=[-0.66020, -0.54728, -0.70103, -0.86946, -0.35964, -0.40390, -0.46146, -0.42259, -0.57997, -0.28832]$"
      ],
      "text/plain": [
       "<IPython.core.display.Math object>"
      ]
     },
     "metadata": {},
     "output_type": "display_data"
    },
    {
     "data": {
      "text/latex": [
       "$\\displaystyle \\ell^{y>0}=[-4.86116, -6.74632, -4.38402, -2.18796, -6.95198, -3.48723, -3.63684, -2.01474]$"
      ],
      "text/plain": [
       "<IPython.core.display.Math object>"
      ]
     },
     "metadata": {},
     "output_type": "display_data"
    },
    {
     "data": {
      "text/latex": [
       "$\\displaystyle \\ell^{y=0}_{\\eta}=[-0.66020, -0.54728, -0.70103, -0.86946, -0.35964, -0.40390, -0.46146, -0.42259, -0.57997, -0.28832]$"
      ],
      "text/plain": [
       "<IPython.core.display.Math object>"
      ]
     },
     "metadata": {},
     "output_type": "display_data"
    },
    {
     "data": {
      "text/latex": [
       "$\\displaystyle \\ell^{y=0}_{\\eta\\eta}=[-0.66020, -0.54728, -0.70103, -0.86946, -0.35964, -0.40390, -0.46146, -0.42259, -0.57997, -0.28832]$"
      ],
      "text/plain": [
       "<IPython.core.display.Math object>"
      ]
     },
     "metadata": {},
     "output_type": "display_data"
    },
    {
     "data": {
      "text/latex": [
       "$\\displaystyle \\ell^{y>0}_{\\gamma}=[0.16857, 1.05483, -0.00144, -0.32947, 1.09841, -0.20166, -0.17410, -0.31890]$"
      ],
      "text/plain": [
       "<IPython.core.display.Math object>"
      ]
     },
     "metadata": {},
     "output_type": "display_data"
    },
    {
     "data": {
      "text/latex": [
       "$\\displaystyle \\ell^{y>0}_{\\eta}=[0.65408, 0.45088, 0.80983, 0.72025, 0.31547, 0.72936, 0.42404, 0.60301]$"
      ],
      "text/plain": [
       "<IPython.core.display.Math object>"
      ]
     },
     "metadata": {},
     "output_type": "display_data"
    },
    {
     "data": {
      "text/latex": [
       "$\\displaystyle \\ell^{y>0}_{\\gamma\\gamma}=[-0.43937, -1.29564, -0.28844, 0.03413, -1.33727, -0.08930, -0.09360, 0.03550]$"
      ],
      "text/plain": [
       "<IPython.core.display.Math object>"
      ]
     },
     "metadata": {},
     "output_type": "display_data"
    },
    {
     "data": {
      "text/latex": [
       "$\\displaystyle \\ell^{y>0}_{\\eta\\eta}=[-0.29469, -0.39553, -0.17641, -0.24793, -0.41127, -0.24106, -0.40266, -0.32668]$"
      ],
      "text/plain": [
       "<IPython.core.display.Math object>"
      ]
     },
     "metadata": {},
     "output_type": "display_data"
    },
    {
     "data": {
      "text/latex": [
       "$\\displaystyle \\mathbb{E}[\\ell_{\\gamma\\gamma}]=[-0.15194, -0.13553, -0.20149, -0.11977, -0.09709, -0.14073, -0.15971, -0.13070, -0.22336, -0.08825, -0.09636, -0.12755, -0.10626, -0.20648, -0.09965, -0.16649, -0.12455, -0.07415]$"
      ],
      "text/plain": [
       "<IPython.core.display.Math object>"
      ]
     },
     "metadata": {},
     "output_type": "display_data"
    },
    {
     "data": {
      "text/latex": [
       "$\\displaystyle \\mathbb{E}[\\ell_{\\eta\\eta}]=[-0.52095, -0.46607, -0.64311, -0.41111, -0.33042, -0.48378, -0.54558, -0.44942, -0.62722, -0.29884, -0.32781, -0.43845, -0.36315, -0.64689, -0.33957, -0.56607, -0.42796, -0.24875]$"
      ],
      "text/plain": [
       "<IPython.core.display.Math object>"
      ]
     },
     "metadata": {},
     "output_type": "display_data"
    }
   ],
   "source": [
    "# vector y, level = 0\n",
    "y_val = np.array([15, 0, 60, 0, 7, 0, 0, 1, 78, 0, 0, 4, 0, 7, 0, 1, 0, 0])\n",
    "g_val = np.array(\n",
    "    [\n",
    "        1.3130418,\n",
    "        1.1740350,\n",
    "        1.7447116,\n",
    "        1.0350755,\n",
    "        0.8175248,\n",
    "        1.2184900,\n",
    "        1.3780124,\n",
    "        1.1322345,\n",
    "        1.9907406,\n",
    "        0.7240296,\n",
    "        0.8100226,\n",
    "        1.1046235,\n",
    "        0.9087231,\n",
    "        1.7945166,\n",
    "        0.8435220,\n",
    "        1.4348064,\n",
    "        1.0780594,\n",
    "        0.5603018,\n",
    "    ]\n",
    ")\n",
    "\n",
    "a_val = exp(2)\n",
    "eta_val = -2.0 + np.exp(0.3) * g_val\n",
    "\n",
    "\n",
    "k_val = np.array([k.subs(g, gi).subs(alpha, a_val) for gi in g_val])\n",
    "t_val = np.array([t.subs(g, gi).subs(alpha, a_val) for gi in g_val])\n",
    "\n",
    "zind = y_val == 0\n",
    "l0 = [l0_ZINB.subs(n, ni).evalf() for ni in eta_val[zind]]\n",
    "l = [\n",
    "    l_ZINB.subs(y, yi).subs(g, gi).subs(n, ni).subs(a, a_val).evalf()\n",
    "    for (yi, gi, ni) in zip(y_val[~zind], g_val[~zind], eta_val[~zind])\n",
    "]\n",
    "lg = [\n",
    "    l_g.subs(y, yi).subs(kappa, ki).subs(tau, ti).subs(alpha, a_val).evalf()\n",
    "    for (yi, ki, ti) in zip(y_val[~zind], k_val[~zind], t_val[~zind])\n",
    "]\n",
    "lgg = [\n",
    "    l_gg.subs(y, yi).subs(kappa, ki).subs(tau, ti).subs(alpha, a_val).evalf()\n",
    "    for (yi, ki, ti) in zip(y_val[~zind], k_val[~zind], t_val[~zind])\n",
    "]\n",
    "le = [l_e.subs(n, ni).evalf() for ni in eta_val[~zind]]\n",
    "lee = [\n",
    "    l_ee.subs(n, ni).subs(\"l_eta\", li).evalf() for (ni, li) in zip(eta_val[~zind], le)\n",
    "]\n",
    "# lee = l_ee.subs(n, 0).subs(\"l_eta\", le).evalf()\n",
    "\n",
    "cprint(rf\"\\ell^{{y=0}}={[round(l, 5) for l in l0]}\")\n",
    "cprint(rf\"\\ell^{{y>0}}={[round(l, 5) for l in l]}\")\n",
    "cprint(rf\"\\ell^{{y=0}}_{{\\eta}}={[round(l, 5) for l in l0]}\")\n",
    "cprint(rf\"\\ell^{{y=0}}_{{\\eta\\eta}}={[round(l, 5) for l in l0]}\")\n",
    "cprint(rf\"\\ell^{{y>0}}_{{\\gamma}}={[round(l, 5) for l in lg]}\")\n",
    "cprint(rf\"\\ell^{{y>0}}_{{\\eta}}={[round(l, 5) for l in le]}\")\n",
    "cprint(rf\"\\ell^{{y>0}}_{{\\gamma\\gamma}}={[round(l, 5) for l in lgg]}\")\n",
    "cprint(rf\"\\ell^{{y>0}}_{{\\eta\\eta}}={[round(l, 5) for l in lee]}\")\n",
    "\n",
    "q = 1 - np.exp(-np.exp(eta_val))\n",
    "El_gg = [\n",
    "    (\n",
    "        qi * l_gg.subs(y, ti * exp(gi)).subs(kappa, ki).subs(tau, ti).subs(alpha, a_val)\n",
    "    ).evalf()\n",
    "    for (qi, gi, ki, ti) in zip(q, g_val, k_val, t_val)\n",
    "]\n",
    "let = [l_e.subs(n, ni).evalf() for ni in eta_val]\n",
    "leet = [l_ee.subs(n, ni).subs(\"l_eta\", li).evalf() for (ni, li) in zip(eta_val, let)]\n",
    "El_ee = [(1 - qi) * (-np.exp(ni)) + qi * l for (qi, ni, l) in zip(q, eta_val, leet)]\n",
    "\n",
    "cprint(rf\"\\mathbb{{E}}[\\ell_{{\\gamma\\gamma}}]={[round(l, 5) for l in El_gg]}\")\n",
    "cprint(rf\"\\mathbb{{E}}[\\ell_{{\\eta\\eta}}]={[round(l, 5) for l in El_ee]}\")"
   ]
  }
 ],
 "metadata": {
  "kernelspec": {
   "display_name": "Python 3 (ipykernel)",
   "language": "python",
   "name": "python3"
  },
  "language_info": {
   "codemirror_mode": {
    "name": "ipython",
    "version": 3
   },
   "file_extension": ".py",
   "mimetype": "text/x-python",
   "name": "python",
   "nbconvert_exporter": "python",
   "pygments_lexer": "ipython3",
   "version": "3.10.15"
  }
 },
 "nbformat": 4,
 "nbformat_minor": 5
}
