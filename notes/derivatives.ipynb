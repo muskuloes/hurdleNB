{
 "cells": [
  {
   "cell_type": "code",
   "execution_count": 1,
   "id": "60700f4e-8099-4974-984c-738f786ec5f2",
   "metadata": {},
   "outputs": [],
   "source": [
    "from sympy import *"
   ]
  },
  {
   "cell_type": "markdown",
   "id": "7d4cc949-c6d7-4965-95e9-8ab66078ec09",
   "metadata": {},
   "source": [
    "# Derivaties for the extended GAM implementation"
   ]
  },
  {
   "cell_type": "markdown",
   "id": "1799d688-c3c5-4fbd-b47d-ddc2276fedd8",
   "metadata": {},
   "source": [
    "\\begin{align}\n",
    "y&: y \\\\\n",
    "a&: \\alpha = \\exp(\\theta_{0}) \\\\\n",
    "n&: \\eta \\\\\n",
    "g&: \\gamma \\\\\n",
    "\\end{align}\n",
    "where $\\theta_{0}\\in \\mathbb{R}$ is an unrestricted parameter."
   ]
  },
  {
   "cell_type": "code",
   "execution_count": 2,
   "id": "bc71e175-b1d6-4937-b73c-e179562da425",
   "metadata": {},
   "outputs": [],
   "source": [
    "y, t0, n, g = symbols(\"y, t0, n, g\")\n",
    "a = exp(t0)"
   ]
  },
  {
   "cell_type": "code",
   "execution_count": 3,
   "id": "24b1bd07-5294-45ee-a14f-6cd9524f397e",
   "metadata": {},
   "outputs": [
    {
     "data": {
      "text/latex": [
       "$\\displaystyle g y - y \\log{\\left(e^{g} e^{t_{0}} + 1 \\right)} + y \\log{\\left(e^{t_{0}} \\right)} - \\log{\\left(\\left(e^{g} e^{t_{0}} + 1\\right)^{e^{- t_{0}}} - 1 \\right)} + \\log{\\left(\\Gamma\\left(y + 1\\right) \\right)} + \\log{\\left(\\Gamma\\left(y + e^{- t_{0}}\\right) \\right)} - \\log{\\left(\\Gamma\\left(e^{- t_{0}}\\right) \\right)}$"
      ],
      "text/plain": [
       "g*y - y*log(exp(g)*exp(t0) + 1) + y*log(exp(t0)) - log((exp(g)*exp(t0) + 1)**exp(-t0) - 1) + log(gamma(y + 1)) + log(gamma(y + exp(-t0))) - log(gamma(exp(-t0)))"
      ]
     },
     "execution_count": 3,
     "metadata": {},
     "output_type": "execute_result"
    }
   ],
   "source": [
    "l_ZTNB = (\n",
    "    y * log(a)\n",
    "    + y * g\n",
    "    - y * log(1 + a * exp(g))\n",
    "    + log(gamma(y + 1 / a))\n",
    "    + log(gamma(y + 1))\n",
    "    - log(gamma(1 / a))\n",
    "    - log(((1 + a * exp(g)) ** (1 / a)) - 1)\n",
    ")\n",
    "l_ZTNB"
   ]
  },
  {
   "cell_type": "code",
   "execution_count": 4,
   "id": "4bf0931d-6396-4652-8b1a-af3e66eb6aa9",
   "metadata": {},
   "outputs": [
    {
     "data": {
      "text/latex": [
       "$\\displaystyle g y - y \\log{\\left(e^{g} e^{t_{0}} + 1 \\right)} + y \\log{\\left(e^{t_{0}} \\right)} + \\log{\\left(1 - e^{- e^{n}} \\right)} - \\log{\\left(\\left(e^{g} e^{t_{0}} + 1\\right)^{e^{- t_{0}}} - 1 \\right)} + \\log{\\left(\\Gamma\\left(y + 1\\right) \\right)} + \\log{\\left(\\Gamma\\left(y + e^{- t_{0}}\\right) \\right)} - \\log{\\left(\\Gamma\\left(e^{- t_{0}}\\right) \\right)}$"
      ],
      "text/plain": [
       "g*y - y*log(exp(g)*exp(t0) + 1) + y*log(exp(t0)) + log(1 - exp(-exp(n))) - log((exp(g)*exp(t0) + 1)**exp(-t0) - 1) + log(gamma(y + 1)) + log(gamma(y + exp(-t0))) - log(gamma(exp(-t0)))"
      ]
     },
     "execution_count": 4,
     "metadata": {},
     "output_type": "execute_result"
    }
   ],
   "source": [
    "# for y == 0\n",
    "l0_ZINB = -exp(n)\n",
    "# for y > 0\n",
    "l_ZINB = log(1 - exp(-exp(n))) + l_ZTNB\n",
    "\n",
    "l_ZINB"
   ]
  },
  {
   "cell_type": "markdown",
   "id": "6ced3a5e-08b9-4b46-93aa-b3a980fcc1ab",
   "metadata": {},
   "source": [
    "## Derivatives"
   ]
  },
  {
   "cell_type": "markdown",
   "id": "e3dbb424-b147-4408-a149-4c5af2e52ac1",
   "metadata": {},
   "source": [
    "#### w.r.t. $\\eta$"
   ]
  },
  {
   "cell_type": "code",
   "execution_count": 5,
   "id": "1c1c94a6-2b36-4aa5-87ba-72583096462c",
   "metadata": {},
   "outputs": [
    {
     "data": {
      "text/latex": [
       "$\\displaystyle \\frac{e^{n} e^{- e^{n}}}{1 - e^{- e^{n}}}$"
      ],
      "text/plain": [
       "exp(n)*exp(-exp(n))/(1 - exp(-exp(n)))"
      ]
     },
     "execution_count": 5,
     "metadata": {},
     "output_type": "execute_result"
    }
   ],
   "source": [
    "l_ZINB.diff(n, 1)"
   ]
  },
  {
   "cell_type": "code",
   "execution_count": 6,
   "id": "9e5858f0-5171-40e0-aa86-3c0a9081344e",
   "metadata": {},
   "outputs": [
    {
     "data": {
      "text/latex": [
       "$\\displaystyle \\frac{\\left(- e^{n} + 1 - \\frac{e^{n} e^{- e^{n}}}{1 - e^{- e^{n}}}\\right) e^{n} e^{- e^{n}}}{1 - e^{- e^{n}}}$"
      ],
      "text/plain": [
       "(-exp(n) + 1 - exp(n)*exp(-exp(n))/(1 - exp(-exp(n))))*exp(n)*exp(-exp(n))/(1 - exp(-exp(n)))"
      ]
     },
     "execution_count": 6,
     "metadata": {},
     "output_type": "execute_result"
    }
   ],
   "source": [
    "l_ZINB.diff(n, 2)"
   ]
  },
  {
   "cell_type": "code",
   "execution_count": 7,
   "id": "e6439f28-8791-4c0a-b79f-a2c08c14b938",
   "metadata": {},
   "outputs": [
    {
     "data": {
      "text/latex": [
       "$\\displaystyle \\frac{\\left(e^{2 n} - 3 e^{n} + 1 + \\frac{3 e^{2 n} e^{- e^{n}}}{1 - e^{- e^{n}}} - \\frac{3 e^{n} e^{- e^{n}}}{1 - e^{- e^{n}}} + \\frac{2 e^{2 n} e^{- 2 e^{n}}}{\\left(1 - e^{- e^{n}}\\right)^{2}}\\right) e^{n} e^{- e^{n}}}{1 - e^{- e^{n}}}$"
      ],
      "text/plain": [
       "(exp(2*n) - 3*exp(n) + 1 + 3*exp(2*n)*exp(-exp(n))/(1 - exp(-exp(n))) - 3*exp(n)*exp(-exp(n))/(1 - exp(-exp(n))) + 2*exp(2*n)*exp(-2*exp(n))/(1 - exp(-exp(n)))**2)*exp(n)*exp(-exp(n))/(1 - exp(-exp(n)))"
      ]
     },
     "execution_count": 7,
     "metadata": {},
     "output_type": "execute_result"
    }
   ],
   "source": [
    "l_ZINB.diff(n, 3)"
   ]
  },
  {
   "cell_type": "code",
   "execution_count": 8,
   "id": "51f17d35-a86a-4d85-a3e3-e014022ab3c8",
   "metadata": {},
   "outputs": [
    {
     "data": {
      "text/latex": [
       "$\\displaystyle \\frac{\\left(- e^{3 n} + 6 e^{2 n} - 7 e^{n} + 1 - \\frac{7 e^{3 n} e^{- e^{n}}}{1 - e^{- e^{n}}} + \\frac{18 e^{2 n} e^{- e^{n}}}{1 - e^{- e^{n}}} - \\frac{7 e^{n} e^{- e^{n}}}{1 - e^{- e^{n}}} - \\frac{12 e^{3 n} e^{- 2 e^{n}}}{\\left(1 - e^{- e^{n}}\\right)^{2}} + \\frac{12 e^{2 n} e^{- 2 e^{n}}}{\\left(1 - e^{- e^{n}}\\right)^{2}} - \\frac{6 e^{3 n} e^{- 3 e^{n}}}{\\left(1 - e^{- e^{n}}\\right)^{3}}\\right) e^{n} e^{- e^{n}}}{1 - e^{- e^{n}}}$"
      ],
      "text/plain": [
       "(-exp(3*n) + 6*exp(2*n) - 7*exp(n) + 1 - 7*exp(3*n)*exp(-exp(n))/(1 - exp(-exp(n))) + 18*exp(2*n)*exp(-exp(n))/(1 - exp(-exp(n))) - 7*exp(n)*exp(-exp(n))/(1 - exp(-exp(n))) - 12*exp(3*n)*exp(-2*exp(n))/(1 - exp(-exp(n)))**2 + 12*exp(2*n)*exp(-2*exp(n))/(1 - exp(-exp(n)))**2 - 6*exp(3*n)*exp(-3*exp(n))/(1 - exp(-exp(n)))**3)*exp(n)*exp(-exp(n))/(1 - exp(-exp(n)))"
      ]
     },
     "execution_count": 8,
     "metadata": {},
     "output_type": "execute_result"
    }
   ],
   "source": [
    "l_ZINB.diff(n, 4)"
   ]
  },
  {
   "cell_type": "markdown",
   "id": "242f9346-a418-45e7-8603-bafeb089193f",
   "metadata": {},
   "source": [
    "#### w.r.t. $\\gamma$"
   ]
  },
  {
   "cell_type": "code",
   "execution_count": 9,
   "id": "a8bd8f39-7d75-417c-874a-545ffb6e3043",
   "metadata": {},
   "outputs": [
    {
     "data": {
      "text/latex": [
       "$\\displaystyle y - \\frac{y e^{g} e^{t_{0}}}{e^{g} e^{t_{0}} + 1} - \\frac{\\left(e^{g} e^{t_{0}} + 1\\right)^{e^{- t_{0}}} e^{g}}{\\left(e^{g} e^{t_{0}} + 1\\right) \\left(\\left(e^{g} e^{t_{0}} + 1\\right)^{e^{- t_{0}}} - 1\\right)}$"
      ],
      "text/plain": [
       "y - y*exp(g)*exp(t0)/(exp(g)*exp(t0) + 1) - (exp(g)*exp(t0) + 1)**exp(-t0)*exp(g)/((exp(g)*exp(t0) + 1)*((exp(g)*exp(t0) + 1)**exp(-t0) - 1))"
      ]
     },
     "execution_count": 9,
     "metadata": {},
     "output_type": "execute_result"
    }
   ],
   "source": [
    "l_ZINB.diff(g, 1)"
   ]
  },
  {
   "cell_type": "code",
   "execution_count": 10,
   "id": "4e94ac8f-048b-47c6-a66c-6bc600766412",
   "metadata": {},
   "outputs": [
    {
     "data": {
      "text/latex": [
       "$\\displaystyle \\frac{\\left(- y e^{t_{0}} + \\frac{y e^{g} e^{2 t_{0}}}{e^{g} e^{t_{0}} + 1} - \\frac{\\left(e^{g} e^{t_{0}} + 1\\right)^{e^{- t_{0}}}}{\\left(e^{g} e^{t_{0}} + 1\\right)^{e^{- t_{0}}} - 1} + \\frac{\\left(e^{g} e^{t_{0}} + 1\\right)^{2 e^{- t_{0}}} e^{g}}{\\left(e^{g} e^{t_{0}} + 1\\right) \\left(\\left(e^{g} e^{t_{0}} + 1\\right)^{e^{- t_{0}}} - 1\\right)^{2}} + \\frac{\\left(e^{g} e^{t_{0}} + 1\\right)^{e^{- t_{0}}} e^{g} e^{t_{0}}}{\\left(e^{g} e^{t_{0}} + 1\\right) \\left(\\left(e^{g} e^{t_{0}} + 1\\right)^{e^{- t_{0}}} - 1\\right)} - \\frac{\\left(e^{g} e^{t_{0}} + 1\\right)^{e^{- t_{0}}} e^{g}}{\\left(e^{g} e^{t_{0}} + 1\\right) \\left(\\left(e^{g} e^{t_{0}} + 1\\right)^{e^{- t_{0}}} - 1\\right)}\\right) e^{g}}{e^{g} e^{t_{0}} + 1}$"
      ],
      "text/plain": [
       "(-y*exp(t0) + y*exp(g)*exp(2*t0)/(exp(g)*exp(t0) + 1) - (exp(g)*exp(t0) + 1)**exp(-t0)/((exp(g)*exp(t0) + 1)**exp(-t0) - 1) + (exp(g)*exp(t0) + 1)**(2*exp(-t0))*exp(g)/((exp(g)*exp(t0) + 1)*((exp(g)*exp(t0) + 1)**exp(-t0) - 1)**2) + (exp(g)*exp(t0) + 1)**exp(-t0)*exp(g)*exp(t0)/((exp(g)*exp(t0) + 1)*((exp(g)*exp(t0) + 1)**exp(-t0) - 1)) - (exp(g)*exp(t0) + 1)**exp(-t0)*exp(g)/((exp(g)*exp(t0) + 1)*((exp(g)*exp(t0) + 1)**exp(-t0) - 1)))*exp(g)/(exp(g)*exp(t0) + 1)"
      ]
     },
     "execution_count": 10,
     "metadata": {},
     "output_type": "execute_result"
    }
   ],
   "source": [
    "l_ZINB.diff(g, 2)"
   ]
  },
  {
   "cell_type": "code",
   "execution_count": 11,
   "id": "bf9f4117-d8eb-4bc1-8fa1-a21ed6adc7da",
   "metadata": {},
   "outputs": [
    {
     "data": {
      "text/latex": [
       "$\\displaystyle \\frac{\\left(- y e^{t_{0}} + \\frac{3 y e^{g} e^{2 t_{0}}}{e^{g} e^{t_{0}} + 1} - \\frac{2 y e^{2 g} e^{3 t_{0}}}{\\left(e^{g} e^{t_{0}} + 1\\right)^{2}} - \\frac{\\left(e^{g} e^{t_{0}} + 1\\right)^{e^{- t_{0}}}}{\\left(e^{g} e^{t_{0}} + 1\\right)^{e^{- t_{0}}} - 1} + \\frac{3 \\left(e^{g} e^{t_{0}} + 1\\right)^{2 e^{- t_{0}}} e^{g}}{\\left(e^{g} e^{t_{0}} + 1\\right) \\left(\\left(e^{g} e^{t_{0}} + 1\\right)^{e^{- t_{0}}} - 1\\right)^{2}} + \\frac{3 \\left(e^{g} e^{t_{0}} + 1\\right)^{e^{- t_{0}}} e^{g} e^{t_{0}}}{\\left(e^{g} e^{t_{0}} + 1\\right) \\left(\\left(e^{g} e^{t_{0}} + 1\\right)^{e^{- t_{0}}} - 1\\right)} - \\frac{3 \\left(e^{g} e^{t_{0}} + 1\\right)^{e^{- t_{0}}} e^{g}}{\\left(e^{g} e^{t_{0}} + 1\\right) \\left(\\left(e^{g} e^{t_{0}} + 1\\right)^{e^{- t_{0}}} - 1\\right)} - \\frac{2 \\left(e^{g} e^{t_{0}} + 1\\right)^{3 e^{- t_{0}}} e^{2 g}}{\\left(e^{g} e^{t_{0}} + 1\\right)^{2} \\left(\\left(e^{g} e^{t_{0}} + 1\\right)^{e^{- t_{0}}} - 1\\right)^{3}} - \\frac{3 \\left(e^{g} e^{t_{0}} + 1\\right)^{2 e^{- t_{0}}} e^{2 g} e^{t_{0}}}{\\left(e^{g} e^{t_{0}} + 1\\right)^{2} \\left(\\left(e^{g} e^{t_{0}} + 1\\right)^{e^{- t_{0}}} - 1\\right)^{2}} + \\frac{3 \\left(e^{g} e^{t_{0}} + 1\\right)^{2 e^{- t_{0}}} e^{2 g}}{\\left(e^{g} e^{t_{0}} + 1\\right)^{2} \\left(\\left(e^{g} e^{t_{0}} + 1\\right)^{e^{- t_{0}}} - 1\\right)^{2}} - \\frac{2 \\left(e^{g} e^{t_{0}} + 1\\right)^{e^{- t_{0}}} e^{2 g} e^{2 t_{0}}}{\\left(e^{g} e^{t_{0}} + 1\\right)^{2} \\left(\\left(e^{g} e^{t_{0}} + 1\\right)^{e^{- t_{0}}} - 1\\right)} + \\frac{3 \\left(e^{g} e^{t_{0}} + 1\\right)^{e^{- t_{0}}} e^{2 g} e^{t_{0}}}{\\left(e^{g} e^{t_{0}} + 1\\right)^{2} \\left(\\left(e^{g} e^{t_{0}} + 1\\right)^{e^{- t_{0}}} - 1\\right)} - \\frac{\\left(e^{g} e^{t_{0}} + 1\\right)^{e^{- t_{0}}} e^{2 g}}{\\left(e^{g} e^{t_{0}} + 1\\right)^{2} \\left(\\left(e^{g} e^{t_{0}} + 1\\right)^{e^{- t_{0}}} - 1\\right)}\\right) e^{g}}{e^{g} e^{t_{0}} + 1}$"
      ],
      "text/plain": [
       "(-y*exp(t0) + 3*y*exp(g)*exp(2*t0)/(exp(g)*exp(t0) + 1) - 2*y*exp(2*g)*exp(3*t0)/(exp(g)*exp(t0) + 1)**2 - (exp(g)*exp(t0) + 1)**exp(-t0)/((exp(g)*exp(t0) + 1)**exp(-t0) - 1) + 3*(exp(g)*exp(t0) + 1)**(2*exp(-t0))*exp(g)/((exp(g)*exp(t0) + 1)*((exp(g)*exp(t0) + 1)**exp(-t0) - 1)**2) + 3*(exp(g)*exp(t0) + 1)**exp(-t0)*exp(g)*exp(t0)/((exp(g)*exp(t0) + 1)*((exp(g)*exp(t0) + 1)**exp(-t0) - 1)) - 3*(exp(g)*exp(t0) + 1)**exp(-t0)*exp(g)/((exp(g)*exp(t0) + 1)*((exp(g)*exp(t0) + 1)**exp(-t0) - 1)) - 2*(exp(g)*exp(t0) + 1)**(3*exp(-t0))*exp(2*g)/((exp(g)*exp(t0) + 1)**2*((exp(g)*exp(t0) + 1)**exp(-t0) - 1)**3) - 3*(exp(g)*exp(t0) + 1)**(2*exp(-t0))*exp(2*g)*exp(t0)/((exp(g)*exp(t0) + 1)**2*((exp(g)*exp(t0) + 1)**exp(-t0) - 1)**2) + 3*(exp(g)*exp(t0) + 1)**(2*exp(-t0))*exp(2*g)/((exp(g)*exp(t0) + 1)**2*((exp(g)*exp(t0) + 1)**exp(-t0) - 1)**2) - 2*(exp(g)*exp(t0) + 1)**exp(-t0)*exp(2*g)*exp(2*t0)/((exp(g)*exp(t0) + 1)**2*((exp(g)*exp(t0) + 1)**exp(-t0) - 1)) + 3*(exp(g)*exp(t0) + 1)**exp(-t0)*exp(2*g)*exp(t0)/((exp(g)*exp(t0) + 1)**2*((exp(g)*exp(t0) + 1)**exp(-t0) - 1)) - (exp(g)*exp(t0) + 1)**exp(-t0)*exp(2*g)/((exp(g)*exp(t0) + 1)**2*((exp(g)*exp(t0) + 1)**exp(-t0) - 1)))*exp(g)/(exp(g)*exp(t0) + 1)"
      ]
     },
     "execution_count": 11,
     "metadata": {},
     "output_type": "execute_result"
    }
   ],
   "source": [
    "l_ZINB.diff(g, 3)"
   ]
  },
  {
   "cell_type": "code",
   "execution_count": 12,
   "id": "b6eb44eb-c9c4-4ad1-a2fa-d38d8e74d615",
   "metadata": {},
   "outputs": [
    {
     "data": {
      "text/latex": [
       "$\\displaystyle \\frac{\\left(- y e^{t_{0}} + \\frac{7 y e^{g} e^{2 t_{0}}}{e^{g} e^{t_{0}} + 1} - \\frac{12 y e^{2 g} e^{3 t_{0}}}{\\left(e^{g} e^{t_{0}} + 1\\right)^{2}} + \\frac{6 y e^{3 g} e^{4 t_{0}}}{\\left(e^{g} e^{t_{0}} + 1\\right)^{3}} - \\frac{\\left(e^{g} e^{t_{0}} + 1\\right)^{e^{- t_{0}}}}{\\left(e^{g} e^{t_{0}} + 1\\right)^{e^{- t_{0}}} - 1} + \\frac{7 \\left(e^{g} e^{t_{0}} + 1\\right)^{2 e^{- t_{0}}} e^{g}}{\\left(e^{g} e^{t_{0}} + 1\\right) \\left(\\left(e^{g} e^{t_{0}} + 1\\right)^{e^{- t_{0}}} - 1\\right)^{2}} + \\frac{7 \\left(e^{g} e^{t_{0}} + 1\\right)^{e^{- t_{0}}} e^{g} e^{t_{0}}}{\\left(e^{g} e^{t_{0}} + 1\\right) \\left(\\left(e^{g} e^{t_{0}} + 1\\right)^{e^{- t_{0}}} - 1\\right)} - \\frac{7 \\left(e^{g} e^{t_{0}} + 1\\right)^{e^{- t_{0}}} e^{g}}{\\left(e^{g} e^{t_{0}} + 1\\right) \\left(\\left(e^{g} e^{t_{0}} + 1\\right)^{e^{- t_{0}}} - 1\\right)} - \\frac{12 \\left(e^{g} e^{t_{0}} + 1\\right)^{3 e^{- t_{0}}} e^{2 g}}{\\left(e^{g} e^{t_{0}} + 1\\right)^{2} \\left(\\left(e^{g} e^{t_{0}} + 1\\right)^{e^{- t_{0}}} - 1\\right)^{3}} - \\frac{18 \\left(e^{g} e^{t_{0}} + 1\\right)^{2 e^{- t_{0}}} e^{2 g} e^{t_{0}}}{\\left(e^{g} e^{t_{0}} + 1\\right)^{2} \\left(\\left(e^{g} e^{t_{0}} + 1\\right)^{e^{- t_{0}}} - 1\\right)^{2}} + \\frac{18 \\left(e^{g} e^{t_{0}} + 1\\right)^{2 e^{- t_{0}}} e^{2 g}}{\\left(e^{g} e^{t_{0}} + 1\\right)^{2} \\left(\\left(e^{g} e^{t_{0}} + 1\\right)^{e^{- t_{0}}} - 1\\right)^{2}} - \\frac{12 \\left(e^{g} e^{t_{0}} + 1\\right)^{e^{- t_{0}}} e^{2 g} e^{2 t_{0}}}{\\left(e^{g} e^{t_{0}} + 1\\right)^{2} \\left(\\left(e^{g} e^{t_{0}} + 1\\right)^{e^{- t_{0}}} - 1\\right)} + \\frac{18 \\left(e^{g} e^{t_{0}} + 1\\right)^{e^{- t_{0}}} e^{2 g} e^{t_{0}}}{\\left(e^{g} e^{t_{0}} + 1\\right)^{2} \\left(\\left(e^{g} e^{t_{0}} + 1\\right)^{e^{- t_{0}}} - 1\\right)} - \\frac{6 \\left(e^{g} e^{t_{0}} + 1\\right)^{e^{- t_{0}}} e^{2 g}}{\\left(e^{g} e^{t_{0}} + 1\\right)^{2} \\left(\\left(e^{g} e^{t_{0}} + 1\\right)^{e^{- t_{0}}} - 1\\right)} + \\frac{6 \\left(e^{g} e^{t_{0}} + 1\\right)^{4 e^{- t_{0}}} e^{3 g}}{\\left(e^{g} e^{t_{0}} + 1\\right)^{3} \\left(\\left(e^{g} e^{t_{0}} + 1\\right)^{e^{- t_{0}}} - 1\\right)^{4}} + \\frac{12 \\left(e^{g} e^{t_{0}} + 1\\right)^{3 e^{- t_{0}}} e^{3 g} e^{t_{0}}}{\\left(e^{g} e^{t_{0}} + 1\\right)^{3} \\left(\\left(e^{g} e^{t_{0}} + 1\\right)^{e^{- t_{0}}} - 1\\right)^{3}} - \\frac{12 \\left(e^{g} e^{t_{0}} + 1\\right)^{3 e^{- t_{0}}} e^{3 g}}{\\left(e^{g} e^{t_{0}} + 1\\right)^{3} \\left(\\left(e^{g} e^{t_{0}} + 1\\right)^{e^{- t_{0}}} - 1\\right)^{3}} + \\frac{11 \\left(e^{g} e^{t_{0}} + 1\\right)^{2 e^{- t_{0}}} e^{3 g} e^{2 t_{0}}}{\\left(e^{g} e^{t_{0}} + 1\\right)^{3} \\left(\\left(e^{g} e^{t_{0}} + 1\\right)^{e^{- t_{0}}} - 1\\right)^{2}} - \\frac{18 \\left(e^{g} e^{t_{0}} + 1\\right)^{2 e^{- t_{0}}} e^{3 g} e^{t_{0}}}{\\left(e^{g} e^{t_{0}} + 1\\right)^{3} \\left(\\left(e^{g} e^{t_{0}} + 1\\right)^{e^{- t_{0}}} - 1\\right)^{2}} + \\frac{7 \\left(e^{g} e^{t_{0}} + 1\\right)^{2 e^{- t_{0}}} e^{3 g}}{\\left(e^{g} e^{t_{0}} + 1\\right)^{3} \\left(\\left(e^{g} e^{t_{0}} + 1\\right)^{e^{- t_{0}}} - 1\\right)^{2}} + \\frac{6 \\left(e^{g} e^{t_{0}} + 1\\right)^{e^{- t_{0}}} e^{3 g} e^{3 t_{0}}}{\\left(e^{g} e^{t_{0}} + 1\\right)^{3} \\left(\\left(e^{g} e^{t_{0}} + 1\\right)^{e^{- t_{0}}} - 1\\right)} - \\frac{11 \\left(e^{g} e^{t_{0}} + 1\\right)^{e^{- t_{0}}} e^{3 g} e^{2 t_{0}}}{\\left(e^{g} e^{t_{0}} + 1\\right)^{3} \\left(\\left(e^{g} e^{t_{0}} + 1\\right)^{e^{- t_{0}}} - 1\\right)} + \\frac{6 \\left(e^{g} e^{t_{0}} + 1\\right)^{e^{- t_{0}}} e^{3 g} e^{t_{0}}}{\\left(e^{g} e^{t_{0}} + 1\\right)^{3} \\left(\\left(e^{g} e^{t_{0}} + 1\\right)^{e^{- t_{0}}} - 1\\right)} - \\frac{\\left(e^{g} e^{t_{0}} + 1\\right)^{e^{- t_{0}}} e^{3 g}}{\\left(e^{g} e^{t_{0}} + 1\\right)^{3} \\left(\\left(e^{g} e^{t_{0}} + 1\\right)^{e^{- t_{0}}} - 1\\right)}\\right) e^{g}}{e^{g} e^{t_{0}} + 1}$"
      ],
      "text/plain": [
       "(-y*exp(t0) + 7*y*exp(g)*exp(2*t0)/(exp(g)*exp(t0) + 1) - 12*y*exp(2*g)*exp(3*t0)/(exp(g)*exp(t0) + 1)**2 + 6*y*exp(3*g)*exp(4*t0)/(exp(g)*exp(t0) + 1)**3 - (exp(g)*exp(t0) + 1)**exp(-t0)/((exp(g)*exp(t0) + 1)**exp(-t0) - 1) + 7*(exp(g)*exp(t0) + 1)**(2*exp(-t0))*exp(g)/((exp(g)*exp(t0) + 1)*((exp(g)*exp(t0) + 1)**exp(-t0) - 1)**2) + 7*(exp(g)*exp(t0) + 1)**exp(-t0)*exp(g)*exp(t0)/((exp(g)*exp(t0) + 1)*((exp(g)*exp(t0) + 1)**exp(-t0) - 1)) - 7*(exp(g)*exp(t0) + 1)**exp(-t0)*exp(g)/((exp(g)*exp(t0) + 1)*((exp(g)*exp(t0) + 1)**exp(-t0) - 1)) - 12*(exp(g)*exp(t0) + 1)**(3*exp(-t0))*exp(2*g)/((exp(g)*exp(t0) + 1)**2*((exp(g)*exp(t0) + 1)**exp(-t0) - 1)**3) - 18*(exp(g)*exp(t0) + 1)**(2*exp(-t0))*exp(2*g)*exp(t0)/((exp(g)*exp(t0) + 1)**2*((exp(g)*exp(t0) + 1)**exp(-t0) - 1)**2) + 18*(exp(g)*exp(t0) + 1)**(2*exp(-t0))*exp(2*g)/((exp(g)*exp(t0) + 1)**2*((exp(g)*exp(t0) + 1)**exp(-t0) - 1)**2) - 12*(exp(g)*exp(t0) + 1)**exp(-t0)*exp(2*g)*exp(2*t0)/((exp(g)*exp(t0) + 1)**2*((exp(g)*exp(t0) + 1)**exp(-t0) - 1)) + 18*(exp(g)*exp(t0) + 1)**exp(-t0)*exp(2*g)*exp(t0)/((exp(g)*exp(t0) + 1)**2*((exp(g)*exp(t0) + 1)**exp(-t0) - 1)) - 6*(exp(g)*exp(t0) + 1)**exp(-t0)*exp(2*g)/((exp(g)*exp(t0) + 1)**2*((exp(g)*exp(t0) + 1)**exp(-t0) - 1)) + 6*(exp(g)*exp(t0) + 1)**(4*exp(-t0))*exp(3*g)/((exp(g)*exp(t0) + 1)**3*((exp(g)*exp(t0) + 1)**exp(-t0) - 1)**4) + 12*(exp(g)*exp(t0) + 1)**(3*exp(-t0))*exp(3*g)*exp(t0)/((exp(g)*exp(t0) + 1)**3*((exp(g)*exp(t0) + 1)**exp(-t0) - 1)**3) - 12*(exp(g)*exp(t0) + 1)**(3*exp(-t0))*exp(3*g)/((exp(g)*exp(t0) + 1)**3*((exp(g)*exp(t0) + 1)**exp(-t0) - 1)**3) + 11*(exp(g)*exp(t0) + 1)**(2*exp(-t0))*exp(3*g)*exp(2*t0)/((exp(g)*exp(t0) + 1)**3*((exp(g)*exp(t0) + 1)**exp(-t0) - 1)**2) - 18*(exp(g)*exp(t0) + 1)**(2*exp(-t0))*exp(3*g)*exp(t0)/((exp(g)*exp(t0) + 1)**3*((exp(g)*exp(t0) + 1)**exp(-t0) - 1)**2) + 7*(exp(g)*exp(t0) + 1)**(2*exp(-t0))*exp(3*g)/((exp(g)*exp(t0) + 1)**3*((exp(g)*exp(t0) + 1)**exp(-t0) - 1)**2) + 6*(exp(g)*exp(t0) + 1)**exp(-t0)*exp(3*g)*exp(3*t0)/((exp(g)*exp(t0) + 1)**3*((exp(g)*exp(t0) + 1)**exp(-t0) - 1)) - 11*(exp(g)*exp(t0) + 1)**exp(-t0)*exp(3*g)*exp(2*t0)/((exp(g)*exp(t0) + 1)**3*((exp(g)*exp(t0) + 1)**exp(-t0) - 1)) + 6*(exp(g)*exp(t0) + 1)**exp(-t0)*exp(3*g)*exp(t0)/((exp(g)*exp(t0) + 1)**3*((exp(g)*exp(t0) + 1)**exp(-t0) - 1)) - (exp(g)*exp(t0) + 1)**exp(-t0)*exp(3*g)/((exp(g)*exp(t0) + 1)**3*((exp(g)*exp(t0) + 1)**exp(-t0) - 1)))*exp(g)/(exp(g)*exp(t0) + 1)"
      ]
     },
     "execution_count": 12,
     "metadata": {},
     "output_type": "execute_result"
    }
   ],
   "source": [
    "l_ZINB.diff(g, 4)"
   ]
  },
  {
   "cell_type": "markdown",
   "id": "3c422df3-5355-458b-b970-a14204726dce",
   "metadata": {},
   "source": [
    "#### w.r.t. $\\theta_0$"
   ]
  },
  {
   "cell_type": "code",
   "execution_count": 13,
   "id": "4819a8d7-aaa7-4871-a148-a974ce749346",
   "metadata": {},
   "outputs": [
    {
     "data": {
      "text/latex": [
       "$\\displaystyle y - \\frac{y e^{g} e^{t_{0}}}{e^{g} e^{t_{0}} + 1} - \\frac{\\left(e^{g} e^{t_{0}} + 1\\right)^{e^{- t_{0}}} \\left(- e^{- t_{0}} \\log{\\left(e^{g} e^{t_{0}} + 1 \\right)} + \\frac{e^{g}}{e^{g} e^{t_{0}} + 1}\\right)}{\\left(e^{g} e^{t_{0}} + 1\\right)^{e^{- t_{0}}} - 1} - e^{- t_{0}} \\operatorname{polygamma}{\\left(0,y + e^{- t_{0}} \\right)} + e^{- t_{0}} \\operatorname{polygamma}{\\left(0,e^{- t_{0}} \\right)}$"
      ],
      "text/plain": [
       "y - y*exp(g)*exp(t0)/(exp(g)*exp(t0) + 1) - (exp(g)*exp(t0) + 1)**exp(-t0)*(-exp(-t0)*log(exp(g)*exp(t0) + 1) + exp(g)/(exp(g)*exp(t0) + 1))/((exp(g)*exp(t0) + 1)**exp(-t0) - 1) - exp(-t0)*polygamma(0, y + exp(-t0)) + exp(-t0)*polygamma(0, exp(-t0))"
      ]
     },
     "execution_count": 13,
     "metadata": {},
     "output_type": "execute_result"
    }
   ],
   "source": [
    "l_ZINB.diff(t0, 1)"
   ]
  },
  {
   "cell_type": "code",
   "execution_count": 14,
   "id": "02bb1fde-8a05-4d67-a7b9-e18175183b84",
   "metadata": {},
   "outputs": [
    {
     "data": {
      "text/latex": [
       "$\\displaystyle - \\frac{y e^{g} e^{t_{0}}}{e^{g} e^{t_{0}} + 1} + \\frac{y e^{2 g} e^{2 t_{0}}}{\\left(e^{g} e^{t_{0}} + 1\\right)^{2}} + \\frac{\\left(e^{g} e^{t_{0}} + 1\\right)^{2 e^{- t_{0}}} \\left(e^{- t_{0}} \\log{\\left(e^{g} e^{t_{0}} + 1 \\right)} - \\frac{e^{g}}{e^{g} e^{t_{0}} + 1}\\right)^{2}}{\\left(\\left(e^{g} e^{t_{0}} + 1\\right)^{e^{- t_{0}}} - 1\\right)^{2}} - \\frac{\\left(e^{g} e^{t_{0}} + 1\\right)^{e^{- t_{0}}} \\left(e^{- t_{0}} \\log{\\left(e^{g} e^{t_{0}} + 1 \\right)} - \\frac{e^{g}}{e^{g} e^{t_{0}} + 1}\\right)^{2}}{\\left(e^{g} e^{t_{0}} + 1\\right)^{e^{- t_{0}}} - 1} + \\frac{\\left(e^{g} e^{t_{0}} + 1\\right)^{e^{- t_{0}}} \\left(- e^{- t_{0}} \\log{\\left(e^{g} e^{t_{0}} + 1 \\right)} + \\frac{e^{g}}{e^{g} e^{t_{0}} + 1} + \\frac{e^{2 g} e^{t_{0}}}{\\left(e^{g} e^{t_{0}} + 1\\right)^{2}}\\right)}{\\left(e^{g} e^{t_{0}} + 1\\right)^{e^{- t_{0}}} - 1} + e^{- t_{0}} \\operatorname{polygamma}{\\left(0,y + e^{- t_{0}} \\right)} - e^{- t_{0}} \\operatorname{polygamma}{\\left(0,e^{- t_{0}} \\right)} + e^{- 2 t_{0}} \\operatorname{polygamma}{\\left(1,y + e^{- t_{0}} \\right)} - e^{- 2 t_{0}} \\operatorname{polygamma}{\\left(1,e^{- t_{0}} \\right)}$"
      ],
      "text/plain": [
       "-y*exp(g)*exp(t0)/(exp(g)*exp(t0) + 1) + y*exp(2*g)*exp(2*t0)/(exp(g)*exp(t0) + 1)**2 + (exp(g)*exp(t0) + 1)**(2*exp(-t0))*(exp(-t0)*log(exp(g)*exp(t0) + 1) - exp(g)/(exp(g)*exp(t0) + 1))**2/((exp(g)*exp(t0) + 1)**exp(-t0) - 1)**2 - (exp(g)*exp(t0) + 1)**exp(-t0)*(exp(-t0)*log(exp(g)*exp(t0) + 1) - exp(g)/(exp(g)*exp(t0) + 1))**2/((exp(g)*exp(t0) + 1)**exp(-t0) - 1) + (exp(g)*exp(t0) + 1)**exp(-t0)*(-exp(-t0)*log(exp(g)*exp(t0) + 1) + exp(g)/(exp(g)*exp(t0) + 1) + exp(2*g)*exp(t0)/(exp(g)*exp(t0) + 1)**2)/((exp(g)*exp(t0) + 1)**exp(-t0) - 1) + exp(-t0)*polygamma(0, y + exp(-t0)) - exp(-t0)*polygamma(0, exp(-t0)) + exp(-2*t0)*polygamma(1, y + exp(-t0)) - exp(-2*t0)*polygamma(1, exp(-t0))"
      ]
     },
     "execution_count": 14,
     "metadata": {},
     "output_type": "execute_result"
    }
   ],
   "source": [
    "l_ZINB.diff(t0, 2)"
   ]
  },
  {
   "cell_type": "markdown",
   "id": "eebc07d1-e6f0-43db-935d-3f700ddf12df",
   "metadata": {},
   "source": [
    "#### Mixed derivatives"
   ]
  },
  {
   "cell_type": "markdown",
   "id": "b217d724-fce3-4542-b8d1-d66b5ebc5f2f",
   "metadata": {},
   "source": [
    "Mixed derivatives involving $\\eta$ are all 0 in the GAMLSS case. In the Extended GAM case, with $\\eta=\\theta_{1} + \\exp(\\theta_{2})\\gamma$, we are interested in mixed derivatives involving $\\gamma$ and $\\theta_{i}, i=0,1,2$."
   ]
  },
  {
   "cell_type": "code",
   "execution_count": 15,
   "id": "435e764c-6cd0-4685-8e1f-410d7235a59e",
   "metadata": {},
   "outputs": [
    {
     "data": {
      "text/latex": [
       "$\\displaystyle \\frac{\\left(- y e^{t_{0}} + \\frac{y e^{g} e^{2 t_{0}}}{e^{g} e^{t_{0}} + 1} - \\frac{\\left(e^{g} e^{t_{0}} + 1\\right)^{2 e^{- t_{0}}} \\left(e^{- t_{0}} \\log{\\left(e^{g} e^{t_{0}} + 1 \\right)} - \\frac{e^{g}}{e^{g} e^{t_{0}} + 1}\\right)}{\\left(\\left(e^{g} e^{t_{0}} + 1\\right)^{e^{- t_{0}}} - 1\\right)^{2}} + \\frac{\\left(e^{g} e^{t_{0}} + 1\\right)^{e^{- t_{0}}} \\left(e^{- t_{0}} \\log{\\left(e^{g} e^{t_{0}} + 1 \\right)} - \\frac{e^{g}}{e^{g} e^{t_{0}} + 1}\\right)}{\\left(e^{g} e^{t_{0}} + 1\\right)^{e^{- t_{0}}} - 1} + \\frac{\\left(e^{g} e^{t_{0}} + 1\\right)^{e^{- t_{0}}} e^{g} e^{t_{0}}}{\\left(e^{g} e^{t_{0}} + 1\\right) \\left(\\left(e^{g} e^{t_{0}} + 1\\right)^{e^{- t_{0}}} - 1\\right)}\\right) e^{g}}{e^{g} e^{t_{0}} + 1}$"
      ],
      "text/plain": [
       "(-y*exp(t0) + y*exp(g)*exp(2*t0)/(exp(g)*exp(t0) + 1) - (exp(g)*exp(t0) + 1)**(2*exp(-t0))*(exp(-t0)*log(exp(g)*exp(t0) + 1) - exp(g)/(exp(g)*exp(t0) + 1))/((exp(g)*exp(t0) + 1)**exp(-t0) - 1)**2 + (exp(g)*exp(t0) + 1)**exp(-t0)*(exp(-t0)*log(exp(g)*exp(t0) + 1) - exp(g)/(exp(g)*exp(t0) + 1))/((exp(g)*exp(t0) + 1)**exp(-t0) - 1) + (exp(g)*exp(t0) + 1)**exp(-t0)*exp(g)*exp(t0)/((exp(g)*exp(t0) + 1)*((exp(g)*exp(t0) + 1)**exp(-t0) - 1)))*exp(g)/(exp(g)*exp(t0) + 1)"
      ]
     },
     "execution_count": 15,
     "metadata": {},
     "output_type": "execute_result"
    }
   ],
   "source": [
    "# for quasi-Newton\n",
    "l_ZINB.diff(g, 1, t0, 1)"
   ]
  },
  {
   "cell_type": "code",
   "execution_count": 16,
   "id": "a805a307-80c7-44f5-8704-86e2e43f4a62",
   "metadata": {},
   "outputs": [
    {
     "data": {
      "text/latex": [
       "$\\displaystyle \\frac{\\left(- y e^{t_{0}} + \\frac{3 y e^{g} e^{2 t_{0}}}{e^{g} e^{t_{0}} + 1} - \\frac{2 y e^{2 g} e^{3 t_{0}}}{\\left(e^{g} e^{t_{0}} + 1\\right)^{2}} - \\frac{\\left(e^{g} e^{t_{0}} + 1\\right)^{2 e^{- t_{0}}} \\left(e^{- t_{0}} \\log{\\left(e^{g} e^{t_{0}} + 1 \\right)} - \\frac{e^{g}}{e^{g} e^{t_{0}} + 1}\\right)}{\\left(\\left(e^{g} e^{t_{0}} + 1\\right)^{e^{- t_{0}}} - 1\\right)^{2}} + \\frac{\\left(e^{g} e^{t_{0}} + 1\\right)^{e^{- t_{0}}} \\left(e^{- t_{0}} \\log{\\left(e^{g} e^{t_{0}} + 1 \\right)} - \\frac{e^{g}}{e^{g} e^{t_{0}} + 1}\\right)}{\\left(e^{g} e^{t_{0}} + 1\\right)^{e^{- t_{0}}} - 1} + \\frac{2 \\left(e^{g} e^{t_{0}} + 1\\right)^{3 e^{- t_{0}}} \\left(e^{- t_{0}} \\log{\\left(e^{g} e^{t_{0}} + 1 \\right)} - \\frac{e^{g}}{e^{g} e^{t_{0}} + 1}\\right) e^{g}}{\\left(e^{g} e^{t_{0}} + 1\\right) \\left(\\left(e^{g} e^{t_{0}} + 1\\right)^{e^{- t_{0}}} - 1\\right)^{3}} + \\frac{\\left(e^{g} e^{t_{0}} + 1\\right)^{2 e^{- t_{0}}} \\left(e^{- t_{0}} \\log{\\left(e^{g} e^{t_{0}} + 1 \\right)} - \\frac{e^{g}}{e^{g} e^{t_{0}} + 1}\\right) e^{g} e^{t_{0}}}{\\left(e^{g} e^{t_{0}} + 1\\right) \\left(\\left(e^{g} e^{t_{0}} + 1\\right)^{e^{- t_{0}}} - 1\\right)^{2}} - \\frac{3 \\left(e^{g} e^{t_{0}} + 1\\right)^{2 e^{- t_{0}}} \\left(e^{- t_{0}} \\log{\\left(e^{g} e^{t_{0}} + 1 \\right)} - \\frac{e^{g}}{e^{g} e^{t_{0}} + 1}\\right) e^{g}}{\\left(e^{g} e^{t_{0}} + 1\\right) \\left(\\left(e^{g} e^{t_{0}} + 1\\right)^{e^{- t_{0}}} - 1\\right)^{2}} - \\frac{\\left(e^{g} e^{t_{0}} + 1\\right)^{e^{- t_{0}}} \\left(e^{- t_{0}} \\log{\\left(e^{g} e^{t_{0}} + 1 \\right)} - \\frac{e^{g}}{e^{g} e^{t_{0}} + 1}\\right) e^{g} e^{t_{0}}}{\\left(e^{g} e^{t_{0}} + 1\\right) \\left(\\left(e^{g} e^{t_{0}} + 1\\right)^{e^{- t_{0}}} - 1\\right)} + \\frac{\\left(e^{g} e^{t_{0}} + 1\\right)^{e^{- t_{0}}} \\left(e^{- t_{0}} \\log{\\left(e^{g} e^{t_{0}} + 1 \\right)} - \\frac{e^{g}}{e^{g} e^{t_{0}} + 1}\\right) e^{g}}{\\left(e^{g} e^{t_{0}} + 1\\right) \\left(\\left(e^{g} e^{t_{0}} + 1\\right)^{e^{- t_{0}}} - 1\\right)} + \\frac{2 \\left(e^{g} e^{t_{0}} + 1\\right)^{e^{- t_{0}}} e^{g} e^{t_{0}}}{\\left(e^{g} e^{t_{0}} + 1\\right) \\left(\\left(e^{g} e^{t_{0}} + 1\\right)^{e^{- t_{0}}} - 1\\right)} - \\frac{2 \\left(e^{g} e^{t_{0}} + 1\\right)^{2 e^{- t_{0}}} e^{2 g} e^{t_{0}}}{\\left(e^{g} e^{t_{0}} + 1\\right)^{2} \\left(\\left(e^{g} e^{t_{0}} + 1\\right)^{e^{- t_{0}}} - 1\\right)^{2}} - \\frac{2 \\left(e^{g} e^{t_{0}} + 1\\right)^{e^{- t_{0}}} e^{2 g} e^{2 t_{0}}}{\\left(e^{g} e^{t_{0}} + 1\\right)^{2} \\left(\\left(e^{g} e^{t_{0}} + 1\\right)^{e^{- t_{0}}} - 1\\right)} + \\frac{2 \\left(e^{g} e^{t_{0}} + 1\\right)^{e^{- t_{0}}} e^{2 g} e^{t_{0}}}{\\left(e^{g} e^{t_{0}} + 1\\right)^{2} \\left(\\left(e^{g} e^{t_{0}} + 1\\right)^{e^{- t_{0}}} - 1\\right)}\\right) e^{g}}{e^{g} e^{t_{0}} + 1}$"
      ],
      "text/plain": [
       "(-y*exp(t0) + 3*y*exp(g)*exp(2*t0)/(exp(g)*exp(t0) + 1) - 2*y*exp(2*g)*exp(3*t0)/(exp(g)*exp(t0) + 1)**2 - (exp(g)*exp(t0) + 1)**(2*exp(-t0))*(exp(-t0)*log(exp(g)*exp(t0) + 1) - exp(g)/(exp(g)*exp(t0) + 1))/((exp(g)*exp(t0) + 1)**exp(-t0) - 1)**2 + (exp(g)*exp(t0) + 1)**exp(-t0)*(exp(-t0)*log(exp(g)*exp(t0) + 1) - exp(g)/(exp(g)*exp(t0) + 1))/((exp(g)*exp(t0) + 1)**exp(-t0) - 1) + 2*(exp(g)*exp(t0) + 1)**(3*exp(-t0))*(exp(-t0)*log(exp(g)*exp(t0) + 1) - exp(g)/(exp(g)*exp(t0) + 1))*exp(g)/((exp(g)*exp(t0) + 1)*((exp(g)*exp(t0) + 1)**exp(-t0) - 1)**3) + (exp(g)*exp(t0) + 1)**(2*exp(-t0))*(exp(-t0)*log(exp(g)*exp(t0) + 1) - exp(g)/(exp(g)*exp(t0) + 1))*exp(g)*exp(t0)/((exp(g)*exp(t0) + 1)*((exp(g)*exp(t0) + 1)**exp(-t0) - 1)**2) - 3*(exp(g)*exp(t0) + 1)**(2*exp(-t0))*(exp(-t0)*log(exp(g)*exp(t0) + 1) - exp(g)/(exp(g)*exp(t0) + 1))*exp(g)/((exp(g)*exp(t0) + 1)*((exp(g)*exp(t0) + 1)**exp(-t0) - 1)**2) - (exp(g)*exp(t0) + 1)**exp(-t0)*(exp(-t0)*log(exp(g)*exp(t0) + 1) - exp(g)/(exp(g)*exp(t0) + 1))*exp(g)*exp(t0)/((exp(g)*exp(t0) + 1)*((exp(g)*exp(t0) + 1)**exp(-t0) - 1)) + (exp(g)*exp(t0) + 1)**exp(-t0)*(exp(-t0)*log(exp(g)*exp(t0) + 1) - exp(g)/(exp(g)*exp(t0) + 1))*exp(g)/((exp(g)*exp(t0) + 1)*((exp(g)*exp(t0) + 1)**exp(-t0) - 1)) + 2*(exp(g)*exp(t0) + 1)**exp(-t0)*exp(g)*exp(t0)/((exp(g)*exp(t0) + 1)*((exp(g)*exp(t0) + 1)**exp(-t0) - 1)) - 2*(exp(g)*exp(t0) + 1)**(2*exp(-t0))*exp(2*g)*exp(t0)/((exp(g)*exp(t0) + 1)**2*((exp(g)*exp(t0) + 1)**exp(-t0) - 1)**2) - 2*(exp(g)*exp(t0) + 1)**exp(-t0)*exp(2*g)*exp(2*t0)/((exp(g)*exp(t0) + 1)**2*((exp(g)*exp(t0) + 1)**exp(-t0) - 1)) + 2*(exp(g)*exp(t0) + 1)**exp(-t0)*exp(2*g)*exp(t0)/((exp(g)*exp(t0) + 1)**2*((exp(g)*exp(t0) + 1)**exp(-t0) - 1)))*exp(g)/(exp(g)*exp(t0) + 1)"
      ]
     },
     "execution_count": 16,
     "metadata": {},
     "output_type": "execute_result"
    }
   ],
   "source": [
    "# for quasi-Newton\n",
    "l_ZINB.diff(g, 2, t0, 1)"
   ]
  },
  {
   "cell_type": "code",
   "execution_count": 17,
   "id": "fde98722-0c67-4fbd-a7b4-53486867411d",
   "metadata": {},
   "outputs": [
    {
     "data": {
      "text/latex": [
       "$\\displaystyle \\frac{\\left(- y e^{t_{0}} + \\frac{3 y e^{g} e^{2 t_{0}}}{e^{g} e^{t_{0}} + 1} - \\frac{2 y e^{2 g} e^{3 t_{0}}}{\\left(e^{g} e^{t_{0}} + 1\\right)^{2}} - \\frac{2 \\left(e^{g} e^{t_{0}} + 1\\right)^{3 e^{- t_{0}}} \\left(e^{- t_{0}} \\log{\\left(e^{g} e^{t_{0}} + 1 \\right)} - \\frac{e^{g}}{e^{g} e^{t_{0}} + 1}\\right)^{2}}{\\left(\\left(e^{g} e^{t_{0}} + 1\\right)^{e^{- t_{0}}} - 1\\right)^{3}} + \\frac{3 \\left(e^{g} e^{t_{0}} + 1\\right)^{2 e^{- t_{0}}} \\left(e^{- t_{0}} \\log{\\left(e^{g} e^{t_{0}} + 1 \\right)} - \\frac{e^{g}}{e^{g} e^{t_{0}} + 1}\\right)^{2}}{\\left(\\left(e^{g} e^{t_{0}} + 1\\right)^{e^{- t_{0}}} - 1\\right)^{2}} - \\frac{\\left(e^{g} e^{t_{0}} + 1\\right)^{2 e^{- t_{0}}} \\left(- e^{- t_{0}} \\log{\\left(e^{g} e^{t_{0}} + 1 \\right)} + \\frac{e^{g}}{e^{g} e^{t_{0}} + 1} + \\frac{e^{2 g} e^{t_{0}}}{\\left(e^{g} e^{t_{0}} + 1\\right)^{2}}\\right)}{\\left(\\left(e^{g} e^{t_{0}} + 1\\right)^{e^{- t_{0}}} - 1\\right)^{2}} - \\frac{\\left(e^{g} e^{t_{0}} + 1\\right)^{e^{- t_{0}}} \\left(e^{- t_{0}} \\log{\\left(e^{g} e^{t_{0}} + 1 \\right)} - \\frac{e^{g}}{e^{g} e^{t_{0}} + 1}\\right)^{2}}{\\left(e^{g} e^{t_{0}} + 1\\right)^{e^{- t_{0}}} - 1} + \\frac{\\left(e^{g} e^{t_{0}} + 1\\right)^{e^{- t_{0}}} \\left(- e^{- t_{0}} \\log{\\left(e^{g} e^{t_{0}} + 1 \\right)} + \\frac{e^{g}}{e^{g} e^{t_{0}} + 1} + \\frac{e^{2 g} e^{t_{0}}}{\\left(e^{g} e^{t_{0}} + 1\\right)^{2}}\\right)}{\\left(e^{g} e^{t_{0}} + 1\\right)^{e^{- t_{0}}} - 1} + \\frac{2 \\left(e^{g} e^{t_{0}} + 1\\right)^{2 e^{- t_{0}}} \\left(e^{- t_{0}} \\log{\\left(e^{g} e^{t_{0}} + 1 \\right)} - \\frac{e^{g}}{e^{g} e^{t_{0}} + 1}\\right) e^{g} e^{t_{0}}}{\\left(e^{g} e^{t_{0}} + 1\\right) \\left(\\left(e^{g} e^{t_{0}} + 1\\right)^{e^{- t_{0}}} - 1\\right)^{2}} - \\frac{2 \\left(e^{g} e^{t_{0}} + 1\\right)^{e^{- t_{0}}} \\left(e^{- t_{0}} \\log{\\left(e^{g} e^{t_{0}} + 1 \\right)} - \\frac{e^{g}}{e^{g} e^{t_{0}} + 1}\\right) e^{g} e^{t_{0}}}{\\left(e^{g} e^{t_{0}} + 1\\right) \\left(\\left(e^{g} e^{t_{0}} + 1\\right)^{e^{- t_{0}}} - 1\\right)} + \\frac{\\left(e^{g} e^{t_{0}} + 1\\right)^{e^{- t_{0}}} e^{g} e^{t_{0}}}{\\left(e^{g} e^{t_{0}} + 1\\right) \\left(\\left(e^{g} e^{t_{0}} + 1\\right)^{e^{- t_{0}}} - 1\\right)} - \\frac{2 \\left(e^{g} e^{t_{0}} + 1\\right)^{e^{- t_{0}}} e^{2 g} e^{2 t_{0}}}{\\left(e^{g} e^{t_{0}} + 1\\right)^{2} \\left(\\left(e^{g} e^{t_{0}} + 1\\right)^{e^{- t_{0}}} - 1\\right)}\\right) e^{g}}{e^{g} e^{t_{0}} + 1}$"
      ],
      "text/plain": [
       "(-y*exp(t0) + 3*y*exp(g)*exp(2*t0)/(exp(g)*exp(t0) + 1) - 2*y*exp(2*g)*exp(3*t0)/(exp(g)*exp(t0) + 1)**2 - 2*(exp(g)*exp(t0) + 1)**(3*exp(-t0))*(exp(-t0)*log(exp(g)*exp(t0) + 1) - exp(g)/(exp(g)*exp(t0) + 1))**2/((exp(g)*exp(t0) + 1)**exp(-t0) - 1)**3 + 3*(exp(g)*exp(t0) + 1)**(2*exp(-t0))*(exp(-t0)*log(exp(g)*exp(t0) + 1) - exp(g)/(exp(g)*exp(t0) + 1))**2/((exp(g)*exp(t0) + 1)**exp(-t0) - 1)**2 - (exp(g)*exp(t0) + 1)**(2*exp(-t0))*(-exp(-t0)*log(exp(g)*exp(t0) + 1) + exp(g)/(exp(g)*exp(t0) + 1) + exp(2*g)*exp(t0)/(exp(g)*exp(t0) + 1)**2)/((exp(g)*exp(t0) + 1)**exp(-t0) - 1)**2 - (exp(g)*exp(t0) + 1)**exp(-t0)*(exp(-t0)*log(exp(g)*exp(t0) + 1) - exp(g)/(exp(g)*exp(t0) + 1))**2/((exp(g)*exp(t0) + 1)**exp(-t0) - 1) + (exp(g)*exp(t0) + 1)**exp(-t0)*(-exp(-t0)*log(exp(g)*exp(t0) + 1) + exp(g)/(exp(g)*exp(t0) + 1) + exp(2*g)*exp(t0)/(exp(g)*exp(t0) + 1)**2)/((exp(g)*exp(t0) + 1)**exp(-t0) - 1) + 2*(exp(g)*exp(t0) + 1)**(2*exp(-t0))*(exp(-t0)*log(exp(g)*exp(t0) + 1) - exp(g)/(exp(g)*exp(t0) + 1))*exp(g)*exp(t0)/((exp(g)*exp(t0) + 1)*((exp(g)*exp(t0) + 1)**exp(-t0) - 1)**2) - 2*(exp(g)*exp(t0) + 1)**exp(-t0)*(exp(-t0)*log(exp(g)*exp(t0) + 1) - exp(g)/(exp(g)*exp(t0) + 1))*exp(g)*exp(t0)/((exp(g)*exp(t0) + 1)*((exp(g)*exp(t0) + 1)**exp(-t0) - 1)) + (exp(g)*exp(t0) + 1)**exp(-t0)*exp(g)*exp(t0)/((exp(g)*exp(t0) + 1)*((exp(g)*exp(t0) + 1)**exp(-t0) - 1)) - 2*(exp(g)*exp(t0) + 1)**exp(-t0)*exp(2*g)*exp(2*t0)/((exp(g)*exp(t0) + 1)**2*((exp(g)*exp(t0) + 1)**exp(-t0) - 1)))*exp(g)/(exp(g)*exp(t0) + 1)"
      ]
     },
     "execution_count": 17,
     "metadata": {},
     "output_type": "execute_result"
    }
   ],
   "source": [
    "# for full Newton\n",
    "l_ZINB.diff(g, 1, t0, 2)"
   ]
  },
  {
   "cell_type": "code",
   "execution_count": 18,
   "id": "9ba5aa9a-cc51-4ca4-9230-0e7ac950c7a1",
   "metadata": {},
   "outputs": [
    {
     "data": {
      "text/latex": [
       "$\\displaystyle \\frac{\\left(- y e^{t_{0}} + \\frac{7 y e^{g} e^{2 t_{0}}}{e^{g} e^{t_{0}} + 1} - \\frac{12 y e^{2 g} e^{3 t_{0}}}{\\left(e^{g} e^{t_{0}} + 1\\right)^{2}} + \\frac{6 y e^{3 g} e^{4 t_{0}}}{\\left(e^{g} e^{t_{0}} + 1\\right)^{3}} - \\frac{2 \\left(e^{g} e^{t_{0}} + 1\\right)^{3 e^{- t_{0}}} \\left(e^{- t_{0}} \\log{\\left(e^{g} e^{t_{0}} + 1 \\right)} - \\frac{e^{g}}{e^{g} e^{t_{0}} + 1}\\right)^{2}}{\\left(\\left(e^{g} e^{t_{0}} + 1\\right)^{e^{- t_{0}}} - 1\\right)^{3}} + \\frac{3 \\left(e^{g} e^{t_{0}} + 1\\right)^{2 e^{- t_{0}}} \\left(e^{- t_{0}} \\log{\\left(e^{g} e^{t_{0}} + 1 \\right)} - \\frac{e^{g}}{e^{g} e^{t_{0}} + 1}\\right)^{2}}{\\left(\\left(e^{g} e^{t_{0}} + 1\\right)^{e^{- t_{0}}} - 1\\right)^{2}} - \\frac{\\left(e^{g} e^{t_{0}} + 1\\right)^{2 e^{- t_{0}}} \\left(- e^{- t_{0}} \\log{\\left(e^{g} e^{t_{0}} + 1 \\right)} + \\frac{e^{g}}{e^{g} e^{t_{0}} + 1} + \\frac{e^{2 g} e^{t_{0}}}{\\left(e^{g} e^{t_{0}} + 1\\right)^{2}}\\right)}{\\left(\\left(e^{g} e^{t_{0}} + 1\\right)^{e^{- t_{0}}} - 1\\right)^{2}} - \\frac{\\left(e^{g} e^{t_{0}} + 1\\right)^{e^{- t_{0}}} \\left(e^{- t_{0}} \\log{\\left(e^{g} e^{t_{0}} + 1 \\right)} - \\frac{e^{g}}{e^{g} e^{t_{0}} + 1}\\right)^{2}}{\\left(e^{g} e^{t_{0}} + 1\\right)^{e^{- t_{0}}} - 1} + \\frac{\\left(e^{g} e^{t_{0}} + 1\\right)^{e^{- t_{0}}} \\left(- e^{- t_{0}} \\log{\\left(e^{g} e^{t_{0}} + 1 \\right)} + \\frac{e^{g}}{e^{g} e^{t_{0}} + 1} + \\frac{e^{2 g} e^{t_{0}}}{\\left(e^{g} e^{t_{0}} + 1\\right)^{2}}\\right)}{\\left(e^{g} e^{t_{0}} + 1\\right)^{e^{- t_{0}}} - 1} + \\frac{6 \\left(e^{g} e^{t_{0}} + 1\\right)^{4 e^{- t_{0}}} \\left(e^{- t_{0}} \\log{\\left(e^{g} e^{t_{0}} + 1 \\right)} - \\frac{e^{g}}{e^{g} e^{t_{0}} + 1}\\right)^{2} e^{g}}{\\left(e^{g} e^{t_{0}} + 1\\right) \\left(\\left(e^{g} e^{t_{0}} + 1\\right)^{e^{- t_{0}}} - 1\\right)^{4}} + \\frac{2 \\left(e^{g} e^{t_{0}} + 1\\right)^{3 e^{- t_{0}}} \\left(e^{- t_{0}} \\log{\\left(e^{g} e^{t_{0}} + 1 \\right)} - \\frac{e^{g}}{e^{g} e^{t_{0}} + 1}\\right)^{2} e^{g} e^{t_{0}}}{\\left(e^{g} e^{t_{0}} + 1\\right) \\left(\\left(e^{g} e^{t_{0}} + 1\\right)^{e^{- t_{0}}} - 1\\right)^{3}} - \\frac{12 \\left(e^{g} e^{t_{0}} + 1\\right)^{3 e^{- t_{0}}} \\left(e^{- t_{0}} \\log{\\left(e^{g} e^{t_{0}} + 1 \\right)} - \\frac{e^{g}}{e^{g} e^{t_{0}} + 1}\\right)^{2} e^{g}}{\\left(e^{g} e^{t_{0}} + 1\\right) \\left(\\left(e^{g} e^{t_{0}} + 1\\right)^{e^{- t_{0}}} - 1\\right)^{3}} + \\frac{2 \\left(e^{g} e^{t_{0}} + 1\\right)^{3 e^{- t_{0}}} \\left(- e^{- t_{0}} \\log{\\left(e^{g} e^{t_{0}} + 1 \\right)} + \\frac{e^{g}}{e^{g} e^{t_{0}} + 1} + \\frac{e^{2 g} e^{t_{0}}}{\\left(e^{g} e^{t_{0}} + 1\\right)^{2}}\\right) e^{g}}{\\left(e^{g} e^{t_{0}} + 1\\right) \\left(\\left(e^{g} e^{t_{0}} + 1\\right)^{e^{- t_{0}}} - 1\\right)^{3}} - \\frac{3 \\left(e^{g} e^{t_{0}} + 1\\right)^{2 e^{- t_{0}}} \\left(e^{- t_{0}} \\log{\\left(e^{g} e^{t_{0}} + 1 \\right)} - \\frac{e^{g}}{e^{g} e^{t_{0}} + 1}\\right)^{2} e^{g} e^{t_{0}}}{\\left(e^{g} e^{t_{0}} + 1\\right) \\left(\\left(e^{g} e^{t_{0}} + 1\\right)^{e^{- t_{0}}} - 1\\right)^{2}} + \\frac{7 \\left(e^{g} e^{t_{0}} + 1\\right)^{2 e^{- t_{0}}} \\left(e^{- t_{0}} \\log{\\left(e^{g} e^{t_{0}} + 1 \\right)} - \\frac{e^{g}}{e^{g} e^{t_{0}} + 1}\\right)^{2} e^{g}}{\\left(e^{g} e^{t_{0}} + 1\\right) \\left(\\left(e^{g} e^{t_{0}} + 1\\right)^{e^{- t_{0}}} - 1\\right)^{2}} + \\frac{4 \\left(e^{g} e^{t_{0}} + 1\\right)^{2 e^{- t_{0}}} \\left(e^{- t_{0}} \\log{\\left(e^{g} e^{t_{0}} + 1 \\right)} - \\frac{e^{g}}{e^{g} e^{t_{0}} + 1}\\right) e^{g} e^{t_{0}}}{\\left(e^{g} e^{t_{0}} + 1\\right) \\left(\\left(e^{g} e^{t_{0}} + 1\\right)^{e^{- t_{0}}} - 1\\right)^{2}} + \\frac{\\left(e^{g} e^{t_{0}} + 1\\right)^{2 e^{- t_{0}}} \\left(- e^{- t_{0}} \\log{\\left(e^{g} e^{t_{0}} + 1 \\right)} + \\frac{e^{g}}{e^{g} e^{t_{0}} + 1} + \\frac{e^{2 g} e^{t_{0}}}{\\left(e^{g} e^{t_{0}} + 1\\right)^{2}}\\right) e^{g} e^{t_{0}}}{\\left(e^{g} e^{t_{0}} + 1\\right) \\left(\\left(e^{g} e^{t_{0}} + 1\\right)^{e^{- t_{0}}} - 1\\right)^{2}} - \\frac{3 \\left(e^{g} e^{t_{0}} + 1\\right)^{2 e^{- t_{0}}} \\left(- e^{- t_{0}} \\log{\\left(e^{g} e^{t_{0}} + 1 \\right)} + \\frac{e^{g}}{e^{g} e^{t_{0}} + 1} + \\frac{e^{2 g} e^{t_{0}}}{\\left(e^{g} e^{t_{0}} + 1\\right)^{2}}\\right) e^{g}}{\\left(e^{g} e^{t_{0}} + 1\\right) \\left(\\left(e^{g} e^{t_{0}} + 1\\right)^{e^{- t_{0}}} - 1\\right)^{2}} + \\frac{\\left(e^{g} e^{t_{0}} + 1\\right)^{e^{- t_{0}}} \\left(e^{- t_{0}} \\log{\\left(e^{g} e^{t_{0}} + 1 \\right)} - \\frac{e^{g}}{e^{g} e^{t_{0}} + 1}\\right)^{2} e^{g} e^{t_{0}}}{\\left(e^{g} e^{t_{0}} + 1\\right) \\left(\\left(e^{g} e^{t_{0}} + 1\\right)^{e^{- t_{0}}} - 1\\right)} - \\frac{\\left(e^{g} e^{t_{0}} + 1\\right)^{e^{- t_{0}}} \\left(e^{- t_{0}} \\log{\\left(e^{g} e^{t_{0}} + 1 \\right)} - \\frac{e^{g}}{e^{g} e^{t_{0}} + 1}\\right)^{2} e^{g}}{\\left(e^{g} e^{t_{0}} + 1\\right) \\left(\\left(e^{g} e^{t_{0}} + 1\\right)^{e^{- t_{0}}} - 1\\right)} - \\frac{4 \\left(e^{g} e^{t_{0}} + 1\\right)^{e^{- t_{0}}} \\left(e^{- t_{0}} \\log{\\left(e^{g} e^{t_{0}} + 1 \\right)} - \\frac{e^{g}}{e^{g} e^{t_{0}} + 1}\\right) e^{g} e^{t_{0}}}{\\left(e^{g} e^{t_{0}} + 1\\right) \\left(\\left(e^{g} e^{t_{0}} + 1\\right)^{e^{- t_{0}}} - 1\\right)} - \\frac{\\left(e^{g} e^{t_{0}} + 1\\right)^{e^{- t_{0}}} \\left(- e^{- t_{0}} \\log{\\left(e^{g} e^{t_{0}} + 1 \\right)} + \\frac{e^{g}}{e^{g} e^{t_{0}} + 1} + \\frac{e^{2 g} e^{t_{0}}}{\\left(e^{g} e^{t_{0}} + 1\\right)^{2}}\\right) e^{g} e^{t_{0}}}{\\left(e^{g} e^{t_{0}} + 1\\right) \\left(\\left(e^{g} e^{t_{0}} + 1\\right)^{e^{- t_{0}}} - 1\\right)} + \\frac{\\left(e^{g} e^{t_{0}} + 1\\right)^{e^{- t_{0}}} \\left(- e^{- t_{0}} \\log{\\left(e^{g} e^{t_{0}} + 1 \\right)} + \\frac{e^{g}}{e^{g} e^{t_{0}} + 1} + \\frac{e^{2 g} e^{t_{0}}}{\\left(e^{g} e^{t_{0}} + 1\\right)^{2}}\\right) e^{g}}{\\left(e^{g} e^{t_{0}} + 1\\right) \\left(\\left(e^{g} e^{t_{0}} + 1\\right)^{e^{- t_{0}}} - 1\\right)} + \\frac{2 \\left(e^{g} e^{t_{0}} + 1\\right)^{e^{- t_{0}}} e^{g} e^{t_{0}}}{\\left(e^{g} e^{t_{0}} + 1\\right) \\left(\\left(e^{g} e^{t_{0}} + 1\\right)^{e^{- t_{0}}} - 1\\right)} - \\frac{8 \\left(e^{g} e^{t_{0}} + 1\\right)^{3 e^{- t_{0}}} \\left(e^{- t_{0}} \\log{\\left(e^{g} e^{t_{0}} + 1 \\right)} - \\frac{e^{g}}{e^{g} e^{t_{0}} + 1}\\right) e^{2 g} e^{t_{0}}}{\\left(e^{g} e^{t_{0}} + 1\\right)^{2} \\left(\\left(e^{g} e^{t_{0}} + 1\\right)^{e^{- t_{0}}} - 1\\right)^{3}} - \\frac{4 \\left(e^{g} e^{t_{0}} + 1\\right)^{2 e^{- t_{0}}} \\left(e^{- t_{0}} \\log{\\left(e^{g} e^{t_{0}} + 1 \\right)} - \\frac{e^{g}}{e^{g} e^{t_{0}} + 1}\\right) e^{2 g} e^{2 t_{0}}}{\\left(e^{g} e^{t_{0}} + 1\\right)^{2} \\left(\\left(e^{g} e^{t_{0}} + 1\\right)^{e^{- t_{0}}} - 1\\right)^{2}} + \\frac{12 \\left(e^{g} e^{t_{0}} + 1\\right)^{2 e^{- t_{0}}} \\left(e^{- t_{0}} \\log{\\left(e^{g} e^{t_{0}} + 1 \\right)} - \\frac{e^{g}}{e^{g} e^{t_{0}} + 1}\\right) e^{2 g} e^{t_{0}}}{\\left(e^{g} e^{t_{0}} + 1\\right)^{2} \\left(\\left(e^{g} e^{t_{0}} + 1\\right)^{e^{- t_{0}}} - 1\\right)^{2}} - \\frac{2 \\left(e^{g} e^{t_{0}} + 1\\right)^{2 e^{- t_{0}}} e^{2 g} e^{t_{0}}}{\\left(e^{g} e^{t_{0}} + 1\\right)^{2} \\left(\\left(e^{g} e^{t_{0}} + 1\\right)^{e^{- t_{0}}} - 1\\right)^{2}} + \\frac{4 \\left(e^{g} e^{t_{0}} + 1\\right)^{e^{- t_{0}}} \\left(e^{- t_{0}} \\log{\\left(e^{g} e^{t_{0}} + 1 \\right)} - \\frac{e^{g}}{e^{g} e^{t_{0}} + 1}\\right) e^{2 g} e^{2 t_{0}}}{\\left(e^{g} e^{t_{0}} + 1\\right)^{2} \\left(\\left(e^{g} e^{t_{0}} + 1\\right)^{e^{- t_{0}}} - 1\\right)} - \\frac{4 \\left(e^{g} e^{t_{0}} + 1\\right)^{e^{- t_{0}}} \\left(e^{- t_{0}} \\log{\\left(e^{g} e^{t_{0}} + 1 \\right)} - \\frac{e^{g}}{e^{g} e^{t_{0}} + 1}\\right) e^{2 g} e^{t_{0}}}{\\left(e^{g} e^{t_{0}} + 1\\right)^{2} \\left(\\left(e^{g} e^{t_{0}} + 1\\right)^{e^{- t_{0}}} - 1\\right)} - \\frac{8 \\left(e^{g} e^{t_{0}} + 1\\right)^{e^{- t_{0}}} e^{2 g} e^{2 t_{0}}}{\\left(e^{g} e^{t_{0}} + 1\\right)^{2} \\left(\\left(e^{g} e^{t_{0}} + 1\\right)^{e^{- t_{0}}} - 1\\right)} + \\frac{2 \\left(e^{g} e^{t_{0}} + 1\\right)^{e^{- t_{0}}} e^{2 g} e^{t_{0}}}{\\left(e^{g} e^{t_{0}} + 1\\right)^{2} \\left(\\left(e^{g} e^{t_{0}} + 1\\right)^{e^{- t_{0}}} - 1\\right)} + \\frac{6 \\left(e^{g} e^{t_{0}} + 1\\right)^{2 e^{- t_{0}}} e^{3 g} e^{2 t_{0}}}{\\left(e^{g} e^{t_{0}} + 1\\right)^{3} \\left(\\left(e^{g} e^{t_{0}} + 1\\right)^{e^{- t_{0}}} - 1\\right)^{2}} + \\frac{6 \\left(e^{g} e^{t_{0}} + 1\\right)^{e^{- t_{0}}} e^{3 g} e^{3 t_{0}}}{\\left(e^{g} e^{t_{0}} + 1\\right)^{3} \\left(\\left(e^{g} e^{t_{0}} + 1\\right)^{e^{- t_{0}}} - 1\\right)} - \\frac{6 \\left(e^{g} e^{t_{0}} + 1\\right)^{e^{- t_{0}}} e^{3 g} e^{2 t_{0}}}{\\left(e^{g} e^{t_{0}} + 1\\right)^{3} \\left(\\left(e^{g} e^{t_{0}} + 1\\right)^{e^{- t_{0}}} - 1\\right)}\\right) e^{g}}{e^{g} e^{t_{0}} + 1}$"
      ],
      "text/plain": [
       "(-y*exp(t0) + 7*y*exp(g)*exp(2*t0)/(exp(g)*exp(t0) + 1) - 12*y*exp(2*g)*exp(3*t0)/(exp(g)*exp(t0) + 1)**2 + 6*y*exp(3*g)*exp(4*t0)/(exp(g)*exp(t0) + 1)**3 - 2*(exp(g)*exp(t0) + 1)**(3*exp(-t0))*(exp(-t0)*log(exp(g)*exp(t0) + 1) - exp(g)/(exp(g)*exp(t0) + 1))**2/((exp(g)*exp(t0) + 1)**exp(-t0) - 1)**3 + 3*(exp(g)*exp(t0) + 1)**(2*exp(-t0))*(exp(-t0)*log(exp(g)*exp(t0) + 1) - exp(g)/(exp(g)*exp(t0) + 1))**2/((exp(g)*exp(t0) + 1)**exp(-t0) - 1)**2 - (exp(g)*exp(t0) + 1)**(2*exp(-t0))*(-exp(-t0)*log(exp(g)*exp(t0) + 1) + exp(g)/(exp(g)*exp(t0) + 1) + exp(2*g)*exp(t0)/(exp(g)*exp(t0) + 1)**2)/((exp(g)*exp(t0) + 1)**exp(-t0) - 1)**2 - (exp(g)*exp(t0) + 1)**exp(-t0)*(exp(-t0)*log(exp(g)*exp(t0) + 1) - exp(g)/(exp(g)*exp(t0) + 1))**2/((exp(g)*exp(t0) + 1)**exp(-t0) - 1) + (exp(g)*exp(t0) + 1)**exp(-t0)*(-exp(-t0)*log(exp(g)*exp(t0) + 1) + exp(g)/(exp(g)*exp(t0) + 1) + exp(2*g)*exp(t0)/(exp(g)*exp(t0) + 1)**2)/((exp(g)*exp(t0) + 1)**exp(-t0) - 1) + 6*(exp(g)*exp(t0) + 1)**(4*exp(-t0))*(exp(-t0)*log(exp(g)*exp(t0) + 1) - exp(g)/(exp(g)*exp(t0) + 1))**2*exp(g)/((exp(g)*exp(t0) + 1)*((exp(g)*exp(t0) + 1)**exp(-t0) - 1)**4) + 2*(exp(g)*exp(t0) + 1)**(3*exp(-t0))*(exp(-t0)*log(exp(g)*exp(t0) + 1) - exp(g)/(exp(g)*exp(t0) + 1))**2*exp(g)*exp(t0)/((exp(g)*exp(t0) + 1)*((exp(g)*exp(t0) + 1)**exp(-t0) - 1)**3) - 12*(exp(g)*exp(t0) + 1)**(3*exp(-t0))*(exp(-t0)*log(exp(g)*exp(t0) + 1) - exp(g)/(exp(g)*exp(t0) + 1))**2*exp(g)/((exp(g)*exp(t0) + 1)*((exp(g)*exp(t0) + 1)**exp(-t0) - 1)**3) + 2*(exp(g)*exp(t0) + 1)**(3*exp(-t0))*(-exp(-t0)*log(exp(g)*exp(t0) + 1) + exp(g)/(exp(g)*exp(t0) + 1) + exp(2*g)*exp(t0)/(exp(g)*exp(t0) + 1)**2)*exp(g)/((exp(g)*exp(t0) + 1)*((exp(g)*exp(t0) + 1)**exp(-t0) - 1)**3) - 3*(exp(g)*exp(t0) + 1)**(2*exp(-t0))*(exp(-t0)*log(exp(g)*exp(t0) + 1) - exp(g)/(exp(g)*exp(t0) + 1))**2*exp(g)*exp(t0)/((exp(g)*exp(t0) + 1)*((exp(g)*exp(t0) + 1)**exp(-t0) - 1)**2) + 7*(exp(g)*exp(t0) + 1)**(2*exp(-t0))*(exp(-t0)*log(exp(g)*exp(t0) + 1) - exp(g)/(exp(g)*exp(t0) + 1))**2*exp(g)/((exp(g)*exp(t0) + 1)*((exp(g)*exp(t0) + 1)**exp(-t0) - 1)**2) + 4*(exp(g)*exp(t0) + 1)**(2*exp(-t0))*(exp(-t0)*log(exp(g)*exp(t0) + 1) - exp(g)/(exp(g)*exp(t0) + 1))*exp(g)*exp(t0)/((exp(g)*exp(t0) + 1)*((exp(g)*exp(t0) + 1)**exp(-t0) - 1)**2) + (exp(g)*exp(t0) + 1)**(2*exp(-t0))*(-exp(-t0)*log(exp(g)*exp(t0) + 1) + exp(g)/(exp(g)*exp(t0) + 1) + exp(2*g)*exp(t0)/(exp(g)*exp(t0) + 1)**2)*exp(g)*exp(t0)/((exp(g)*exp(t0) + 1)*((exp(g)*exp(t0) + 1)**exp(-t0) - 1)**2) - 3*(exp(g)*exp(t0) + 1)**(2*exp(-t0))*(-exp(-t0)*log(exp(g)*exp(t0) + 1) + exp(g)/(exp(g)*exp(t0) + 1) + exp(2*g)*exp(t0)/(exp(g)*exp(t0) + 1)**2)*exp(g)/((exp(g)*exp(t0) + 1)*((exp(g)*exp(t0) + 1)**exp(-t0) - 1)**2) + (exp(g)*exp(t0) + 1)**exp(-t0)*(exp(-t0)*log(exp(g)*exp(t0) + 1) - exp(g)/(exp(g)*exp(t0) + 1))**2*exp(g)*exp(t0)/((exp(g)*exp(t0) + 1)*((exp(g)*exp(t0) + 1)**exp(-t0) - 1)) - (exp(g)*exp(t0) + 1)**exp(-t0)*(exp(-t0)*log(exp(g)*exp(t0) + 1) - exp(g)/(exp(g)*exp(t0) + 1))**2*exp(g)/((exp(g)*exp(t0) + 1)*((exp(g)*exp(t0) + 1)**exp(-t0) - 1)) - 4*(exp(g)*exp(t0) + 1)**exp(-t0)*(exp(-t0)*log(exp(g)*exp(t0) + 1) - exp(g)/(exp(g)*exp(t0) + 1))*exp(g)*exp(t0)/((exp(g)*exp(t0) + 1)*((exp(g)*exp(t0) + 1)**exp(-t0) - 1)) - (exp(g)*exp(t0) + 1)**exp(-t0)*(-exp(-t0)*log(exp(g)*exp(t0) + 1) + exp(g)/(exp(g)*exp(t0) + 1) + exp(2*g)*exp(t0)/(exp(g)*exp(t0) + 1)**2)*exp(g)*exp(t0)/((exp(g)*exp(t0) + 1)*((exp(g)*exp(t0) + 1)**exp(-t0) - 1)) + (exp(g)*exp(t0) + 1)**exp(-t0)*(-exp(-t0)*log(exp(g)*exp(t0) + 1) + exp(g)/(exp(g)*exp(t0) + 1) + exp(2*g)*exp(t0)/(exp(g)*exp(t0) + 1)**2)*exp(g)/((exp(g)*exp(t0) + 1)*((exp(g)*exp(t0) + 1)**exp(-t0) - 1)) + 2*(exp(g)*exp(t0) + 1)**exp(-t0)*exp(g)*exp(t0)/((exp(g)*exp(t0) + 1)*((exp(g)*exp(t0) + 1)**exp(-t0) - 1)) - 8*(exp(g)*exp(t0) + 1)**(3*exp(-t0))*(exp(-t0)*log(exp(g)*exp(t0) + 1) - exp(g)/(exp(g)*exp(t0) + 1))*exp(2*g)*exp(t0)/((exp(g)*exp(t0) + 1)**2*((exp(g)*exp(t0) + 1)**exp(-t0) - 1)**3) - 4*(exp(g)*exp(t0) + 1)**(2*exp(-t0))*(exp(-t0)*log(exp(g)*exp(t0) + 1) - exp(g)/(exp(g)*exp(t0) + 1))*exp(2*g)*exp(2*t0)/((exp(g)*exp(t0) + 1)**2*((exp(g)*exp(t0) + 1)**exp(-t0) - 1)**2) + 12*(exp(g)*exp(t0) + 1)**(2*exp(-t0))*(exp(-t0)*log(exp(g)*exp(t0) + 1) - exp(g)/(exp(g)*exp(t0) + 1))*exp(2*g)*exp(t0)/((exp(g)*exp(t0) + 1)**2*((exp(g)*exp(t0) + 1)**exp(-t0) - 1)**2) - 2*(exp(g)*exp(t0) + 1)**(2*exp(-t0))*exp(2*g)*exp(t0)/((exp(g)*exp(t0) + 1)**2*((exp(g)*exp(t0) + 1)**exp(-t0) - 1)**2) + 4*(exp(g)*exp(t0) + 1)**exp(-t0)*(exp(-t0)*log(exp(g)*exp(t0) + 1) - exp(g)/(exp(g)*exp(t0) + 1))*exp(2*g)*exp(2*t0)/((exp(g)*exp(t0) + 1)**2*((exp(g)*exp(t0) + 1)**exp(-t0) - 1)) - 4*(exp(g)*exp(t0) + 1)**exp(-t0)*(exp(-t0)*log(exp(g)*exp(t0) + 1) - exp(g)/(exp(g)*exp(t0) + 1))*exp(2*g)*exp(t0)/((exp(g)*exp(t0) + 1)**2*((exp(g)*exp(t0) + 1)**exp(-t0) - 1)) - 8*(exp(g)*exp(t0) + 1)**exp(-t0)*exp(2*g)*exp(2*t0)/((exp(g)*exp(t0) + 1)**2*((exp(g)*exp(t0) + 1)**exp(-t0) - 1)) + 2*(exp(g)*exp(t0) + 1)**exp(-t0)*exp(2*g)*exp(t0)/((exp(g)*exp(t0) + 1)**2*((exp(g)*exp(t0) + 1)**exp(-t0) - 1)) + 6*(exp(g)*exp(t0) + 1)**(2*exp(-t0))*exp(3*g)*exp(2*t0)/((exp(g)*exp(t0) + 1)**3*((exp(g)*exp(t0) + 1)**exp(-t0) - 1)**2) + 6*(exp(g)*exp(t0) + 1)**exp(-t0)*exp(3*g)*exp(3*t0)/((exp(g)*exp(t0) + 1)**3*((exp(g)*exp(t0) + 1)**exp(-t0) - 1)) - 6*(exp(g)*exp(t0) + 1)**exp(-t0)*exp(3*g)*exp(2*t0)/((exp(g)*exp(t0) + 1)**3*((exp(g)*exp(t0) + 1)**exp(-t0) - 1)))*exp(g)/(exp(g)*exp(t0) + 1)"
      ]
     },
     "execution_count": 18,
     "metadata": {},
     "output_type": "execute_result"
    }
   ],
   "source": [
    "# for full Newton\n",
    "l_ZINB.diff(g, 2, t0, 2)"
   ]
  },
  {
   "cell_type": "code",
   "execution_count": 19,
   "id": "b46399d3-c41b-429f-87db-9660625bd632",
   "metadata": {},
   "outputs": [
    {
     "data": {
      "text/latex": [
       "$\\displaystyle \\frac{\\left(- y e^{t_{0}} + \\frac{7 y e^{g} e^{2 t_{0}}}{e^{g} e^{t_{0}} + 1} - \\frac{12 y e^{2 g} e^{3 t_{0}}}{\\left(e^{g} e^{t_{0}} + 1\\right)^{2}} + \\frac{6 y e^{3 g} e^{4 t_{0}}}{\\left(e^{g} e^{t_{0}} + 1\\right)^{3}} - \\frac{\\left(e^{g} e^{t_{0}} + 1\\right)^{2 e^{- t_{0}}} \\left(e^{- t_{0}} \\log{\\left(e^{g} e^{t_{0}} + 1 \\right)} - \\frac{e^{g}}{e^{g} e^{t_{0}} + 1}\\right)}{\\left(\\left(e^{g} e^{t_{0}} + 1\\right)^{e^{- t_{0}}} - 1\\right)^{2}} + \\frac{\\left(e^{g} e^{t_{0}} + 1\\right)^{e^{- t_{0}}} \\left(e^{- t_{0}} \\log{\\left(e^{g} e^{t_{0}} + 1 \\right)} - \\frac{e^{g}}{e^{g} e^{t_{0}} + 1}\\right)}{\\left(e^{g} e^{t_{0}} + 1\\right)^{e^{- t_{0}}} - 1} + \\frac{6 \\left(e^{g} e^{t_{0}} + 1\\right)^{3 e^{- t_{0}}} \\left(e^{- t_{0}} \\log{\\left(e^{g} e^{t_{0}} + 1 \\right)} - \\frac{e^{g}}{e^{g} e^{t_{0}} + 1}\\right) e^{g}}{\\left(e^{g} e^{t_{0}} + 1\\right) \\left(\\left(e^{g} e^{t_{0}} + 1\\right)^{e^{- t_{0}}} - 1\\right)^{3}} + \\frac{3 \\left(e^{g} e^{t_{0}} + 1\\right)^{2 e^{- t_{0}}} \\left(e^{- t_{0}} \\log{\\left(e^{g} e^{t_{0}} + 1 \\right)} - \\frac{e^{g}}{e^{g} e^{t_{0}} + 1}\\right) e^{g} e^{t_{0}}}{\\left(e^{g} e^{t_{0}} + 1\\right) \\left(\\left(e^{g} e^{t_{0}} + 1\\right)^{e^{- t_{0}}} - 1\\right)^{2}} - \\frac{9 \\left(e^{g} e^{t_{0}} + 1\\right)^{2 e^{- t_{0}}} \\left(e^{- t_{0}} \\log{\\left(e^{g} e^{t_{0}} + 1 \\right)} - \\frac{e^{g}}{e^{g} e^{t_{0}} + 1}\\right) e^{g}}{\\left(e^{g} e^{t_{0}} + 1\\right) \\left(\\left(e^{g} e^{t_{0}} + 1\\right)^{e^{- t_{0}}} - 1\\right)^{2}} - \\frac{3 \\left(e^{g} e^{t_{0}} + 1\\right)^{e^{- t_{0}}} \\left(e^{- t_{0}} \\log{\\left(e^{g} e^{t_{0}} + 1 \\right)} - \\frac{e^{g}}{e^{g} e^{t_{0}} + 1}\\right) e^{g} e^{t_{0}}}{\\left(e^{g} e^{t_{0}} + 1\\right) \\left(\\left(e^{g} e^{t_{0}} + 1\\right)^{e^{- t_{0}}} - 1\\right)} + \\frac{3 \\left(e^{g} e^{t_{0}} + 1\\right)^{e^{- t_{0}}} \\left(e^{- t_{0}} \\log{\\left(e^{g} e^{t_{0}} + 1 \\right)} - \\frac{e^{g}}{e^{g} e^{t_{0}} + 1}\\right) e^{g}}{\\left(e^{g} e^{t_{0}} + 1\\right) \\left(\\left(e^{g} e^{t_{0}} + 1\\right)^{e^{- t_{0}}} - 1\\right)} + \\frac{4 \\left(e^{g} e^{t_{0}} + 1\\right)^{e^{- t_{0}}} e^{g} e^{t_{0}}}{\\left(e^{g} e^{t_{0}} + 1\\right) \\left(\\left(e^{g} e^{t_{0}} + 1\\right)^{e^{- t_{0}}} - 1\\right)} - \\frac{6 \\left(e^{g} e^{t_{0}} + 1\\right)^{4 e^{- t_{0}}} \\left(e^{- t_{0}} \\log{\\left(e^{g} e^{t_{0}} + 1 \\right)} - \\frac{e^{g}}{e^{g} e^{t_{0}} + 1}\\right) e^{2 g}}{\\left(e^{g} e^{t_{0}} + 1\\right)^{2} \\left(\\left(e^{g} e^{t_{0}} + 1\\right)^{e^{- t_{0}}} - 1\\right)^{4}} - \\frac{6 \\left(e^{g} e^{t_{0}} + 1\\right)^{3 e^{- t_{0}}} \\left(e^{- t_{0}} \\log{\\left(e^{g} e^{t_{0}} + 1 \\right)} - \\frac{e^{g}}{e^{g} e^{t_{0}} + 1}\\right) e^{2 g} e^{t_{0}}}{\\left(e^{g} e^{t_{0}} + 1\\right)^{2} \\left(\\left(e^{g} e^{t_{0}} + 1\\right)^{e^{- t_{0}}} - 1\\right)^{3}} + \\frac{12 \\left(e^{g} e^{t_{0}} + 1\\right)^{3 e^{- t_{0}}} \\left(e^{- t_{0}} \\log{\\left(e^{g} e^{t_{0}} + 1 \\right)} - \\frac{e^{g}}{e^{g} e^{t_{0}} + 1}\\right) e^{2 g}}{\\left(e^{g} e^{t_{0}} + 1\\right)^{2} \\left(\\left(e^{g} e^{t_{0}} + 1\\right)^{e^{- t_{0}}} - 1\\right)^{3}} - \\frac{2 \\left(e^{g} e^{t_{0}} + 1\\right)^{2 e^{- t_{0}}} \\left(e^{- t_{0}} \\log{\\left(e^{g} e^{t_{0}} + 1 \\right)} - \\frac{e^{g}}{e^{g} e^{t_{0}} + 1}\\right) e^{2 g} e^{2 t_{0}}}{\\left(e^{g} e^{t_{0}} + 1\\right)^{2} \\left(\\left(e^{g} e^{t_{0}} + 1\\right)^{e^{- t_{0}}} - 1\\right)^{2}} + \\frac{9 \\left(e^{g} e^{t_{0}} + 1\\right)^{2 e^{- t_{0}}} \\left(e^{- t_{0}} \\log{\\left(e^{g} e^{t_{0}} + 1 \\right)} - \\frac{e^{g}}{e^{g} e^{t_{0}} + 1}\\right) e^{2 g} e^{t_{0}}}{\\left(e^{g} e^{t_{0}} + 1\\right)^{2} \\left(\\left(e^{g} e^{t_{0}} + 1\\right)^{e^{- t_{0}}} - 1\\right)^{2}} - \\frac{7 \\left(e^{g} e^{t_{0}} + 1\\right)^{2 e^{- t_{0}}} \\left(e^{- t_{0}} \\log{\\left(e^{g} e^{t_{0}} + 1 \\right)} - \\frac{e^{g}}{e^{g} e^{t_{0}} + 1}\\right) e^{2 g}}{\\left(e^{g} e^{t_{0}} + 1\\right)^{2} \\left(\\left(e^{g} e^{t_{0}} + 1\\right)^{e^{- t_{0}}} - 1\\right)^{2}} - \\frac{9 \\left(e^{g} e^{t_{0}} + 1\\right)^{2 e^{- t_{0}}} e^{2 g} e^{t_{0}}}{\\left(e^{g} e^{t_{0}} + 1\\right)^{2} \\left(\\left(e^{g} e^{t_{0}} + 1\\right)^{e^{- t_{0}}} - 1\\right)^{2}} + \\frac{2 \\left(e^{g} e^{t_{0}} + 1\\right)^{e^{- t_{0}}} \\left(e^{- t_{0}} \\log{\\left(e^{g} e^{t_{0}} + 1 \\right)} - \\frac{e^{g}}{e^{g} e^{t_{0}} + 1}\\right) e^{2 g} e^{2 t_{0}}}{\\left(e^{g} e^{t_{0}} + 1\\right)^{2} \\left(\\left(e^{g} e^{t_{0}} + 1\\right)^{e^{- t_{0}}} - 1\\right)} - \\frac{3 \\left(e^{g} e^{t_{0}} + 1\\right)^{e^{- t_{0}}} \\left(e^{- t_{0}} \\log{\\left(e^{g} e^{t_{0}} + 1 \\right)} - \\frac{e^{g}}{e^{g} e^{t_{0}} + 1}\\right) e^{2 g} e^{t_{0}}}{\\left(e^{g} e^{t_{0}} + 1\\right)^{2} \\left(\\left(e^{g} e^{t_{0}} + 1\\right)^{e^{- t_{0}}} - 1\\right)} + \\frac{\\left(e^{g} e^{t_{0}} + 1\\right)^{e^{- t_{0}}} \\left(e^{- t_{0}} \\log{\\left(e^{g} e^{t_{0}} + 1 \\right)} - \\frac{e^{g}}{e^{g} e^{t_{0}} + 1}\\right) e^{2 g}}{\\left(e^{g} e^{t_{0}} + 1\\right)^{2} \\left(\\left(e^{g} e^{t_{0}} + 1\\right)^{e^{- t_{0}}} - 1\\right)} - \\frac{10 \\left(e^{g} e^{t_{0}} + 1\\right)^{e^{- t_{0}}} e^{2 g} e^{2 t_{0}}}{\\left(e^{g} e^{t_{0}} + 1\\right)^{2} \\left(\\left(e^{g} e^{t_{0}} + 1\\right)^{e^{- t_{0}}} - 1\\right)} + \\frac{9 \\left(e^{g} e^{t_{0}} + 1\\right)^{e^{- t_{0}}} e^{2 g} e^{t_{0}}}{\\left(e^{g} e^{t_{0}} + 1\\right)^{2} \\left(\\left(e^{g} e^{t_{0}} + 1\\right)^{e^{- t_{0}}} - 1\\right)} + \\frac{6 \\left(e^{g} e^{t_{0}} + 1\\right)^{3 e^{- t_{0}}} e^{3 g} e^{t_{0}}}{\\left(e^{g} e^{t_{0}} + 1\\right)^{3} \\left(\\left(e^{g} e^{t_{0}} + 1\\right)^{e^{- t_{0}}} - 1\\right)^{3}} + \\frac{9 \\left(e^{g} e^{t_{0}} + 1\\right)^{2 e^{- t_{0}}} e^{3 g} e^{2 t_{0}}}{\\left(e^{g} e^{t_{0}} + 1\\right)^{3} \\left(\\left(e^{g} e^{t_{0}} + 1\\right)^{e^{- t_{0}}} - 1\\right)^{2}} - \\frac{9 \\left(e^{g} e^{t_{0}} + 1\\right)^{2 e^{- t_{0}}} e^{3 g} e^{t_{0}}}{\\left(e^{g} e^{t_{0}} + 1\\right)^{3} \\left(\\left(e^{g} e^{t_{0}} + 1\\right)^{e^{- t_{0}}} - 1\\right)^{2}} + \\frac{6 \\left(e^{g} e^{t_{0}} + 1\\right)^{e^{- t_{0}}} e^{3 g} e^{3 t_{0}}}{\\left(e^{g} e^{t_{0}} + 1\\right)^{3} \\left(\\left(e^{g} e^{t_{0}} + 1\\right)^{e^{- t_{0}}} - 1\\right)} - \\frac{9 \\left(e^{g} e^{t_{0}} + 1\\right)^{e^{- t_{0}}} e^{3 g} e^{2 t_{0}}}{\\left(e^{g} e^{t_{0}} + 1\\right)^{3} \\left(\\left(e^{g} e^{t_{0}} + 1\\right)^{e^{- t_{0}}} - 1\\right)} + \\frac{3 \\left(e^{g} e^{t_{0}} + 1\\right)^{e^{- t_{0}}} e^{3 g} e^{t_{0}}}{\\left(e^{g} e^{t_{0}} + 1\\right)^{3} \\left(\\left(e^{g} e^{t_{0}} + 1\\right)^{e^{- t_{0}}} - 1\\right)}\\right) e^{g}}{e^{g} e^{t_{0}} + 1}$"
      ],
      "text/plain": [
       "(-y*exp(t0) + 7*y*exp(g)*exp(2*t0)/(exp(g)*exp(t0) + 1) - 12*y*exp(2*g)*exp(3*t0)/(exp(g)*exp(t0) + 1)**2 + 6*y*exp(3*g)*exp(4*t0)/(exp(g)*exp(t0) + 1)**3 - (exp(g)*exp(t0) + 1)**(2*exp(-t0))*(exp(-t0)*log(exp(g)*exp(t0) + 1) - exp(g)/(exp(g)*exp(t0) + 1))/((exp(g)*exp(t0) + 1)**exp(-t0) - 1)**2 + (exp(g)*exp(t0) + 1)**exp(-t0)*(exp(-t0)*log(exp(g)*exp(t0) + 1) - exp(g)/(exp(g)*exp(t0) + 1))/((exp(g)*exp(t0) + 1)**exp(-t0) - 1) + 6*(exp(g)*exp(t0) + 1)**(3*exp(-t0))*(exp(-t0)*log(exp(g)*exp(t0) + 1) - exp(g)/(exp(g)*exp(t0) + 1))*exp(g)/((exp(g)*exp(t0) + 1)*((exp(g)*exp(t0) + 1)**exp(-t0) - 1)**3) + 3*(exp(g)*exp(t0) + 1)**(2*exp(-t0))*(exp(-t0)*log(exp(g)*exp(t0) + 1) - exp(g)/(exp(g)*exp(t0) + 1))*exp(g)*exp(t0)/((exp(g)*exp(t0) + 1)*((exp(g)*exp(t0) + 1)**exp(-t0) - 1)**2) - 9*(exp(g)*exp(t0) + 1)**(2*exp(-t0))*(exp(-t0)*log(exp(g)*exp(t0) + 1) - exp(g)/(exp(g)*exp(t0) + 1))*exp(g)/((exp(g)*exp(t0) + 1)*((exp(g)*exp(t0) + 1)**exp(-t0) - 1)**2) - 3*(exp(g)*exp(t0) + 1)**exp(-t0)*(exp(-t0)*log(exp(g)*exp(t0) + 1) - exp(g)/(exp(g)*exp(t0) + 1))*exp(g)*exp(t0)/((exp(g)*exp(t0) + 1)*((exp(g)*exp(t0) + 1)**exp(-t0) - 1)) + 3*(exp(g)*exp(t0) + 1)**exp(-t0)*(exp(-t0)*log(exp(g)*exp(t0) + 1) - exp(g)/(exp(g)*exp(t0) + 1))*exp(g)/((exp(g)*exp(t0) + 1)*((exp(g)*exp(t0) + 1)**exp(-t0) - 1)) + 4*(exp(g)*exp(t0) + 1)**exp(-t0)*exp(g)*exp(t0)/((exp(g)*exp(t0) + 1)*((exp(g)*exp(t0) + 1)**exp(-t0) - 1)) - 6*(exp(g)*exp(t0) + 1)**(4*exp(-t0))*(exp(-t0)*log(exp(g)*exp(t0) + 1) - exp(g)/(exp(g)*exp(t0) + 1))*exp(2*g)/((exp(g)*exp(t0) + 1)**2*((exp(g)*exp(t0) + 1)**exp(-t0) - 1)**4) - 6*(exp(g)*exp(t0) + 1)**(3*exp(-t0))*(exp(-t0)*log(exp(g)*exp(t0) + 1) - exp(g)/(exp(g)*exp(t0) + 1))*exp(2*g)*exp(t0)/((exp(g)*exp(t0) + 1)**2*((exp(g)*exp(t0) + 1)**exp(-t0) - 1)**3) + 12*(exp(g)*exp(t0) + 1)**(3*exp(-t0))*(exp(-t0)*log(exp(g)*exp(t0) + 1) - exp(g)/(exp(g)*exp(t0) + 1))*exp(2*g)/((exp(g)*exp(t0) + 1)**2*((exp(g)*exp(t0) + 1)**exp(-t0) - 1)**3) - 2*(exp(g)*exp(t0) + 1)**(2*exp(-t0))*(exp(-t0)*log(exp(g)*exp(t0) + 1) - exp(g)/(exp(g)*exp(t0) + 1))*exp(2*g)*exp(2*t0)/((exp(g)*exp(t0) + 1)**2*((exp(g)*exp(t0) + 1)**exp(-t0) - 1)**2) + 9*(exp(g)*exp(t0) + 1)**(2*exp(-t0))*(exp(-t0)*log(exp(g)*exp(t0) + 1) - exp(g)/(exp(g)*exp(t0) + 1))*exp(2*g)*exp(t0)/((exp(g)*exp(t0) + 1)**2*((exp(g)*exp(t0) + 1)**exp(-t0) - 1)**2) - 7*(exp(g)*exp(t0) + 1)**(2*exp(-t0))*(exp(-t0)*log(exp(g)*exp(t0) + 1) - exp(g)/(exp(g)*exp(t0) + 1))*exp(2*g)/((exp(g)*exp(t0) + 1)**2*((exp(g)*exp(t0) + 1)**exp(-t0) - 1)**2) - 9*(exp(g)*exp(t0) + 1)**(2*exp(-t0))*exp(2*g)*exp(t0)/((exp(g)*exp(t0) + 1)**2*((exp(g)*exp(t0) + 1)**exp(-t0) - 1)**2) + 2*(exp(g)*exp(t0) + 1)**exp(-t0)*(exp(-t0)*log(exp(g)*exp(t0) + 1) - exp(g)/(exp(g)*exp(t0) + 1))*exp(2*g)*exp(2*t0)/((exp(g)*exp(t0) + 1)**2*((exp(g)*exp(t0) + 1)**exp(-t0) - 1)) - 3*(exp(g)*exp(t0) + 1)**exp(-t0)*(exp(-t0)*log(exp(g)*exp(t0) + 1) - exp(g)/(exp(g)*exp(t0) + 1))*exp(2*g)*exp(t0)/((exp(g)*exp(t0) + 1)**2*((exp(g)*exp(t0) + 1)**exp(-t0) - 1)) + (exp(g)*exp(t0) + 1)**exp(-t0)*(exp(-t0)*log(exp(g)*exp(t0) + 1) - exp(g)/(exp(g)*exp(t0) + 1))*exp(2*g)/((exp(g)*exp(t0) + 1)**2*((exp(g)*exp(t0) + 1)**exp(-t0) - 1)) - 10*(exp(g)*exp(t0) + 1)**exp(-t0)*exp(2*g)*exp(2*t0)/((exp(g)*exp(t0) + 1)**2*((exp(g)*exp(t0) + 1)**exp(-t0) - 1)) + 9*(exp(g)*exp(t0) + 1)**exp(-t0)*exp(2*g)*exp(t0)/((exp(g)*exp(t0) + 1)**2*((exp(g)*exp(t0) + 1)**exp(-t0) - 1)) + 6*(exp(g)*exp(t0) + 1)**(3*exp(-t0))*exp(3*g)*exp(t0)/((exp(g)*exp(t0) + 1)**3*((exp(g)*exp(t0) + 1)**exp(-t0) - 1)**3) + 9*(exp(g)*exp(t0) + 1)**(2*exp(-t0))*exp(3*g)*exp(2*t0)/((exp(g)*exp(t0) + 1)**3*((exp(g)*exp(t0) + 1)**exp(-t0) - 1)**2) - 9*(exp(g)*exp(t0) + 1)**(2*exp(-t0))*exp(3*g)*exp(t0)/((exp(g)*exp(t0) + 1)**3*((exp(g)*exp(t0) + 1)**exp(-t0) - 1)**2) + 6*(exp(g)*exp(t0) + 1)**exp(-t0)*exp(3*g)*exp(3*t0)/((exp(g)*exp(t0) + 1)**3*((exp(g)*exp(t0) + 1)**exp(-t0) - 1)) - 9*(exp(g)*exp(t0) + 1)**exp(-t0)*exp(3*g)*exp(2*t0)/((exp(g)*exp(t0) + 1)**3*((exp(g)*exp(t0) + 1)**exp(-t0) - 1)) + 3*(exp(g)*exp(t0) + 1)**exp(-t0)*exp(3*g)*exp(t0)/((exp(g)*exp(t0) + 1)**3*((exp(g)*exp(t0) + 1)**exp(-t0) - 1)))*exp(g)/(exp(g)*exp(t0) + 1)"
      ]
     },
     "execution_count": 19,
     "metadata": {},
     "output_type": "execute_result"
    }
   ],
   "source": [
    "# for full Newton\n",
    "l_ZINB.diff(g, 3, t0, 1)"
   ]
  },
  {
   "cell_type": "markdown",
   "id": "9c87c1a6-8e5a-491a-9591-abf5d583933f",
   "metadata": {},
   "source": [
    "Further mixed derivatives can be found in [zinb](zinb.pdf)"
   ]
  }
 ],
 "metadata": {
  "kernelspec": {
   "display_name": "Python 3 (ipykernel)",
   "language": "python",
   "name": "python3"
  },
  "language_info": {
   "codemirror_mode": {
    "name": "ipython",
    "version": 3
   },
   "file_extension": ".py",
   "mimetype": "text/x-python",
   "name": "python",
   "nbconvert_exporter": "python",
   "pygments_lexer": "ipython3",
   "version": "3.10.15"
  }
 },
 "nbformat": 4,
 "nbformat_minor": 5
}
