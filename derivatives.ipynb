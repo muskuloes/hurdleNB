{
 "cells": [
  {
   "cell_type": "code",
   "execution_count": 1,
   "id": "60700f4e-8099-4974-984c-738f786ec5f2",
   "metadata": {},
   "outputs": [],
   "source": [
    "from sympy import *"
   ]
  },
  {
   "cell_type": "markdown",
   "id": "7d4cc949-c6d7-4965-95e9-8ab66078ec09",
   "metadata": {},
   "source": [
    "# Derivaties for the extended GAM implementation"
   ]
  },
  {
   "cell_type": "code",
   "execution_count": 2,
   "id": "bc71e175-b1d6-4937-b73c-e179562da425",
   "metadata": {},
   "outputs": [],
   "source": [
    "# y: y\n",
    "# a: \\alpha\n",
    "# n: \\eta\n",
    "# g: \\gamma\n",
    "y, a, n, g = symbols(\"y a, n g\")"
   ]
  },
  {
   "cell_type": "code",
   "execution_count": 3,
   "id": "24b1bd07-5294-45ee-a14f-6cd9524f397e",
   "metadata": {},
   "outputs": [
    {
     "data": {
      "text/latex": [
       "$\\displaystyle g y + y \\log{\\left(a \\right)} - y \\log{\\left(a e^{g} + 1 \\right)} - \\log{\\left(\\left(a e^{g} + 1\\right)^{\\frac{1}{a}} - 1 \\right)} - \\log{\\left(\\Gamma\\left(\\frac{1}{a}\\right) \\right)} + \\log{\\left(\\Gamma\\left(y + 1\\right) \\right)} + \\log{\\left(\\Gamma\\left(y + \\frac{1}{a}\\right) \\right)}$"
      ],
      "text/plain": [
       "g*y + y*log(a) - y*log(a*exp(g) + 1) - log((a*exp(g) + 1)**(1/a) - 1) - log(gamma(1/a)) + log(gamma(y + 1)) + log(gamma(y + 1/a))"
      ]
     },
     "execution_count": 3,
     "metadata": {},
     "output_type": "execute_result"
    }
   ],
   "source": [
    "l_ZTNB = (\n",
    "    y * log(a)\n",
    "    + y * g\n",
    "    - y * log(1 + a * exp(g))\n",
    "    + log(gamma(y + 1 / a))\n",
    "    + log(gamma(y + 1))\n",
    "    - log(gamma(1 / a))\n",
    "    - log(((1 + a * exp(g)) ** (1 / a)) - 1)\n",
    ")\n",
    "l_ZTNB"
   ]
  },
  {
   "cell_type": "code",
   "execution_count": 4,
   "id": "4bf0931d-6396-4652-8b1a-af3e66eb6aa9",
   "metadata": {},
   "outputs": [],
   "source": [
    "# for y == 0\n",
    "l0_ZINB = -exp(n)\n",
    "# for y > 0\n",
    "l_ZINB = log(1 - exp(-exp(n))) + l_ZTNB"
   ]
  },
  {
   "cell_type": "markdown",
   "id": "6ced3a5e-08b9-4b46-93aa-b3a980fcc1ab",
   "metadata": {},
   "source": [
    "## Derivatives"
   ]
  },
  {
   "cell_type": "markdown",
   "id": "e3dbb424-b147-4408-a149-4c5af2e52ac1",
   "metadata": {},
   "source": [
    "#### w.r.t. n"
   ]
  },
  {
   "cell_type": "code",
   "execution_count": 5,
   "id": "1c1c94a6-2b36-4aa5-87ba-72583096462c",
   "metadata": {},
   "outputs": [
    {
     "data": {
      "text/latex": [
       "$\\displaystyle \\frac{e^{n} e^{- e^{n}}}{1 - e^{- e^{n}}}$"
      ],
      "text/plain": [
       "exp(n)*exp(-exp(n))/(1 - exp(-exp(n)))"
      ]
     },
     "execution_count": 5,
     "metadata": {},
     "output_type": "execute_result"
    }
   ],
   "source": [
    "l_ZINB.diff(n, 1)"
   ]
  },
  {
   "cell_type": "code",
   "execution_count": 6,
   "id": "9e5858f0-5171-40e0-aa86-3c0a9081344e",
   "metadata": {},
   "outputs": [
    {
     "data": {
      "text/latex": [
       "$\\displaystyle \\frac{\\left(- e^{n} + 1 - \\frac{e^{n} e^{- e^{n}}}{1 - e^{- e^{n}}}\\right) e^{n} e^{- e^{n}}}{1 - e^{- e^{n}}}$"
      ],
      "text/plain": [
       "(-exp(n) + 1 - exp(n)*exp(-exp(n))/(1 - exp(-exp(n))))*exp(n)*exp(-exp(n))/(1 - exp(-exp(n)))"
      ]
     },
     "execution_count": 6,
     "metadata": {},
     "output_type": "execute_result"
    }
   ],
   "source": [
    "l_ZINB.diff(n, 2)"
   ]
  },
  {
   "cell_type": "code",
   "execution_count": 7,
   "id": "e6439f28-8791-4c0a-b79f-a2c08c14b938",
   "metadata": {},
   "outputs": [
    {
     "data": {
      "text/latex": [
       "$\\displaystyle \\frac{\\left(e^{2 n} - 3 e^{n} + 1 + \\frac{3 e^{2 n} e^{- e^{n}}}{1 - e^{- e^{n}}} - \\frac{3 e^{n} e^{- e^{n}}}{1 - e^{- e^{n}}} + \\frac{2 e^{2 n} e^{- 2 e^{n}}}{\\left(1 - e^{- e^{n}}\\right)^{2}}\\right) e^{n} e^{- e^{n}}}{1 - e^{- e^{n}}}$"
      ],
      "text/plain": [
       "(exp(2*n) - 3*exp(n) + 1 + 3*exp(2*n)*exp(-exp(n))/(1 - exp(-exp(n))) - 3*exp(n)*exp(-exp(n))/(1 - exp(-exp(n))) + 2*exp(2*n)*exp(-2*exp(n))/(1 - exp(-exp(n)))**2)*exp(n)*exp(-exp(n))/(1 - exp(-exp(n)))"
      ]
     },
     "execution_count": 7,
     "metadata": {},
     "output_type": "execute_result"
    }
   ],
   "source": [
    "l_ZINB.diff(n, 3)"
   ]
  },
  {
   "cell_type": "code",
   "execution_count": 8,
   "id": "51f17d35-a86a-4d85-a3e3-e014022ab3c8",
   "metadata": {},
   "outputs": [
    {
     "data": {
      "text/latex": [
       "$\\displaystyle \\frac{\\left(- e^{3 n} + 6 e^{2 n} - 7 e^{n} + 1 - \\frac{7 e^{3 n} e^{- e^{n}}}{1 - e^{- e^{n}}} + \\frac{18 e^{2 n} e^{- e^{n}}}{1 - e^{- e^{n}}} - \\frac{7 e^{n} e^{- e^{n}}}{1 - e^{- e^{n}}} - \\frac{12 e^{3 n} e^{- 2 e^{n}}}{\\left(1 - e^{- e^{n}}\\right)^{2}} + \\frac{12 e^{2 n} e^{- 2 e^{n}}}{\\left(1 - e^{- e^{n}}\\right)^{2}} - \\frac{6 e^{3 n} e^{- 3 e^{n}}}{\\left(1 - e^{- e^{n}}\\right)^{3}}\\right) e^{n} e^{- e^{n}}}{1 - e^{- e^{n}}}$"
      ],
      "text/plain": [
       "(-exp(3*n) + 6*exp(2*n) - 7*exp(n) + 1 - 7*exp(3*n)*exp(-exp(n))/(1 - exp(-exp(n))) + 18*exp(2*n)*exp(-exp(n))/(1 - exp(-exp(n))) - 7*exp(n)*exp(-exp(n))/(1 - exp(-exp(n))) - 12*exp(3*n)*exp(-2*exp(n))/(1 - exp(-exp(n)))**2 + 12*exp(2*n)*exp(-2*exp(n))/(1 - exp(-exp(n)))**2 - 6*exp(3*n)*exp(-3*exp(n))/(1 - exp(-exp(n)))**3)*exp(n)*exp(-exp(n))/(1 - exp(-exp(n)))"
      ]
     },
     "execution_count": 8,
     "metadata": {},
     "output_type": "execute_result"
    }
   ],
   "source": [
    "l_ZINB.diff(n, 4)"
   ]
  },
  {
   "cell_type": "markdown",
   "id": "242f9346-a418-45e7-8603-bafeb089193f",
   "metadata": {},
   "source": [
    "#### w.r.t. g"
   ]
  },
  {
   "cell_type": "code",
   "execution_count": 9,
   "id": "a8bd8f39-7d75-417c-874a-545ffb6e3043",
   "metadata": {},
   "outputs": [
    {
     "data": {
      "text/latex": [
       "$\\displaystyle - \\frac{a y e^{g}}{a e^{g} + 1} + y - \\frac{\\left(a e^{g} + 1\\right)^{\\frac{1}{a}} e^{g}}{\\left(a e^{g} + 1\\right) \\left(\\left(a e^{g} + 1\\right)^{\\frac{1}{a}} - 1\\right)}$"
      ],
      "text/plain": [
       "-a*y*exp(g)/(a*exp(g) + 1) + y - (a*exp(g) + 1)**(1/a)*exp(g)/((a*exp(g) + 1)*((a*exp(g) + 1)**(1/a) - 1))"
      ]
     },
     "execution_count": 9,
     "metadata": {},
     "output_type": "execute_result"
    }
   ],
   "source": [
    "l_ZINB.diff(g, 1)"
   ]
  },
  {
   "cell_type": "code",
   "execution_count": 10,
   "id": "4e94ac8f-048b-47c6-a66c-6bc600766412",
   "metadata": {},
   "outputs": [
    {
     "data": {
      "text/latex": [
       "$\\displaystyle \\frac{\\left(\\frac{a^{2} y e^{g}}{a e^{g} + 1} - a y + \\frac{a \\left(a e^{g} + 1\\right)^{\\frac{1}{a}} e^{g}}{\\left(a e^{g} + 1\\right) \\left(\\left(a e^{g} + 1\\right)^{\\frac{1}{a}} - 1\\right)} - \\frac{\\left(a e^{g} + 1\\right)^{\\frac{1}{a}}}{\\left(a e^{g} + 1\\right)^{\\frac{1}{a}} - 1} + \\frac{\\left(a e^{g} + 1\\right)^{\\frac{2}{a}} e^{g}}{\\left(a e^{g} + 1\\right) \\left(\\left(a e^{g} + 1\\right)^{\\frac{1}{a}} - 1\\right)^{2}} - \\frac{\\left(a e^{g} + 1\\right)^{\\frac{1}{a}} e^{g}}{\\left(a e^{g} + 1\\right) \\left(\\left(a e^{g} + 1\\right)^{\\frac{1}{a}} - 1\\right)}\\right) e^{g}}{a e^{g} + 1}$"
      ],
      "text/plain": [
       "(a**2*y*exp(g)/(a*exp(g) + 1) - a*y + a*(a*exp(g) + 1)**(1/a)*exp(g)/((a*exp(g) + 1)*((a*exp(g) + 1)**(1/a) - 1)) - (a*exp(g) + 1)**(1/a)/((a*exp(g) + 1)**(1/a) - 1) + (a*exp(g) + 1)**(2/a)*exp(g)/((a*exp(g) + 1)*((a*exp(g) + 1)**(1/a) - 1)**2) - (a*exp(g) + 1)**(1/a)*exp(g)/((a*exp(g) + 1)*((a*exp(g) + 1)**(1/a) - 1)))*exp(g)/(a*exp(g) + 1)"
      ]
     },
     "execution_count": 10,
     "metadata": {},
     "output_type": "execute_result"
    }
   ],
   "source": [
    "l_ZINB.diff(g, 2)"
   ]
  },
  {
   "cell_type": "code",
   "execution_count": 11,
   "id": "bf9f4117-d8eb-4bc1-8fa1-a21ed6adc7da",
   "metadata": {},
   "outputs": [
    {
     "data": {
      "text/latex": [
       "$\\displaystyle \\frac{\\left(- \\frac{2 a^{3} y e^{2 g}}{\\left(a e^{g} + 1\\right)^{2}} + \\frac{3 a^{2} y e^{g}}{a e^{g} + 1} - \\frac{2 a^{2} \\left(a e^{g} + 1\\right)^{\\frac{1}{a}} e^{2 g}}{\\left(a e^{g} + 1\\right)^{2} \\left(\\left(a e^{g} + 1\\right)^{\\frac{1}{a}} - 1\\right)} - a y + \\frac{3 a \\left(a e^{g} + 1\\right)^{\\frac{1}{a}} e^{g}}{\\left(a e^{g} + 1\\right) \\left(\\left(a e^{g} + 1\\right)^{\\frac{1}{a}} - 1\\right)} - \\frac{3 a \\left(a e^{g} + 1\\right)^{\\frac{2}{a}} e^{2 g}}{\\left(a e^{g} + 1\\right)^{2} \\left(\\left(a e^{g} + 1\\right)^{\\frac{1}{a}} - 1\\right)^{2}} + \\frac{3 a \\left(a e^{g} + 1\\right)^{\\frac{1}{a}} e^{2 g}}{\\left(a e^{g} + 1\\right)^{2} \\left(\\left(a e^{g} + 1\\right)^{\\frac{1}{a}} - 1\\right)} - \\frac{\\left(a e^{g} + 1\\right)^{\\frac{1}{a}}}{\\left(a e^{g} + 1\\right)^{\\frac{1}{a}} - 1} + \\frac{3 \\left(a e^{g} + 1\\right)^{\\frac{2}{a}} e^{g}}{\\left(a e^{g} + 1\\right) \\left(\\left(a e^{g} + 1\\right)^{\\frac{1}{a}} - 1\\right)^{2}} - \\frac{3 \\left(a e^{g} + 1\\right)^{\\frac{1}{a}} e^{g}}{\\left(a e^{g} + 1\\right) \\left(\\left(a e^{g} + 1\\right)^{\\frac{1}{a}} - 1\\right)} - \\frac{2 \\left(a e^{g} + 1\\right)^{\\frac{3}{a}} e^{2 g}}{\\left(a e^{g} + 1\\right)^{2} \\left(\\left(a e^{g} + 1\\right)^{\\frac{1}{a}} - 1\\right)^{3}} + \\frac{3 \\left(a e^{g} + 1\\right)^{\\frac{2}{a}} e^{2 g}}{\\left(a e^{g} + 1\\right)^{2} \\left(\\left(a e^{g} + 1\\right)^{\\frac{1}{a}} - 1\\right)^{2}} - \\frac{\\left(a e^{g} + 1\\right)^{\\frac{1}{a}} e^{2 g}}{\\left(a e^{g} + 1\\right)^{2} \\left(\\left(a e^{g} + 1\\right)^{\\frac{1}{a}} - 1\\right)}\\right) e^{g}}{a e^{g} + 1}$"
      ],
      "text/plain": [
       "(-2*a**3*y*exp(2*g)/(a*exp(g) + 1)**2 + 3*a**2*y*exp(g)/(a*exp(g) + 1) - 2*a**2*(a*exp(g) + 1)**(1/a)*exp(2*g)/((a*exp(g) + 1)**2*((a*exp(g) + 1)**(1/a) - 1)) - a*y + 3*a*(a*exp(g) + 1)**(1/a)*exp(g)/((a*exp(g) + 1)*((a*exp(g) + 1)**(1/a) - 1)) - 3*a*(a*exp(g) + 1)**(2/a)*exp(2*g)/((a*exp(g) + 1)**2*((a*exp(g) + 1)**(1/a) - 1)**2) + 3*a*(a*exp(g) + 1)**(1/a)*exp(2*g)/((a*exp(g) + 1)**2*((a*exp(g) + 1)**(1/a) - 1)) - (a*exp(g) + 1)**(1/a)/((a*exp(g) + 1)**(1/a) - 1) + 3*(a*exp(g) + 1)**(2/a)*exp(g)/((a*exp(g) + 1)*((a*exp(g) + 1)**(1/a) - 1)**2) - 3*(a*exp(g) + 1)**(1/a)*exp(g)/((a*exp(g) + 1)*((a*exp(g) + 1)**(1/a) - 1)) - 2*(a*exp(g) + 1)**(3/a)*exp(2*g)/((a*exp(g) + 1)**2*((a*exp(g) + 1)**(1/a) - 1)**3) + 3*(a*exp(g) + 1)**(2/a)*exp(2*g)/((a*exp(g) + 1)**2*((a*exp(g) + 1)**(1/a) - 1)**2) - (a*exp(g) + 1)**(1/a)*exp(2*g)/((a*exp(g) + 1)**2*((a*exp(g) + 1)**(1/a) - 1)))*exp(g)/(a*exp(g) + 1)"
      ]
     },
     "execution_count": 11,
     "metadata": {},
     "output_type": "execute_result"
    }
   ],
   "source": [
    "l_ZINB.diff(g, 3)"
   ]
  },
  {
   "cell_type": "code",
   "execution_count": 12,
   "id": "b6eb44eb-c9c4-4ad1-a2fa-d38d8e74d615",
   "metadata": {},
   "outputs": [
    {
     "data": {
      "text/latex": [
       "$\\displaystyle \\frac{\\left(\\frac{6 a^{4} y e^{3 g}}{\\left(a e^{g} + 1\\right)^{3}} - \\frac{12 a^{3} y e^{2 g}}{\\left(a e^{g} + 1\\right)^{2}} + \\frac{6 a^{3} \\left(a e^{g} + 1\\right)^{\\frac{1}{a}} e^{3 g}}{\\left(a e^{g} + 1\\right)^{3} \\left(\\left(a e^{g} + 1\\right)^{\\frac{1}{a}} - 1\\right)} + \\frac{7 a^{2} y e^{g}}{a e^{g} + 1} - \\frac{12 a^{2} \\left(a e^{g} + 1\\right)^{\\frac{1}{a}} e^{2 g}}{\\left(a e^{g} + 1\\right)^{2} \\left(\\left(a e^{g} + 1\\right)^{\\frac{1}{a}} - 1\\right)} + \\frac{11 a^{2} \\left(a e^{g} + 1\\right)^{\\frac{2}{a}} e^{3 g}}{\\left(a e^{g} + 1\\right)^{3} \\left(\\left(a e^{g} + 1\\right)^{\\frac{1}{a}} - 1\\right)^{2}} - \\frac{11 a^{2} \\left(a e^{g} + 1\\right)^{\\frac{1}{a}} e^{3 g}}{\\left(a e^{g} + 1\\right)^{3} \\left(\\left(a e^{g} + 1\\right)^{\\frac{1}{a}} - 1\\right)} - a y + \\frac{7 a \\left(a e^{g} + 1\\right)^{\\frac{1}{a}} e^{g}}{\\left(a e^{g} + 1\\right) \\left(\\left(a e^{g} + 1\\right)^{\\frac{1}{a}} - 1\\right)} - \\frac{18 a \\left(a e^{g} + 1\\right)^{\\frac{2}{a}} e^{2 g}}{\\left(a e^{g} + 1\\right)^{2} \\left(\\left(a e^{g} + 1\\right)^{\\frac{1}{a}} - 1\\right)^{2}} + \\frac{18 a \\left(a e^{g} + 1\\right)^{\\frac{1}{a}} e^{2 g}}{\\left(a e^{g} + 1\\right)^{2} \\left(\\left(a e^{g} + 1\\right)^{\\frac{1}{a}} - 1\\right)} + \\frac{12 a \\left(a e^{g} + 1\\right)^{\\frac{3}{a}} e^{3 g}}{\\left(a e^{g} + 1\\right)^{3} \\left(\\left(a e^{g} + 1\\right)^{\\frac{1}{a}} - 1\\right)^{3}} - \\frac{18 a \\left(a e^{g} + 1\\right)^{\\frac{2}{a}} e^{3 g}}{\\left(a e^{g} + 1\\right)^{3} \\left(\\left(a e^{g} + 1\\right)^{\\frac{1}{a}} - 1\\right)^{2}} + \\frac{6 a \\left(a e^{g} + 1\\right)^{\\frac{1}{a}} e^{3 g}}{\\left(a e^{g} + 1\\right)^{3} \\left(\\left(a e^{g} + 1\\right)^{\\frac{1}{a}} - 1\\right)} - \\frac{\\left(a e^{g} + 1\\right)^{\\frac{1}{a}}}{\\left(a e^{g} + 1\\right)^{\\frac{1}{a}} - 1} + \\frac{7 \\left(a e^{g} + 1\\right)^{\\frac{2}{a}} e^{g}}{\\left(a e^{g} + 1\\right) \\left(\\left(a e^{g} + 1\\right)^{\\frac{1}{a}} - 1\\right)^{2}} - \\frac{7 \\left(a e^{g} + 1\\right)^{\\frac{1}{a}} e^{g}}{\\left(a e^{g} + 1\\right) \\left(\\left(a e^{g} + 1\\right)^{\\frac{1}{a}} - 1\\right)} - \\frac{12 \\left(a e^{g} + 1\\right)^{\\frac{3}{a}} e^{2 g}}{\\left(a e^{g} + 1\\right)^{2} \\left(\\left(a e^{g} + 1\\right)^{\\frac{1}{a}} - 1\\right)^{3}} + \\frac{18 \\left(a e^{g} + 1\\right)^{\\frac{2}{a}} e^{2 g}}{\\left(a e^{g} + 1\\right)^{2} \\left(\\left(a e^{g} + 1\\right)^{\\frac{1}{a}} - 1\\right)^{2}} - \\frac{6 \\left(a e^{g} + 1\\right)^{\\frac{1}{a}} e^{2 g}}{\\left(a e^{g} + 1\\right)^{2} \\left(\\left(a e^{g} + 1\\right)^{\\frac{1}{a}} - 1\\right)} + \\frac{6 \\left(a e^{g} + 1\\right)^{\\frac{4}{a}} e^{3 g}}{\\left(a e^{g} + 1\\right)^{3} \\left(\\left(a e^{g} + 1\\right)^{\\frac{1}{a}} - 1\\right)^{4}} - \\frac{12 \\left(a e^{g} + 1\\right)^{\\frac{3}{a}} e^{3 g}}{\\left(a e^{g} + 1\\right)^{3} \\left(\\left(a e^{g} + 1\\right)^{\\frac{1}{a}} - 1\\right)^{3}} + \\frac{7 \\left(a e^{g} + 1\\right)^{\\frac{2}{a}} e^{3 g}}{\\left(a e^{g} + 1\\right)^{3} \\left(\\left(a e^{g} + 1\\right)^{\\frac{1}{a}} - 1\\right)^{2}} - \\frac{\\left(a e^{g} + 1\\right)^{\\frac{1}{a}} e^{3 g}}{\\left(a e^{g} + 1\\right)^{3} \\left(\\left(a e^{g} + 1\\right)^{\\frac{1}{a}} - 1\\right)}\\right) e^{g}}{a e^{g} + 1}$"
      ],
      "text/plain": [
       "(6*a**4*y*exp(3*g)/(a*exp(g) + 1)**3 - 12*a**3*y*exp(2*g)/(a*exp(g) + 1)**2 + 6*a**3*(a*exp(g) + 1)**(1/a)*exp(3*g)/((a*exp(g) + 1)**3*((a*exp(g) + 1)**(1/a) - 1)) + 7*a**2*y*exp(g)/(a*exp(g) + 1) - 12*a**2*(a*exp(g) + 1)**(1/a)*exp(2*g)/((a*exp(g) + 1)**2*((a*exp(g) + 1)**(1/a) - 1)) + 11*a**2*(a*exp(g) + 1)**(2/a)*exp(3*g)/((a*exp(g) + 1)**3*((a*exp(g) + 1)**(1/a) - 1)**2) - 11*a**2*(a*exp(g) + 1)**(1/a)*exp(3*g)/((a*exp(g) + 1)**3*((a*exp(g) + 1)**(1/a) - 1)) - a*y + 7*a*(a*exp(g) + 1)**(1/a)*exp(g)/((a*exp(g) + 1)*((a*exp(g) + 1)**(1/a) - 1)) - 18*a*(a*exp(g) + 1)**(2/a)*exp(2*g)/((a*exp(g) + 1)**2*((a*exp(g) + 1)**(1/a) - 1)**2) + 18*a*(a*exp(g) + 1)**(1/a)*exp(2*g)/((a*exp(g) + 1)**2*((a*exp(g) + 1)**(1/a) - 1)) + 12*a*(a*exp(g) + 1)**(3/a)*exp(3*g)/((a*exp(g) + 1)**3*((a*exp(g) + 1)**(1/a) - 1)**3) - 18*a*(a*exp(g) + 1)**(2/a)*exp(3*g)/((a*exp(g) + 1)**3*((a*exp(g) + 1)**(1/a) - 1)**2) + 6*a*(a*exp(g) + 1)**(1/a)*exp(3*g)/((a*exp(g) + 1)**3*((a*exp(g) + 1)**(1/a) - 1)) - (a*exp(g) + 1)**(1/a)/((a*exp(g) + 1)**(1/a) - 1) + 7*(a*exp(g) + 1)**(2/a)*exp(g)/((a*exp(g) + 1)*((a*exp(g) + 1)**(1/a) - 1)**2) - 7*(a*exp(g) + 1)**(1/a)*exp(g)/((a*exp(g) + 1)*((a*exp(g) + 1)**(1/a) - 1)) - 12*(a*exp(g) + 1)**(3/a)*exp(2*g)/((a*exp(g) + 1)**2*((a*exp(g) + 1)**(1/a) - 1)**3) + 18*(a*exp(g) + 1)**(2/a)*exp(2*g)/((a*exp(g) + 1)**2*((a*exp(g) + 1)**(1/a) - 1)**2) - 6*(a*exp(g) + 1)**(1/a)*exp(2*g)/((a*exp(g) + 1)**2*((a*exp(g) + 1)**(1/a) - 1)) + 6*(a*exp(g) + 1)**(4/a)*exp(3*g)/((a*exp(g) + 1)**3*((a*exp(g) + 1)**(1/a) - 1)**4) - 12*(a*exp(g) + 1)**(3/a)*exp(3*g)/((a*exp(g) + 1)**3*((a*exp(g) + 1)**(1/a) - 1)**3) + 7*(a*exp(g) + 1)**(2/a)*exp(3*g)/((a*exp(g) + 1)**3*((a*exp(g) + 1)**(1/a) - 1)**2) - (a*exp(g) + 1)**(1/a)*exp(3*g)/((a*exp(g) + 1)**3*((a*exp(g) + 1)**(1/a) - 1)))*exp(g)/(a*exp(g) + 1)"
      ]
     },
     "execution_count": 12,
     "metadata": {},
     "output_type": "execute_result"
    }
   ],
   "source": [
    "l_ZINB.diff(g, 4)"
   ]
  },
  {
   "cell_type": "markdown",
   "id": "3c422df3-5355-458b-b970-a14204726dce",
   "metadata": {},
   "source": [
    "#### w.r.t. a"
   ]
  },
  {
   "cell_type": "code",
   "execution_count": 13,
   "id": "4819a8d7-aaa7-4871-a148-a974ce749346",
   "metadata": {},
   "outputs": [
    {
     "data": {
      "text/latex": [
       "$\\displaystyle - \\frac{y e^{g}}{a e^{g} + 1} - \\frac{\\left(a e^{g} + 1\\right)^{\\frac{1}{a}} \\left(\\frac{e^{g}}{a \\left(a e^{g} + 1\\right)} - \\frac{\\log{\\left(a e^{g} + 1 \\right)}}{a^{2}}\\right)}{\\left(a e^{g} + 1\\right)^{\\frac{1}{a}} - 1} + \\frac{y}{a} + \\frac{\\operatorname{polygamma}{\\left(0,\\frac{1}{a} \\right)}}{a^{2}} - \\frac{\\operatorname{polygamma}{\\left(0,y + \\frac{1}{a} \\right)}}{a^{2}}$"
      ],
      "text/plain": [
       "-y*exp(g)/(a*exp(g) + 1) - (a*exp(g) + 1)**(1/a)*(exp(g)/(a*(a*exp(g) + 1)) - log(a*exp(g) + 1)/a**2)/((a*exp(g) + 1)**(1/a) - 1) + y/a + polygamma(0, 1/a)/a**2 - polygamma(0, y + 1/a)/a**2"
      ]
     },
     "execution_count": 13,
     "metadata": {},
     "output_type": "execute_result"
    }
   ],
   "source": [
    "l_ZINB.diff(a, 1)"
   ]
  },
  {
   "cell_type": "code",
   "execution_count": 14,
   "id": "02bb1fde-8a05-4d67-a7b9-e18175183b84",
   "metadata": {},
   "outputs": [
    {
     "data": {
      "text/latex": [
       "$\\displaystyle \\frac{y e^{2 g}}{\\left(a e^{g} + 1\\right)^{2}} + \\frac{\\left(a e^{g} + 1\\right)^{\\frac{1}{a}} \\left(\\frac{e^{2 g}}{\\left(a e^{g} + 1\\right)^{2}} + \\frac{2 e^{g}}{a \\left(a e^{g} + 1\\right)} - \\frac{2 \\log{\\left(a e^{g} + 1 \\right)}}{a^{2}}\\right)}{a \\left(\\left(a e^{g} + 1\\right)^{\\frac{1}{a}} - 1\\right)} - \\frac{y}{a^{2}} + \\frac{\\left(a e^{g} + 1\\right)^{\\frac{2}{a}} \\left(\\frac{e^{g}}{a e^{g} + 1} - \\frac{\\log{\\left(a e^{g} + 1 \\right)}}{a}\\right)^{2}}{a^{2} \\left(\\left(a e^{g} + 1\\right)^{\\frac{1}{a}} - 1\\right)^{2}} - \\frac{\\left(a e^{g} + 1\\right)^{\\frac{1}{a}} \\left(\\frac{e^{g}}{a e^{g} + 1} - \\frac{\\log{\\left(a e^{g} + 1 \\right)}}{a}\\right)^{2}}{a^{2} \\left(\\left(a e^{g} + 1\\right)^{\\frac{1}{a}} - 1\\right)} - \\frac{2 \\operatorname{polygamma}{\\left(0,\\frac{1}{a} \\right)}}{a^{3}} + \\frac{2 \\operatorname{polygamma}{\\left(0,y + \\frac{1}{a} \\right)}}{a^{3}} - \\frac{\\operatorname{polygamma}{\\left(1,\\frac{1}{a} \\right)}}{a^{4}} + \\frac{\\operatorname{polygamma}{\\left(1,y + \\frac{1}{a} \\right)}}{a^{4}}$"
      ],
      "text/plain": [
       "y*exp(2*g)/(a*exp(g) + 1)**2 + (a*exp(g) + 1)**(1/a)*(exp(2*g)/(a*exp(g) + 1)**2 + 2*exp(g)/(a*(a*exp(g) + 1)) - 2*log(a*exp(g) + 1)/a**2)/(a*((a*exp(g) + 1)**(1/a) - 1)) - y/a**2 + (a*exp(g) + 1)**(2/a)*(exp(g)/(a*exp(g) + 1) - log(a*exp(g) + 1)/a)**2/(a**2*((a*exp(g) + 1)**(1/a) - 1)**2) - (a*exp(g) + 1)**(1/a)*(exp(g)/(a*exp(g) + 1) - log(a*exp(g) + 1)/a)**2/(a**2*((a*exp(g) + 1)**(1/a) - 1)) - 2*polygamma(0, 1/a)/a**3 + 2*polygamma(0, y + 1/a)/a**3 - polygamma(1, 1/a)/a**4 + polygamma(1, y + 1/a)/a**4"
      ]
     },
     "execution_count": 14,
     "metadata": {},
     "output_type": "execute_result"
    }
   ],
   "source": [
    "l_ZINB.diff(a, 2)"
   ]
  },
  {
   "cell_type": "code",
   "execution_count": 15,
   "id": "fde98722-0c67-4fbd-a7b4-53486867411d",
   "metadata": {},
   "outputs": [
    {
     "data": {
      "text/latex": [
       "$\\displaystyle \\frac{\\left(- \\frac{2 a y e^{2 g}}{\\left(a e^{g} + 1\\right)^{2}} + \\frac{2 y e^{g}}{a e^{g} + 1} - \\frac{2 \\left(a e^{g} + 1\\right)^{\\frac{1}{a}} e^{2 g}}{\\left(a e^{g} + 1\\right)^{2} \\left(\\left(a e^{g} + 1\\right)^{\\frac{1}{a}} - 1\\right)} - \\frac{\\left(a e^{g} + 1\\right)^{\\frac{2}{a}} \\left(\\frac{e^{2 g}}{\\left(a e^{g} + 1\\right)^{2}} + \\frac{2 e^{g}}{a \\left(a e^{g} + 1\\right)} - \\frac{2 \\log{\\left(a e^{g} + 1 \\right)}}{a^{2}}\\right)}{a \\left(\\left(a e^{g} + 1\\right)^{\\frac{1}{a}} - 1\\right)^{2}} + \\frac{\\left(a e^{g} + 1\\right)^{\\frac{1}{a}} \\left(\\frac{e^{2 g}}{\\left(a e^{g} + 1\\right)^{2}} + \\frac{2 e^{g}}{a \\left(a e^{g} + 1\\right)} - \\frac{2 \\log{\\left(a e^{g} + 1 \\right)}}{a^{2}}\\right)}{a \\left(\\left(a e^{g} + 1\\right)^{\\frac{1}{a}} - 1\\right)} - \\frac{2 \\left(a e^{g} + 1\\right)^{\\frac{2}{a}} \\left(\\frac{e^{g}}{a e^{g} + 1} - \\frac{\\log{\\left(a e^{g} + 1 \\right)}}{a}\\right) e^{g}}{a \\left(a e^{g} + 1\\right) \\left(\\left(a e^{g} + 1\\right)^{\\frac{1}{a}} - 1\\right)^{2}} + \\frac{2 \\left(a e^{g} + 1\\right)^{\\frac{1}{a}} \\left(\\frac{e^{g}}{a e^{g} + 1} - \\frac{\\log{\\left(a e^{g} + 1 \\right)}}{a}\\right) e^{g}}{a \\left(a e^{g} + 1\\right) \\left(\\left(a e^{g} + 1\\right)^{\\frac{1}{a}} - 1\\right)} - \\frac{2 \\left(a e^{g} + 1\\right)^{\\frac{3}{a}} \\left(\\frac{e^{g}}{a e^{g} + 1} - \\frac{\\log{\\left(a e^{g} + 1 \\right)}}{a}\\right)^{2}}{a^{2} \\left(\\left(a e^{g} + 1\\right)^{\\frac{1}{a}} - 1\\right)^{3}} + \\frac{3 \\left(a e^{g} + 1\\right)^{\\frac{2}{a}} \\left(\\frac{e^{g}}{a e^{g} + 1} - \\frac{\\log{\\left(a e^{g} + 1 \\right)}}{a}\\right)^{2}}{a^{2} \\left(\\left(a e^{g} + 1\\right)^{\\frac{1}{a}} - 1\\right)^{2}} - \\frac{\\left(a e^{g} + 1\\right)^{\\frac{1}{a}} \\left(\\frac{e^{g}}{a e^{g} + 1} - \\frac{\\log{\\left(a e^{g} + 1 \\right)}}{a}\\right)^{2}}{a^{2} \\left(\\left(a e^{g} + 1\\right)^{\\frac{1}{a}} - 1\\right)}\\right) e^{g}}{a e^{g} + 1}$"
      ],
      "text/plain": [
       "(-2*a*y*exp(2*g)/(a*exp(g) + 1)**2 + 2*y*exp(g)/(a*exp(g) + 1) - 2*(a*exp(g) + 1)**(1/a)*exp(2*g)/((a*exp(g) + 1)**2*((a*exp(g) + 1)**(1/a) - 1)) - (a*exp(g) + 1)**(2/a)*(exp(2*g)/(a*exp(g) + 1)**2 + 2*exp(g)/(a*(a*exp(g) + 1)) - 2*log(a*exp(g) + 1)/a**2)/(a*((a*exp(g) + 1)**(1/a) - 1)**2) + (a*exp(g) + 1)**(1/a)*(exp(2*g)/(a*exp(g) + 1)**2 + 2*exp(g)/(a*(a*exp(g) + 1)) - 2*log(a*exp(g) + 1)/a**2)/(a*((a*exp(g) + 1)**(1/a) - 1)) - 2*(a*exp(g) + 1)**(2/a)*(exp(g)/(a*exp(g) + 1) - log(a*exp(g) + 1)/a)*exp(g)/(a*(a*exp(g) + 1)*((a*exp(g) + 1)**(1/a) - 1)**2) + 2*(a*exp(g) + 1)**(1/a)*(exp(g)/(a*exp(g) + 1) - log(a*exp(g) + 1)/a)*exp(g)/(a*(a*exp(g) + 1)*((a*exp(g) + 1)**(1/a) - 1)) - 2*(a*exp(g) + 1)**(3/a)*(exp(g)/(a*exp(g) + 1) - log(a*exp(g) + 1)/a)**2/(a**2*((a*exp(g) + 1)**(1/a) - 1)**3) + 3*(a*exp(g) + 1)**(2/a)*(exp(g)/(a*exp(g) + 1) - log(a*exp(g) + 1)/a)**2/(a**2*((a*exp(g) + 1)**(1/a) - 1)**2) - (a*exp(g) + 1)**(1/a)*(exp(g)/(a*exp(g) + 1) - log(a*exp(g) + 1)/a)**2/(a**2*((a*exp(g) + 1)**(1/a) - 1)))*exp(g)/(a*exp(g) + 1)"
      ]
     },
     "execution_count": 15,
     "metadata": {},
     "output_type": "execute_result"
    }
   ],
   "source": [
    "l_ZINB.diff(g, 1, a, 2)"
   ]
  },
  {
   "cell_type": "code",
   "execution_count": 16,
   "id": "b46399d3-c41b-429f-87db-9660625bd632",
   "metadata": {},
   "outputs": [
    {
     "data": {
      "text/latex": [
       "$\\displaystyle \\frac{\\left(\\frac{6 a^{3} y e^{3 g}}{\\left(a e^{g} + 1\\right)^{3}} - \\frac{12 a^{2} y e^{2 g}}{\\left(a e^{g} + 1\\right)^{2}} + \\frac{6 a^{2} \\left(a e^{g} + 1\\right)^{\\frac{1}{a}} e^{3 g}}{\\left(a e^{g} + 1\\right)^{3} \\left(\\left(a e^{g} + 1\\right)^{\\frac{1}{a}} - 1\\right)} + \\frac{7 a y e^{g}}{a e^{g} + 1} + \\frac{2 a \\left(a e^{g} + 1\\right)^{\\frac{2}{a}} \\left(\\frac{e^{g}}{a e^{g} + 1} - \\frac{\\log{\\left(a e^{g} + 1 \\right)}}{a}\\right) e^{2 g}}{\\left(a e^{g} + 1\\right)^{2} \\left(\\left(a e^{g} + 1\\right)^{\\frac{1}{a}} - 1\\right)^{2}} - \\frac{2 a \\left(a e^{g} + 1\\right)^{\\frac{1}{a}} \\left(\\frac{e^{g}}{a e^{g} + 1} - \\frac{\\log{\\left(a e^{g} + 1 \\right)}}{a}\\right) e^{2 g}}{\\left(a e^{g} + 1\\right)^{2} \\left(\\left(a e^{g} + 1\\right)^{\\frac{1}{a}} - 1\\right)} - \\frac{10 a \\left(a e^{g} + 1\\right)^{\\frac{1}{a}} e^{2 g}}{\\left(a e^{g} + 1\\right)^{2} \\left(\\left(a e^{g} + 1\\right)^{\\frac{1}{a}} - 1\\right)} + \\frac{9 a \\left(a e^{g} + 1\\right)^{\\frac{2}{a}} e^{3 g}}{\\left(a e^{g} + 1\\right)^{3} \\left(\\left(a e^{g} + 1\\right)^{\\frac{1}{a}} - 1\\right)^{2}} - \\frac{9 a \\left(a e^{g} + 1\\right)^{\\frac{1}{a}} e^{3 g}}{\\left(a e^{g} + 1\\right)^{3} \\left(\\left(a e^{g} + 1\\right)^{\\frac{1}{a}} - 1\\right)} - y - \\frac{3 \\left(a e^{g} + 1\\right)^{\\frac{2}{a}} \\left(\\frac{e^{g}}{a e^{g} + 1} - \\frac{\\log{\\left(a e^{g} + 1 \\right)}}{a}\\right) e^{g}}{\\left(a e^{g} + 1\\right) \\left(\\left(a e^{g} + 1\\right)^{\\frac{1}{a}} - 1\\right)^{2}} + \\frac{3 \\left(a e^{g} + 1\\right)^{\\frac{1}{a}} \\left(\\frac{e^{g}}{a e^{g} + 1} - \\frac{\\log{\\left(a e^{g} + 1 \\right)}}{a}\\right) e^{g}}{\\left(a e^{g} + 1\\right) \\left(\\left(a e^{g} + 1\\right)^{\\frac{1}{a}} - 1\\right)} + \\frac{4 \\left(a e^{g} + 1\\right)^{\\frac{1}{a}} e^{g}}{\\left(a e^{g} + 1\\right) \\left(\\left(a e^{g} + 1\\right)^{\\frac{1}{a}} - 1\\right)} + \\frac{6 \\left(a e^{g} + 1\\right)^{\\frac{3}{a}} \\left(\\frac{e^{g}}{a e^{g} + 1} - \\frac{\\log{\\left(a e^{g} + 1 \\right)}}{a}\\right) e^{2 g}}{\\left(a e^{g} + 1\\right)^{2} \\left(\\left(a e^{g} + 1\\right)^{\\frac{1}{a}} - 1\\right)^{3}} - \\frac{9 \\left(a e^{g} + 1\\right)^{\\frac{2}{a}} \\left(\\frac{e^{g}}{a e^{g} + 1} - \\frac{\\log{\\left(a e^{g} + 1 \\right)}}{a}\\right) e^{2 g}}{\\left(a e^{g} + 1\\right)^{2} \\left(\\left(a e^{g} + 1\\right)^{\\frac{1}{a}} - 1\\right)^{2}} - \\frac{9 \\left(a e^{g} + 1\\right)^{\\frac{2}{a}} e^{2 g}}{\\left(a e^{g} + 1\\right)^{2} \\left(\\left(a e^{g} + 1\\right)^{\\frac{1}{a}} - 1\\right)^{2}} + \\frac{3 \\left(a e^{g} + 1\\right)^{\\frac{1}{a}} \\left(\\frac{e^{g}}{a e^{g} + 1} - \\frac{\\log{\\left(a e^{g} + 1 \\right)}}{a}\\right) e^{2 g}}{\\left(a e^{g} + 1\\right)^{2} \\left(\\left(a e^{g} + 1\\right)^{\\frac{1}{a}} - 1\\right)} + \\frac{9 \\left(a e^{g} + 1\\right)^{\\frac{1}{a}} e^{2 g}}{\\left(a e^{g} + 1\\right)^{2} \\left(\\left(a e^{g} + 1\\right)^{\\frac{1}{a}} - 1\\right)} + \\frac{6 \\left(a e^{g} + 1\\right)^{\\frac{3}{a}} e^{3 g}}{\\left(a e^{g} + 1\\right)^{3} \\left(\\left(a e^{g} + 1\\right)^{\\frac{1}{a}} - 1\\right)^{3}} - \\frac{9 \\left(a e^{g} + 1\\right)^{\\frac{2}{a}} e^{3 g}}{\\left(a e^{g} + 1\\right)^{3} \\left(\\left(a e^{g} + 1\\right)^{\\frac{1}{a}} - 1\\right)^{2}} + \\frac{3 \\left(a e^{g} + 1\\right)^{\\frac{1}{a}} e^{3 g}}{\\left(a e^{g} + 1\\right)^{3} \\left(\\left(a e^{g} + 1\\right)^{\\frac{1}{a}} - 1\\right)} + \\frac{\\left(a e^{g} + 1\\right)^{\\frac{2}{a}} \\left(\\frac{e^{g}}{a e^{g} + 1} - \\frac{\\log{\\left(a e^{g} + 1 \\right)}}{a}\\right)}{a \\left(\\left(a e^{g} + 1\\right)^{\\frac{1}{a}} - 1\\right)^{2}} - \\frac{\\left(a e^{g} + 1\\right)^{\\frac{1}{a}} \\left(\\frac{e^{g}}{a e^{g} + 1} - \\frac{\\log{\\left(a e^{g} + 1 \\right)}}{a}\\right)}{a \\left(\\left(a e^{g} + 1\\right)^{\\frac{1}{a}} - 1\\right)} - \\frac{6 \\left(a e^{g} + 1\\right)^{\\frac{3}{a}} \\left(\\frac{e^{g}}{a e^{g} + 1} - \\frac{\\log{\\left(a e^{g} + 1 \\right)}}{a}\\right) e^{g}}{a \\left(a e^{g} + 1\\right) \\left(\\left(a e^{g} + 1\\right)^{\\frac{1}{a}} - 1\\right)^{3}} + \\frac{9 \\left(a e^{g} + 1\\right)^{\\frac{2}{a}} \\left(\\frac{e^{g}}{a e^{g} + 1} - \\frac{\\log{\\left(a e^{g} + 1 \\right)}}{a}\\right) e^{g}}{a \\left(a e^{g} + 1\\right) \\left(\\left(a e^{g} + 1\\right)^{\\frac{1}{a}} - 1\\right)^{2}} - \\frac{3 \\left(a e^{g} + 1\\right)^{\\frac{1}{a}} \\left(\\frac{e^{g}}{a e^{g} + 1} - \\frac{\\log{\\left(a e^{g} + 1 \\right)}}{a}\\right) e^{g}}{a \\left(a e^{g} + 1\\right) \\left(\\left(a e^{g} + 1\\right)^{\\frac{1}{a}} - 1\\right)} + \\frac{6 \\left(a e^{g} + 1\\right)^{\\frac{4}{a}} \\left(\\frac{e^{g}}{a e^{g} + 1} - \\frac{\\log{\\left(a e^{g} + 1 \\right)}}{a}\\right) e^{2 g}}{a \\left(a e^{g} + 1\\right)^{2} \\left(\\left(a e^{g} + 1\\right)^{\\frac{1}{a}} - 1\\right)^{4}} - \\frac{12 \\left(a e^{g} + 1\\right)^{\\frac{3}{a}} \\left(\\frac{e^{g}}{a e^{g} + 1} - \\frac{\\log{\\left(a e^{g} + 1 \\right)}}{a}\\right) e^{2 g}}{a \\left(a e^{g} + 1\\right)^{2} \\left(\\left(a e^{g} + 1\\right)^{\\frac{1}{a}} - 1\\right)^{3}} + \\frac{7 \\left(a e^{g} + 1\\right)^{\\frac{2}{a}} \\left(\\frac{e^{g}}{a e^{g} + 1} - \\frac{\\log{\\left(a e^{g} + 1 \\right)}}{a}\\right) e^{2 g}}{a \\left(a e^{g} + 1\\right)^{2} \\left(\\left(a e^{g} + 1\\right)^{\\frac{1}{a}} - 1\\right)^{2}} - \\frac{\\left(a e^{g} + 1\\right)^{\\frac{1}{a}} \\left(\\frac{e^{g}}{a e^{g} + 1} - \\frac{\\log{\\left(a e^{g} + 1 \\right)}}{a}\\right) e^{2 g}}{a \\left(a e^{g} + 1\\right)^{2} \\left(\\left(a e^{g} + 1\\right)^{\\frac{1}{a}} - 1\\right)}\\right) e^{g}}{a e^{g} + 1}$"
      ],
      "text/plain": [
       "(6*a**3*y*exp(3*g)/(a*exp(g) + 1)**3 - 12*a**2*y*exp(2*g)/(a*exp(g) + 1)**2 + 6*a**2*(a*exp(g) + 1)**(1/a)*exp(3*g)/((a*exp(g) + 1)**3*((a*exp(g) + 1)**(1/a) - 1)) + 7*a*y*exp(g)/(a*exp(g) + 1) + 2*a*(a*exp(g) + 1)**(2/a)*(exp(g)/(a*exp(g) + 1) - log(a*exp(g) + 1)/a)*exp(2*g)/((a*exp(g) + 1)**2*((a*exp(g) + 1)**(1/a) - 1)**2) - 2*a*(a*exp(g) + 1)**(1/a)*(exp(g)/(a*exp(g) + 1) - log(a*exp(g) + 1)/a)*exp(2*g)/((a*exp(g) + 1)**2*((a*exp(g) + 1)**(1/a) - 1)) - 10*a*(a*exp(g) + 1)**(1/a)*exp(2*g)/((a*exp(g) + 1)**2*((a*exp(g) + 1)**(1/a) - 1)) + 9*a*(a*exp(g) + 1)**(2/a)*exp(3*g)/((a*exp(g) + 1)**3*((a*exp(g) + 1)**(1/a) - 1)**2) - 9*a*(a*exp(g) + 1)**(1/a)*exp(3*g)/((a*exp(g) + 1)**3*((a*exp(g) + 1)**(1/a) - 1)) - y - 3*(a*exp(g) + 1)**(2/a)*(exp(g)/(a*exp(g) + 1) - log(a*exp(g) + 1)/a)*exp(g)/((a*exp(g) + 1)*((a*exp(g) + 1)**(1/a) - 1)**2) + 3*(a*exp(g) + 1)**(1/a)*(exp(g)/(a*exp(g) + 1) - log(a*exp(g) + 1)/a)*exp(g)/((a*exp(g) + 1)*((a*exp(g) + 1)**(1/a) - 1)) + 4*(a*exp(g) + 1)**(1/a)*exp(g)/((a*exp(g) + 1)*((a*exp(g) + 1)**(1/a) - 1)) + 6*(a*exp(g) + 1)**(3/a)*(exp(g)/(a*exp(g) + 1) - log(a*exp(g) + 1)/a)*exp(2*g)/((a*exp(g) + 1)**2*((a*exp(g) + 1)**(1/a) - 1)**3) - 9*(a*exp(g) + 1)**(2/a)*(exp(g)/(a*exp(g) + 1) - log(a*exp(g) + 1)/a)*exp(2*g)/((a*exp(g) + 1)**2*((a*exp(g) + 1)**(1/a) - 1)**2) - 9*(a*exp(g) + 1)**(2/a)*exp(2*g)/((a*exp(g) + 1)**2*((a*exp(g) + 1)**(1/a) - 1)**2) + 3*(a*exp(g) + 1)**(1/a)*(exp(g)/(a*exp(g) + 1) - log(a*exp(g) + 1)/a)*exp(2*g)/((a*exp(g) + 1)**2*((a*exp(g) + 1)**(1/a) - 1)) + 9*(a*exp(g) + 1)**(1/a)*exp(2*g)/((a*exp(g) + 1)**2*((a*exp(g) + 1)**(1/a) - 1)) + 6*(a*exp(g) + 1)**(3/a)*exp(3*g)/((a*exp(g) + 1)**3*((a*exp(g) + 1)**(1/a) - 1)**3) - 9*(a*exp(g) + 1)**(2/a)*exp(3*g)/((a*exp(g) + 1)**3*((a*exp(g) + 1)**(1/a) - 1)**2) + 3*(a*exp(g) + 1)**(1/a)*exp(3*g)/((a*exp(g) + 1)**3*((a*exp(g) + 1)**(1/a) - 1)) + (a*exp(g) + 1)**(2/a)*(exp(g)/(a*exp(g) + 1) - log(a*exp(g) + 1)/a)/(a*((a*exp(g) + 1)**(1/a) - 1)**2) - (a*exp(g) + 1)**(1/a)*(exp(g)/(a*exp(g) + 1) - log(a*exp(g) + 1)/a)/(a*((a*exp(g) + 1)**(1/a) - 1)) - 6*(a*exp(g) + 1)**(3/a)*(exp(g)/(a*exp(g) + 1) - log(a*exp(g) + 1)/a)*exp(g)/(a*(a*exp(g) + 1)*((a*exp(g) + 1)**(1/a) - 1)**3) + 9*(a*exp(g) + 1)**(2/a)*(exp(g)/(a*exp(g) + 1) - log(a*exp(g) + 1)/a)*exp(g)/(a*(a*exp(g) + 1)*((a*exp(g) + 1)**(1/a) - 1)**2) - 3*(a*exp(g) + 1)**(1/a)*(exp(g)/(a*exp(g) + 1) - log(a*exp(g) + 1)/a)*exp(g)/(a*(a*exp(g) + 1)*((a*exp(g) + 1)**(1/a) - 1)) + 6*(a*exp(g) + 1)**(4/a)*(exp(g)/(a*exp(g) + 1) - log(a*exp(g) + 1)/a)*exp(2*g)/(a*(a*exp(g) + 1)**2*((a*exp(g) + 1)**(1/a) - 1)**4) - 12*(a*exp(g) + 1)**(3/a)*(exp(g)/(a*exp(g) + 1) - log(a*exp(g) + 1)/a)*exp(2*g)/(a*(a*exp(g) + 1)**2*((a*exp(g) + 1)**(1/a) - 1)**3) + 7*(a*exp(g) + 1)**(2/a)*(exp(g)/(a*exp(g) + 1) - log(a*exp(g) + 1)/a)*exp(2*g)/(a*(a*exp(g) + 1)**2*((a*exp(g) + 1)**(1/a) - 1)**2) - (a*exp(g) + 1)**(1/a)*(exp(g)/(a*exp(g) + 1) - log(a*exp(g) + 1)/a)*exp(2*g)/(a*(a*exp(g) + 1)**2*((a*exp(g) + 1)**(1/a) - 1)))*exp(g)/(a*exp(g) + 1)"
      ]
     },
     "execution_count": 16,
     "metadata": {},
     "output_type": "execute_result"
    }
   ],
   "source": [
    "l_ZINB.diff(g, 3, a, 1)"
   ]
  },
  {
   "cell_type": "code",
   "execution_count": 17,
   "id": "9ba5aa9a-cc51-4ca4-9230-0e7ac950c7a1",
   "metadata": {},
   "outputs": [
    {
     "data": {
      "text/latex": [
       "$\\displaystyle \\frac{\\left(\\frac{6 a^{2} y e^{3 g}}{\\left(a e^{g} + 1\\right)^{3}} - \\frac{10 a y e^{2 g}}{\\left(a e^{g} + 1\\right)^{2}} + \\frac{6 a \\left(a e^{g} + 1\\right)^{\\frac{1}{a}} e^{3 g}}{\\left(a e^{g} + 1\\right)^{3} \\left(\\left(a e^{g} + 1\\right)^{\\frac{1}{a}} - 1\\right)} + \\frac{4 y e^{g}}{a e^{g} + 1} + \\frac{\\left(a e^{g} + 1\\right)^{\\frac{2}{a}} \\left(\\frac{e^{2 g}}{\\left(a e^{g} + 1\\right)^{2}} + \\frac{2 e^{g}}{a \\left(a e^{g} + 1\\right)} - \\frac{2 \\log{\\left(a e^{g} + 1 \\right)}}{a^{2}}\\right) e^{g}}{\\left(a e^{g} + 1\\right) \\left(\\left(a e^{g} + 1\\right)^{\\frac{1}{a}} - 1\\right)^{2}} - \\frac{\\left(a e^{g} + 1\\right)^{\\frac{1}{a}} \\left(\\frac{e^{2 g}}{\\left(a e^{g} + 1\\right)^{2}} + \\frac{2 e^{g}}{a \\left(a e^{g} + 1\\right)} - \\frac{2 \\log{\\left(a e^{g} + 1 \\right)}}{a^{2}}\\right) e^{g}}{\\left(a e^{g} + 1\\right) \\left(\\left(a e^{g} + 1\\right)^{\\frac{1}{a}} - 1\\right)} + \\frac{4 \\left(a e^{g} + 1\\right)^{\\frac{2}{a}} \\left(\\frac{e^{g}}{a e^{g} + 1} - \\frac{\\log{\\left(a e^{g} + 1 \\right)}}{a}\\right) e^{2 g}}{\\left(a e^{g} + 1\\right)^{2} \\left(\\left(a e^{g} + 1\\right)^{\\frac{1}{a}} - 1\\right)^{2}} - \\frac{4 \\left(a e^{g} + 1\\right)^{\\frac{1}{a}} \\left(\\frac{e^{g}}{a e^{g} + 1} - \\frac{\\log{\\left(a e^{g} + 1 \\right)}}{a}\\right) e^{2 g}}{\\left(a e^{g} + 1\\right)^{2} \\left(\\left(a e^{g} + 1\\right)^{\\frac{1}{a}} - 1\\right)} - \\frac{6 \\left(a e^{g} + 1\\right)^{\\frac{1}{a}} e^{2 g}}{\\left(a e^{g} + 1\\right)^{2} \\left(\\left(a e^{g} + 1\\right)^{\\frac{1}{a}} - 1\\right)} + \\frac{6 \\left(a e^{g} + 1\\right)^{\\frac{2}{a}} e^{3 g}}{\\left(a e^{g} + 1\\right)^{3} \\left(\\left(a e^{g} + 1\\right)^{\\frac{1}{a}} - 1\\right)^{2}} - \\frac{6 \\left(a e^{g} + 1\\right)^{\\frac{1}{a}} e^{3 g}}{\\left(a e^{g} + 1\\right)^{3} \\left(\\left(a e^{g} + 1\\right)^{\\frac{1}{a}} - 1\\right)} - \\frac{\\left(a e^{g} + 1\\right)^{\\frac{2}{a}} \\left(\\frac{e^{2 g}}{\\left(a e^{g} + 1\\right)^{2}} + \\frac{2 e^{g}}{a \\left(a e^{g} + 1\\right)} - \\frac{2 \\log{\\left(a e^{g} + 1 \\right)}}{a^{2}}\\right)}{a \\left(\\left(a e^{g} + 1\\right)^{\\frac{1}{a}} - 1\\right)^{2}} + \\frac{\\left(a e^{g} + 1\\right)^{\\frac{1}{a}} \\left(\\frac{e^{2 g}}{\\left(a e^{g} + 1\\right)^{2}} + \\frac{2 e^{g}}{a \\left(a e^{g} + 1\\right)} - \\frac{2 \\log{\\left(a e^{g} + 1 \\right)}}{a^{2}}\\right)}{a \\left(\\left(a e^{g} + 1\\right)^{\\frac{1}{a}} - 1\\right)} + \\frac{2 \\left(a e^{g} + 1\\right)^{\\frac{3}{a}} \\left(\\frac{e^{g}}{a e^{g} + 1} - \\frac{\\log{\\left(a e^{g} + 1 \\right)}}{a}\\right)^{2} e^{g}}{a \\left(a e^{g} + 1\\right) \\left(\\left(a e^{g} + 1\\right)^{\\frac{1}{a}} - 1\\right)^{3}} + \\frac{2 \\left(a e^{g} + 1\\right)^{\\frac{3}{a}} \\left(\\frac{e^{2 g}}{\\left(a e^{g} + 1\\right)^{2}} + \\frac{2 e^{g}}{a \\left(a e^{g} + 1\\right)} - \\frac{2 \\log{\\left(a e^{g} + 1 \\right)}}{a^{2}}\\right) e^{g}}{a \\left(a e^{g} + 1\\right) \\left(\\left(a e^{g} + 1\\right)^{\\frac{1}{a}} - 1\\right)^{3}} - \\frac{3 \\left(a e^{g} + 1\\right)^{\\frac{2}{a}} \\left(\\frac{e^{g}}{a e^{g} + 1} - \\frac{\\log{\\left(a e^{g} + 1 \\right)}}{a}\\right)^{2} e^{g}}{a \\left(a e^{g} + 1\\right) \\left(\\left(a e^{g} + 1\\right)^{\\frac{1}{a}} - 1\\right)^{2}} - \\frac{4 \\left(a e^{g} + 1\\right)^{\\frac{2}{a}} \\left(\\frac{e^{g}}{a e^{g} + 1} - \\frac{\\log{\\left(a e^{g} + 1 \\right)}}{a}\\right) e^{g}}{a \\left(a e^{g} + 1\\right) \\left(\\left(a e^{g} + 1\\right)^{\\frac{1}{a}} - 1\\right)^{2}} - \\frac{3 \\left(a e^{g} + 1\\right)^{\\frac{2}{a}} \\left(\\frac{e^{2 g}}{\\left(a e^{g} + 1\\right)^{2}} + \\frac{2 e^{g}}{a \\left(a e^{g} + 1\\right)} - \\frac{2 \\log{\\left(a e^{g} + 1 \\right)}}{a^{2}}\\right) e^{g}}{a \\left(a e^{g} + 1\\right) \\left(\\left(a e^{g} + 1\\right)^{\\frac{1}{a}} - 1\\right)^{2}} + \\frac{\\left(a e^{g} + 1\\right)^{\\frac{1}{a}} \\left(\\frac{e^{g}}{a e^{g} + 1} - \\frac{\\log{\\left(a e^{g} + 1 \\right)}}{a}\\right)^{2} e^{g}}{a \\left(a e^{g} + 1\\right) \\left(\\left(a e^{g} + 1\\right)^{\\frac{1}{a}} - 1\\right)} + \\frac{4 \\left(a e^{g} + 1\\right)^{\\frac{1}{a}} \\left(\\frac{e^{g}}{a e^{g} + 1} - \\frac{\\log{\\left(a e^{g} + 1 \\right)}}{a}\\right) e^{g}}{a \\left(a e^{g} + 1\\right) \\left(\\left(a e^{g} + 1\\right)^{\\frac{1}{a}} - 1\\right)} + \\frac{\\left(a e^{g} + 1\\right)^{\\frac{1}{a}} \\left(\\frac{e^{2 g}}{\\left(a e^{g} + 1\\right)^{2}} + \\frac{2 e^{g}}{a \\left(a e^{g} + 1\\right)} - \\frac{2 \\log{\\left(a e^{g} + 1 \\right)}}{a^{2}}\\right) e^{g}}{a \\left(a e^{g} + 1\\right) \\left(\\left(a e^{g} + 1\\right)^{\\frac{1}{a}} - 1\\right)} + \\frac{8 \\left(a e^{g} + 1\\right)^{\\frac{3}{a}} \\left(\\frac{e^{g}}{a e^{g} + 1} - \\frac{\\log{\\left(a e^{g} + 1 \\right)}}{a}\\right) e^{2 g}}{a \\left(a e^{g} + 1\\right)^{2} \\left(\\left(a e^{g} + 1\\right)^{\\frac{1}{a}} - 1\\right)^{3}} - \\frac{12 \\left(a e^{g} + 1\\right)^{\\frac{2}{a}} \\left(\\frac{e^{g}}{a e^{g} + 1} - \\frac{\\log{\\left(a e^{g} + 1 \\right)}}{a}\\right) e^{2 g}}{a \\left(a e^{g} + 1\\right)^{2} \\left(\\left(a e^{g} + 1\\right)^{\\frac{1}{a}} - 1\\right)^{2}} + \\frac{4 \\left(a e^{g} + 1\\right)^{\\frac{1}{a}} \\left(\\frac{e^{g}}{a e^{g} + 1} - \\frac{\\log{\\left(a e^{g} + 1 \\right)}}{a}\\right) e^{2 g}}{a \\left(a e^{g} + 1\\right)^{2} \\left(\\left(a e^{g} + 1\\right)^{\\frac{1}{a}} - 1\\right)} - \\frac{2 \\left(a e^{g} + 1\\right)^{\\frac{3}{a}} \\left(\\frac{e^{g}}{a e^{g} + 1} - \\frac{\\log{\\left(a e^{g} + 1 \\right)}}{a}\\right)^{2}}{a^{2} \\left(\\left(a e^{g} + 1\\right)^{\\frac{1}{a}} - 1\\right)^{3}} + \\frac{3 \\left(a e^{g} + 1\\right)^{\\frac{2}{a}} \\left(\\frac{e^{g}}{a e^{g} + 1} - \\frac{\\log{\\left(a e^{g} + 1 \\right)}}{a}\\right)^{2}}{a^{2} \\left(\\left(a e^{g} + 1\\right)^{\\frac{1}{a}} - 1\\right)^{2}} - \\frac{\\left(a e^{g} + 1\\right)^{\\frac{1}{a}} \\left(\\frac{e^{g}}{a e^{g} + 1} - \\frac{\\log{\\left(a e^{g} + 1 \\right)}}{a}\\right)^{2}}{a^{2} \\left(\\left(a e^{g} + 1\\right)^{\\frac{1}{a}} - 1\\right)} + \\frac{6 \\left(a e^{g} + 1\\right)^{\\frac{4}{a}} \\left(\\frac{e^{g}}{a e^{g} + 1} - \\frac{\\log{\\left(a e^{g} + 1 \\right)}}{a}\\right)^{2} e^{g}}{a^{2} \\left(a e^{g} + 1\\right) \\left(\\left(a e^{g} + 1\\right)^{\\frac{1}{a}} - 1\\right)^{4}} - \\frac{12 \\left(a e^{g} + 1\\right)^{\\frac{3}{a}} \\left(\\frac{e^{g}}{a e^{g} + 1} - \\frac{\\log{\\left(a e^{g} + 1 \\right)}}{a}\\right)^{2} e^{g}}{a^{2} \\left(a e^{g} + 1\\right) \\left(\\left(a e^{g} + 1\\right)^{\\frac{1}{a}} - 1\\right)^{3}} + \\frac{7 \\left(a e^{g} + 1\\right)^{\\frac{2}{a}} \\left(\\frac{e^{g}}{a e^{g} + 1} - \\frac{\\log{\\left(a e^{g} + 1 \\right)}}{a}\\right)^{2} e^{g}}{a^{2} \\left(a e^{g} + 1\\right) \\left(\\left(a e^{g} + 1\\right)^{\\frac{1}{a}} - 1\\right)^{2}} - \\frac{\\left(a e^{g} + 1\\right)^{\\frac{1}{a}} \\left(\\frac{e^{g}}{a e^{g} + 1} - \\frac{\\log{\\left(a e^{g} + 1 \\right)}}{a}\\right)^{2} e^{g}}{a^{2} \\left(a e^{g} + 1\\right) \\left(\\left(a e^{g} + 1\\right)^{\\frac{1}{a}} - 1\\right)}\\right) e^{g}}{a e^{g} + 1}$"
      ],
      "text/plain": [
       "(6*a**2*y*exp(3*g)/(a*exp(g) + 1)**3 - 10*a*y*exp(2*g)/(a*exp(g) + 1)**2 + 6*a*(a*exp(g) + 1)**(1/a)*exp(3*g)/((a*exp(g) + 1)**3*((a*exp(g) + 1)**(1/a) - 1)) + 4*y*exp(g)/(a*exp(g) + 1) + (a*exp(g) + 1)**(2/a)*(exp(2*g)/(a*exp(g) + 1)**2 + 2*exp(g)/(a*(a*exp(g) + 1)) - 2*log(a*exp(g) + 1)/a**2)*exp(g)/((a*exp(g) + 1)*((a*exp(g) + 1)**(1/a) - 1)**2) - (a*exp(g) + 1)**(1/a)*(exp(2*g)/(a*exp(g) + 1)**2 + 2*exp(g)/(a*(a*exp(g) + 1)) - 2*log(a*exp(g) + 1)/a**2)*exp(g)/((a*exp(g) + 1)*((a*exp(g) + 1)**(1/a) - 1)) + 4*(a*exp(g) + 1)**(2/a)*(exp(g)/(a*exp(g) + 1) - log(a*exp(g) + 1)/a)*exp(2*g)/((a*exp(g) + 1)**2*((a*exp(g) + 1)**(1/a) - 1)**2) - 4*(a*exp(g) + 1)**(1/a)*(exp(g)/(a*exp(g) + 1) - log(a*exp(g) + 1)/a)*exp(2*g)/((a*exp(g) + 1)**2*((a*exp(g) + 1)**(1/a) - 1)) - 6*(a*exp(g) + 1)**(1/a)*exp(2*g)/((a*exp(g) + 1)**2*((a*exp(g) + 1)**(1/a) - 1)) + 6*(a*exp(g) + 1)**(2/a)*exp(3*g)/((a*exp(g) + 1)**3*((a*exp(g) + 1)**(1/a) - 1)**2) - 6*(a*exp(g) + 1)**(1/a)*exp(3*g)/((a*exp(g) + 1)**3*((a*exp(g) + 1)**(1/a) - 1)) - (a*exp(g) + 1)**(2/a)*(exp(2*g)/(a*exp(g) + 1)**2 + 2*exp(g)/(a*(a*exp(g) + 1)) - 2*log(a*exp(g) + 1)/a**2)/(a*((a*exp(g) + 1)**(1/a) - 1)**2) + (a*exp(g) + 1)**(1/a)*(exp(2*g)/(a*exp(g) + 1)**2 + 2*exp(g)/(a*(a*exp(g) + 1)) - 2*log(a*exp(g) + 1)/a**2)/(a*((a*exp(g) + 1)**(1/a) - 1)) + 2*(a*exp(g) + 1)**(3/a)*(exp(g)/(a*exp(g) + 1) - log(a*exp(g) + 1)/a)**2*exp(g)/(a*(a*exp(g) + 1)*((a*exp(g) + 1)**(1/a) - 1)**3) + 2*(a*exp(g) + 1)**(3/a)*(exp(2*g)/(a*exp(g) + 1)**2 + 2*exp(g)/(a*(a*exp(g) + 1)) - 2*log(a*exp(g) + 1)/a**2)*exp(g)/(a*(a*exp(g) + 1)*((a*exp(g) + 1)**(1/a) - 1)**3) - 3*(a*exp(g) + 1)**(2/a)*(exp(g)/(a*exp(g) + 1) - log(a*exp(g) + 1)/a)**2*exp(g)/(a*(a*exp(g) + 1)*((a*exp(g) + 1)**(1/a) - 1)**2) - 4*(a*exp(g) + 1)**(2/a)*(exp(g)/(a*exp(g) + 1) - log(a*exp(g) + 1)/a)*exp(g)/(a*(a*exp(g) + 1)*((a*exp(g) + 1)**(1/a) - 1)**2) - 3*(a*exp(g) + 1)**(2/a)*(exp(2*g)/(a*exp(g) + 1)**2 + 2*exp(g)/(a*(a*exp(g) + 1)) - 2*log(a*exp(g) + 1)/a**2)*exp(g)/(a*(a*exp(g) + 1)*((a*exp(g) + 1)**(1/a) - 1)**2) + (a*exp(g) + 1)**(1/a)*(exp(g)/(a*exp(g) + 1) - log(a*exp(g) + 1)/a)**2*exp(g)/(a*(a*exp(g) + 1)*((a*exp(g) + 1)**(1/a) - 1)) + 4*(a*exp(g) + 1)**(1/a)*(exp(g)/(a*exp(g) + 1) - log(a*exp(g) + 1)/a)*exp(g)/(a*(a*exp(g) + 1)*((a*exp(g) + 1)**(1/a) - 1)) + (a*exp(g) + 1)**(1/a)*(exp(2*g)/(a*exp(g) + 1)**2 + 2*exp(g)/(a*(a*exp(g) + 1)) - 2*log(a*exp(g) + 1)/a**2)*exp(g)/(a*(a*exp(g) + 1)*((a*exp(g) + 1)**(1/a) - 1)) + 8*(a*exp(g) + 1)**(3/a)*(exp(g)/(a*exp(g) + 1) - log(a*exp(g) + 1)/a)*exp(2*g)/(a*(a*exp(g) + 1)**2*((a*exp(g) + 1)**(1/a) - 1)**3) - 12*(a*exp(g) + 1)**(2/a)*(exp(g)/(a*exp(g) + 1) - log(a*exp(g) + 1)/a)*exp(2*g)/(a*(a*exp(g) + 1)**2*((a*exp(g) + 1)**(1/a) - 1)**2) + 4*(a*exp(g) + 1)**(1/a)*(exp(g)/(a*exp(g) + 1) - log(a*exp(g) + 1)/a)*exp(2*g)/(a*(a*exp(g) + 1)**2*((a*exp(g) + 1)**(1/a) - 1)) - 2*(a*exp(g) + 1)**(3/a)*(exp(g)/(a*exp(g) + 1) - log(a*exp(g) + 1)/a)**2/(a**2*((a*exp(g) + 1)**(1/a) - 1)**3) + 3*(a*exp(g) + 1)**(2/a)*(exp(g)/(a*exp(g) + 1) - log(a*exp(g) + 1)/a)**2/(a**2*((a*exp(g) + 1)**(1/a) - 1)**2) - (a*exp(g) + 1)**(1/a)*(exp(g)/(a*exp(g) + 1) - log(a*exp(g) + 1)/a)**2/(a**2*((a*exp(g) + 1)**(1/a) - 1)) + 6*(a*exp(g) + 1)**(4/a)*(exp(g)/(a*exp(g) + 1) - log(a*exp(g) + 1)/a)**2*exp(g)/(a**2*(a*exp(g) + 1)*((a*exp(g) + 1)**(1/a) - 1)**4) - 12*(a*exp(g) + 1)**(3/a)*(exp(g)/(a*exp(g) + 1) - log(a*exp(g) + 1)/a)**2*exp(g)/(a**2*(a*exp(g) + 1)*((a*exp(g) + 1)**(1/a) - 1)**3) + 7*(a*exp(g) + 1)**(2/a)*(exp(g)/(a*exp(g) + 1) - log(a*exp(g) + 1)/a)**2*exp(g)/(a**2*(a*exp(g) + 1)*((a*exp(g) + 1)**(1/a) - 1)**2) - (a*exp(g) + 1)**(1/a)*(exp(g)/(a*exp(g) + 1) - log(a*exp(g) + 1)/a)**2*exp(g)/(a**2*(a*exp(g) + 1)*((a*exp(g) + 1)**(1/a) - 1)))*exp(g)/(a*exp(g) + 1)"
      ]
     },
     "execution_count": 17,
     "metadata": {},
     "output_type": "execute_result"
    }
   ],
   "source": [
    "l_ZINB.diff(g, 2, a, 2)"
   ]
  },
  {
   "cell_type": "markdown",
   "id": "0291f0ac-cd6c-49d4-af33-00126739272e",
   "metadata": {},
   "source": [
    "#### For quasi-Newton"
   ]
  },
  {
   "cell_type": "code",
   "execution_count": 18,
   "id": "4e98ba90-451c-4da0-83b8-1bb05195260c",
   "metadata": {},
   "outputs": [
    {
     "data": {
      "text/latex": [
       "$\\displaystyle \\frac{\\left(\\frac{a y e^{g}}{a e^{g} + 1} - y + \\frac{\\left(a e^{g} + 1\\right)^{\\frac{1}{a}} e^{g}}{\\left(a e^{g} + 1\\right) \\left(\\left(a e^{g} + 1\\right)^{\\frac{1}{a}} - 1\\right)} + \\frac{\\left(a e^{g} + 1\\right)^{\\frac{2}{a}} \\left(\\frac{e^{g}}{a e^{g} + 1} - \\frac{\\log{\\left(a e^{g} + 1 \\right)}}{a}\\right)}{a \\left(\\left(a e^{g} + 1\\right)^{\\frac{1}{a}} - 1\\right)^{2}} - \\frac{\\left(a e^{g} + 1\\right)^{\\frac{1}{a}} \\left(\\frac{e^{g}}{a e^{g} + 1} - \\frac{\\log{\\left(a e^{g} + 1 \\right)}}{a}\\right)}{a \\left(\\left(a e^{g} + 1\\right)^{\\frac{1}{a}} - 1\\right)}\\right) e^{g}}{a e^{g} + 1}$"
      ],
      "text/plain": [
       "(a*y*exp(g)/(a*exp(g) + 1) - y + (a*exp(g) + 1)**(1/a)*exp(g)/((a*exp(g) + 1)*((a*exp(g) + 1)**(1/a) - 1)) + (a*exp(g) + 1)**(2/a)*(exp(g)/(a*exp(g) + 1) - log(a*exp(g) + 1)/a)/(a*((a*exp(g) + 1)**(1/a) - 1)**2) - (a*exp(g) + 1)**(1/a)*(exp(g)/(a*exp(g) + 1) - log(a*exp(g) + 1)/a)/(a*((a*exp(g) + 1)**(1/a) - 1)))*exp(g)/(a*exp(g) + 1)"
      ]
     },
     "execution_count": 18,
     "metadata": {},
     "output_type": "execute_result"
    }
   ],
   "source": [
    "l_ZINB.diff(g, 1, a, 1)"
   ]
  },
  {
   "cell_type": "code",
   "execution_count": 19,
   "id": "af7b798e-8ef7-4d13-b479-98b2b88b57f9",
   "metadata": {},
   "outputs": [
    {
     "data": {
      "text/latex": [
       "$\\displaystyle \\frac{\\left(- \\frac{2 a^{2} y e^{2 g}}{\\left(a e^{g} + 1\\right)^{2}} + \\frac{3 a y e^{g}}{a e^{g} + 1} - \\frac{2 a \\left(a e^{g} + 1\\right)^{\\frac{1}{a}} e^{2 g}}{\\left(a e^{g} + 1\\right)^{2} \\left(\\left(a e^{g} + 1\\right)^{\\frac{1}{a}} - 1\\right)} - y - \\frac{\\left(a e^{g} + 1\\right)^{\\frac{2}{a}} \\left(\\frac{e^{g}}{a e^{g} + 1} - \\frac{\\log{\\left(a e^{g} + 1 \\right)}}{a}\\right) e^{g}}{\\left(a e^{g} + 1\\right) \\left(\\left(a e^{g} + 1\\right)^{\\frac{1}{a}} - 1\\right)^{2}} + \\frac{\\left(a e^{g} + 1\\right)^{\\frac{1}{a}} \\left(\\frac{e^{g}}{a e^{g} + 1} - \\frac{\\log{\\left(a e^{g} + 1 \\right)}}{a}\\right) e^{g}}{\\left(a e^{g} + 1\\right) \\left(\\left(a e^{g} + 1\\right)^{\\frac{1}{a}} - 1\\right)} + \\frac{2 \\left(a e^{g} + 1\\right)^{\\frac{1}{a}} e^{g}}{\\left(a e^{g} + 1\\right) \\left(\\left(a e^{g} + 1\\right)^{\\frac{1}{a}} - 1\\right)} - \\frac{2 \\left(a e^{g} + 1\\right)^{\\frac{2}{a}} e^{2 g}}{\\left(a e^{g} + 1\\right)^{2} \\left(\\left(a e^{g} + 1\\right)^{\\frac{1}{a}} - 1\\right)^{2}} + \\frac{2 \\left(a e^{g} + 1\\right)^{\\frac{1}{a}} e^{2 g}}{\\left(a e^{g} + 1\\right)^{2} \\left(\\left(a e^{g} + 1\\right)^{\\frac{1}{a}} - 1\\right)} + \\frac{\\left(a e^{g} + 1\\right)^{\\frac{2}{a}} \\left(\\frac{e^{g}}{a e^{g} + 1} - \\frac{\\log{\\left(a e^{g} + 1 \\right)}}{a}\\right)}{a \\left(\\left(a e^{g} + 1\\right)^{\\frac{1}{a}} - 1\\right)^{2}} - \\frac{\\left(a e^{g} + 1\\right)^{\\frac{1}{a}} \\left(\\frac{e^{g}}{a e^{g} + 1} - \\frac{\\log{\\left(a e^{g} + 1 \\right)}}{a}\\right)}{a \\left(\\left(a e^{g} + 1\\right)^{\\frac{1}{a}} - 1\\right)} - \\frac{2 \\left(a e^{g} + 1\\right)^{\\frac{3}{a}} \\left(\\frac{e^{g}}{a e^{g} + 1} - \\frac{\\log{\\left(a e^{g} + 1 \\right)}}{a}\\right) e^{g}}{a \\left(a e^{g} + 1\\right) \\left(\\left(a e^{g} + 1\\right)^{\\frac{1}{a}} - 1\\right)^{3}} + \\frac{3 \\left(a e^{g} + 1\\right)^{\\frac{2}{a}} \\left(\\frac{e^{g}}{a e^{g} + 1} - \\frac{\\log{\\left(a e^{g} + 1 \\right)}}{a}\\right) e^{g}}{a \\left(a e^{g} + 1\\right) \\left(\\left(a e^{g} + 1\\right)^{\\frac{1}{a}} - 1\\right)^{2}} - \\frac{\\left(a e^{g} + 1\\right)^{\\frac{1}{a}} \\left(\\frac{e^{g}}{a e^{g} + 1} - \\frac{\\log{\\left(a e^{g} + 1 \\right)}}{a}\\right) e^{g}}{a \\left(a e^{g} + 1\\right) \\left(\\left(a e^{g} + 1\\right)^{\\frac{1}{a}} - 1\\right)}\\right) e^{g}}{a e^{g} + 1}$"
      ],
      "text/plain": [
       "(-2*a**2*y*exp(2*g)/(a*exp(g) + 1)**2 + 3*a*y*exp(g)/(a*exp(g) + 1) - 2*a*(a*exp(g) + 1)**(1/a)*exp(2*g)/((a*exp(g) + 1)**2*((a*exp(g) + 1)**(1/a) - 1)) - y - (a*exp(g) + 1)**(2/a)*(exp(g)/(a*exp(g) + 1) - log(a*exp(g) + 1)/a)*exp(g)/((a*exp(g) + 1)*((a*exp(g) + 1)**(1/a) - 1)**2) + (a*exp(g) + 1)**(1/a)*(exp(g)/(a*exp(g) + 1) - log(a*exp(g) + 1)/a)*exp(g)/((a*exp(g) + 1)*((a*exp(g) + 1)**(1/a) - 1)) + 2*(a*exp(g) + 1)**(1/a)*exp(g)/((a*exp(g) + 1)*((a*exp(g) + 1)**(1/a) - 1)) - 2*(a*exp(g) + 1)**(2/a)*exp(2*g)/((a*exp(g) + 1)**2*((a*exp(g) + 1)**(1/a) - 1)**2) + 2*(a*exp(g) + 1)**(1/a)*exp(2*g)/((a*exp(g) + 1)**2*((a*exp(g) + 1)**(1/a) - 1)) + (a*exp(g) + 1)**(2/a)*(exp(g)/(a*exp(g) + 1) - log(a*exp(g) + 1)/a)/(a*((a*exp(g) + 1)**(1/a) - 1)**2) - (a*exp(g) + 1)**(1/a)*(exp(g)/(a*exp(g) + 1) - log(a*exp(g) + 1)/a)/(a*((a*exp(g) + 1)**(1/a) - 1)) - 2*(a*exp(g) + 1)**(3/a)*(exp(g)/(a*exp(g) + 1) - log(a*exp(g) + 1)/a)*exp(g)/(a*(a*exp(g) + 1)*((a*exp(g) + 1)**(1/a) - 1)**3) + 3*(a*exp(g) + 1)**(2/a)*(exp(g)/(a*exp(g) + 1) - log(a*exp(g) + 1)/a)*exp(g)/(a*(a*exp(g) + 1)*((a*exp(g) + 1)**(1/a) - 1)**2) - (a*exp(g) + 1)**(1/a)*(exp(g)/(a*exp(g) + 1) - log(a*exp(g) + 1)/a)*exp(g)/(a*(a*exp(g) + 1)*((a*exp(g) + 1)**(1/a) - 1)))*exp(g)/(a*exp(g) + 1)"
      ]
     },
     "execution_count": 19,
     "metadata": {},
     "output_type": "execute_result"
    }
   ],
   "source": [
    "l_ZINB.diff(g, 2, a, 1)"
   ]
  }
 ],
 "metadata": {
  "kernelspec": {
   "display_name": "Python 3 (ipykernel)",
   "language": "python",
   "name": "python3"
  },
  "language_info": {
   "codemirror_mode": {
    "name": "ipython",
    "version": 3
   },
   "file_extension": ".py",
   "mimetype": "text/x-python",
   "name": "python",
   "nbconvert_exporter": "python",
   "pygments_lexer": "ipython3",
   "version": "3.10.15"
  }
 },
 "nbformat": 4,
 "nbformat_minor": 5
}
