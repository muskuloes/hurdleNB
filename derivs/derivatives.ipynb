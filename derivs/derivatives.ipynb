{
 "cells": [
  {
   "cell_type": "code",
   "execution_count": 1,
   "id": "60700f4e-8099-4974-984c-738f786ec5f2",
   "metadata": {},
   "outputs": [],
   "source": [
    "import numpy as np\n",
    "from IPython.display import Math, display\n",
    "from sympy import exp, gamma, latex, log, polygamma, simplify, symbols"
   ]
  },
  {
   "cell_type": "code",
   "execution_count": 2,
   "id": "bcef9664-ec6f-4223-8fbb-c5f7bae073a2",
   "metadata": {},
   "outputs": [],
   "source": [
    "def cprint(tex_text):\n",
    "    display(Math(tex_text))"
   ]
  },
  {
   "cell_type": "markdown",
   "id": "7d4cc949-c6d7-4965-95e9-8ab66078ec09",
   "metadata": {},
   "source": [
    "# Derivatives for the extended GAM implementation"
   ]
  },
  {
   "cell_type": "markdown",
   "id": "1799d688-c3c5-4fbd-b47d-ddc2276fedd8",
   "metadata": {},
   "source": [
    "\\begin{align*}\n",
    "y&: y \\\\\n",
    "a&: \\alpha = \\exp(\\theta_{0}) \\\\\n",
    "n&: \\eta \\\\\n",
    "g&: \\gamma \\\\\n",
    "\\end{align*}\n",
    "where $\\theta_{0}\\in \\mathbb{R}$ is an unrestricted parameter."
   ]
  },
  {
   "cell_type": "code",
   "execution_count": 3,
   "id": "bc71e175-b1d6-4937-b73c-e179562da425",
   "metadata": {},
   "outputs": [],
   "source": [
    "y, t0, n, g = symbols(\"y, theta0, eta, gamma\")\n",
    "a = exp(t0)"
   ]
  },
  {
   "cell_type": "code",
   "execution_count": 4,
   "id": "24b1bd07-5294-45ee-a14f-6cd9524f397e",
   "metadata": {},
   "outputs": [
    {
     "data": {
      "text/latex": [
       "$\\displaystyle \\ell_{ZTNB} = \\gamma y + y \\log{\\left(\\alpha \\right)} - y \\log{\\left(\\alpha e^{\\gamma} + 1 \\right)} - \\log{\\left(\\left(\\alpha e^{\\gamma} + 1\\right)^{\\frac{1}{\\alpha}} - 1 \\right)} - \\log{\\left(\\Gamma\\left(\\frac{1}{\\alpha}\\right) \\right)} - \\log{\\left(\\Gamma\\left(y + 1\\right) \\right)} + \\log{\\left(\\Gamma\\left(y + \\frac{1}{\\alpha}\\right) \\right)}$"
      ],
      "text/plain": [
       "<IPython.core.display.Math object>"
      ]
     },
     "metadata": {},
     "output_type": "display_data"
    }
   ],
   "source": [
    "l_ZTNB = (\n",
    "    y * log(a)\n",
    "    + y * g\n",
    "    - y * log(1 + a * exp(g))\n",
    "    + log(gamma(y + 1 / a))\n",
    "    - log(gamma(y + 1))\n",
    "    - log(gamma(1 / a))\n",
    "    - log(((1 + a * exp(g)) ** (1 / a)) - 1)\n",
    ")\n",
    "\n",
    "cprint(rf\"\\ell_{{ZTNB}} = {latex(l_ZTNB.subs(a, 'alpha'))}\")"
   ]
  },
  {
   "cell_type": "code",
   "execution_count": 5,
   "id": "4bf0931d-6396-4652-8b1a-af3e66eb6aa9",
   "metadata": {},
   "outputs": [
    {
     "data": {
      "text/latex": [
       "$\\displaystyle \\ell_{ZINB} = - e^{\\eta}, \\quad \\text{for} ~ y = 0.$"
      ],
      "text/plain": [
       "<IPython.core.display.Math object>"
      ]
     },
     "metadata": {},
     "output_type": "display_data"
    },
    {
     "data": {
      "text/latex": [
       "$\\displaystyle \\ell_{ZINB} = \\gamma y + y \\log{\\left(\\alpha \\right)} - y \\log{\\left(\\alpha e^{\\gamma} + 1 \\right)} + \\log{\\left(1 - e^{- e^{\\eta}} \\right)} - \\log{\\left(\\left(\\alpha e^{\\gamma} + 1\\right)^{\\frac{1}{\\alpha}} - 1 \\right)} - \\log{\\left(\\Gamma\\left(\\frac{1}{\\alpha}\\right) \\right)} - \\log{\\left(\\Gamma\\left(y + 1\\right) \\right)} + \\log{\\left(\\Gamma\\left(y + \\frac{1}{\\alpha}\\right) \\right)}, \\quad \\text{for} ~ y > 0.$"
      ],
      "text/plain": [
       "<IPython.core.display.Math object>"
      ]
     },
     "metadata": {},
     "output_type": "display_data"
    }
   ],
   "source": [
    "# for y == 0\n",
    "l0_ZINB = -exp(n)\n",
    "# for y_p = y > 0\n",
    "l_ZINB = log(1 - exp(-exp(n))) + l_ZTNB\n",
    "\n",
    "cprint(rf\"\\ell_{{ZINB}} = {latex(l0_ZINB)}, \\quad \\text{{for}} ~ y = 0.\")\n",
    "cprint(\n",
    "    rf\"\\ell_{{ZINB}} = {latex(l_ZINB.subs(a, 'alpha'))}, \\quad \\text{{for}} ~ y > 0.\"\n",
    ")"
   ]
  },
  {
   "cell_type": "markdown",
   "id": "6ced3a5e-08b9-4b46-93aa-b3a980fcc1ab",
   "metadata": {},
   "source": [
    "## Derivatives, for $y > 0$"
   ]
  },
  {
   "cell_type": "markdown",
   "id": "e3dbb424-b147-4408-a149-4c5af2e52ac1",
   "metadata": {},
   "source": [
    "#### w.r.t. $\\eta$"
   ]
  },
  {
   "cell_type": "code",
   "execution_count": 6,
   "id": "1c1c94a6-2b36-4aa5-87ba-72583096462c",
   "metadata": {},
   "outputs": [
    {
     "data": {
      "text/latex": [
       "$\\displaystyle \\ell_{\\eta} = \\frac{e^{\\eta} e^{- e^{\\eta}}}{1 - e^{- e^{\\eta}}}$"
      ],
      "text/plain": [
       "<IPython.core.display.Math object>"
      ]
     },
     "metadata": {},
     "output_type": "display_data"
    }
   ],
   "source": [
    "l_e = l_ZINB.diff(n, 1)\n",
    "cprint(rf\"\\ell_{{\\eta}} = {latex(l_e)}\")"
   ]
  },
  {
   "cell_type": "code",
   "execution_count": 7,
   "id": "9e5858f0-5171-40e0-aa86-3c0a9081344e",
   "metadata": {},
   "outputs": [
    {
     "data": {
      "text/latex": [
       "$\\displaystyle \\ell_{\\eta\\eta} = - l_{\\eta}^{2} - l_{\\eta} e^{\\eta} + l_{\\eta}$"
      ],
      "text/plain": [
       "<IPython.core.display.Math object>"
      ]
     },
     "metadata": {},
     "output_type": "display_data"
    }
   ],
   "source": [
    "l_ee = l_ZINB.diff(n, 2).subs(l_e, \"l_eta\").expand()\n",
    "cprint(rf\"\\ell_{{\\eta\\eta}} = {latex(l_ee)}\")"
   ]
  },
  {
   "cell_type": "code",
   "execution_count": 8,
   "id": "e6439f28-8791-4c0a-b79f-a2c08c14b938",
   "metadata": {},
   "outputs": [
    {
     "data": {
      "text/latex": [
       "$\\displaystyle \\ell_{\\eta\\eta\\eta} = 2 l_{\\eta}^{3} + 3 l_{\\eta}^{2} e^{\\eta} - 3 l_{\\eta}^{2} + l_{\\eta} e^{2 \\eta} - 3 l_{\\eta} e^{\\eta} + l_{\\eta}$"
      ],
      "text/plain": [
       "<IPython.core.display.Math object>"
      ]
     },
     "metadata": {},
     "output_type": "display_data"
    }
   ],
   "source": [
    "l_eee = l_ZINB.diff(n, 3).subs(l_e, \"l_eta\").expand()\n",
    "cprint(rf\"\\ell_{{\\eta\\eta\\eta}} = {latex(l_eee)}\")"
   ]
  },
  {
   "cell_type": "code",
   "execution_count": 9,
   "id": "51f17d35-a86a-4d85-a3e3-e014022ab3c8",
   "metadata": {},
   "outputs": [
    {
     "data": {
      "text/latex": [
       "$\\displaystyle \\ell_{\\eta\\eta\\eta\\eta} = - 6 l_{\\eta}^{4} - 12 l_{\\eta}^{3} e^{\\eta} + 12 l_{\\eta}^{3} - 7 l_{\\eta}^{2} e^{2 \\eta} + 18 l_{\\eta}^{2} e^{\\eta} - 7 l_{\\eta}^{2} - l_{\\eta} e^{3 \\eta} + 6 l_{\\eta} e^{2 \\eta} - 7 l_{\\eta} e^{\\eta} + l_{\\eta}$"
      ],
      "text/plain": [
       "<IPython.core.display.Math object>"
      ]
     },
     "metadata": {},
     "output_type": "display_data"
    }
   ],
   "source": [
    "l_eeee = l_ZINB.diff(n, 4).subs(l_e, \"l_eta\").expand()\n",
    "cprint(rf\"\\ell_{{\\eta\\eta\\eta\\eta}} = {latex(l_eeee)}\")"
   ]
  },
  {
   "cell_type": "markdown",
   "id": "242f9346-a418-45e7-8603-bafeb089193f",
   "metadata": {},
   "source": [
    "#### w.r.t. $\\gamma$"
   ]
  },
  {
   "cell_type": "code",
   "execution_count": 10,
   "id": "c3f183de-687b-4fb6-ab36-281155d36caf",
   "metadata": {},
   "outputs": [],
   "source": [
    "alpha, kappa, tau = symbols(\"alpha kappa tau\")\n",
    "\n",
    "k = exp(g) / (1 + alpha * exp(g))\n",
    "t = ((1 + alpha * exp(g)) ** (1 / alpha)) / ((1 + alpha * exp(g)) ** (1 / alpha) - 1)"
   ]
  },
  {
   "cell_type": "code",
   "execution_count": 11,
   "id": "a8bd8f39-7d75-417c-874a-545ffb6e3043",
   "metadata": {},
   "outputs": [
    {
     "data": {
      "text/latex": [
       "$\\displaystyle \\ell_{\\gamma} = - \\alpha \\kappa y - \\kappa \\tau + y$"
      ],
      "text/plain": [
       "<IPython.core.display.Math object>"
      ]
     },
     "metadata": {},
     "output_type": "display_data"
    }
   ],
   "source": [
    "l_g = l_ZINB.diff(g, 1).subs(a, alpha).subs(k, kappa).subs(t, tau)\n",
    "cprint(rf\"\\ell_{{\\gamma}} = {latex(l_g)}\")"
   ]
  },
  {
   "cell_type": "code",
   "execution_count": 12,
   "id": "1eb49c78-3955-42a5-ba7a-19f78aed36af",
   "metadata": {},
   "outputs": [
    {
     "data": {
      "text/latex": [
       "$\\displaystyle \\ell_{\\gamma\\gamma} = - \\ell_{\\gamma} \\alpha \\kappa + \\kappa^{2} \\tau^{2} - \\kappa^{2} \\tau - \\kappa \\tau$"
      ],
      "text/plain": [
       "<IPython.core.display.Math object>"
      ]
     },
     "metadata": {},
     "output_type": "display_data"
    }
   ],
   "source": [
    "l_gg = l_ZINB.diff(g, 2).subs(a, alpha).subs(k, kappa).subs(t, tau).expand()\n",
    "\n",
    "lg = symbols(r\"\\ell_{\\gamma}\")\n",
    "sl_gg = -alpha * kappa * lg - kappa * tau + kappa**2 * tau**2 - kappa**2 * tau\n",
    "assert simplify(sl_gg.subs(lg, l_g) - l_gg) == 0\n",
    "cprint(rf\"\\ell_{{\\gamma\\gamma}} = {latex(sl_gg)}\")"
   ]
  },
  {
   "cell_type": "code",
   "execution_count": 13,
   "id": "bf9f4117-d8eb-4bc1-8fa1-a21ed6adc7da",
   "metadata": {},
   "outputs": [
    {
     "data": {
      "text/latex": [
       "$\\displaystyle \\ell_{\\gamma\\gamma\\gamma} = - 2 \\ell_{\\gamma\\gamma} \\alpha \\kappa + \\ell_{\\gamma\\gamma} - \\alpha \\kappa^{3} \\tau^{2} + \\alpha \\kappa^{3} \\tau - 2 \\kappa^{3} \\tau^{3} + 3 \\kappa^{3} \\tau^{2} - \\kappa^{3} \\tau + 2 \\kappa^{2} \\tau^{2} - 2 \\kappa^{2} \\tau$"
      ],
      "text/plain": [
       "<IPython.core.display.Math object>"
      ]
     },
     "metadata": {},
     "output_type": "display_data"
    }
   ],
   "source": [
    "l_ggg = l_ZINB.diff(g, 3).subs(a, alpha).subs(k, kappa).subs(t, tau).expand()\n",
    "\n",
    "lgg = symbols(r\"\\ell_{\\gamma\\gamma}\")\n",
    "sl_ggg = (\n",
    "    -2 * alpha * kappa * lgg\n",
    "    + lgg\n",
    "    - alpha * kappa**3 * tau**2\n",
    "    + alpha * kappa**3 * tau\n",
    "    + 2 * kappa**2 * tau**2\n",
    "    - 2 * kappa**2 * tau\n",
    "    - 2 * kappa**3 * tau**3\n",
    "    + 3 * kappa**3 * tau**2\n",
    "    - kappa**3 * tau\n",
    ")\n",
    "assert simplify(sl_ggg.subs(lgg, l_gg) - l_ggg) == 0\n",
    "cprint(rf\"\\ell_{{\\gamma\\gamma\\gamma}} = {latex(sl_ggg)}\")"
   ]
  },
  {
   "cell_type": "code",
   "execution_count": 14,
   "id": "b6eb44eb-c9c4-4ad1-a2fa-d38d8e74d615",
   "metadata": {},
   "outputs": [
    {
     "data": {
      "text/latex": [
       "$\\displaystyle \\ell_{\\gamma\\gamma\\gamma\\gamma} = 6 \\alpha^{4} \\kappa^{4} y + 6 \\alpha^{3} \\kappa^{4} \\tau - 12 \\alpha^{3} \\kappa^{3} y + 11 \\alpha^{2} \\kappa^{4} \\tau^{2} - 11 \\alpha^{2} \\kappa^{4} \\tau - 12 \\alpha^{2} \\kappa^{3} \\tau + 7 \\alpha^{2} \\kappa^{2} y + 12 \\alpha \\kappa^{4} \\tau^{3} - 18 \\alpha \\kappa^{4} \\tau^{2} + 6 \\alpha \\kappa^{4} \\tau - 18 \\alpha \\kappa^{3} \\tau^{2} + 18 \\alpha \\kappa^{3} \\tau + 7 \\alpha \\kappa^{2} \\tau - \\alpha \\kappa y + 6 \\kappa^{4} \\tau^{4} - 12 \\kappa^{4} \\tau^{3} + 7 \\kappa^{4} \\tau^{2} - \\kappa^{4} \\tau - 12 \\kappa^{3} \\tau^{3} + 18 \\kappa^{3} \\tau^{2} - 6 \\kappa^{3} \\tau + 7 \\kappa^{2} \\tau^{2} - 7 \\kappa^{2} \\tau - \\kappa \\tau$"
      ],
      "text/plain": [
       "<IPython.core.display.Math object>"
      ]
     },
     "metadata": {},
     "output_type": "display_data"
    }
   ],
   "source": [
    "l_gggg = l_ZINB.diff(g, 4).subs(a, alpha).subs(k, kappa).subs(t, tau).expand()\n",
    "cprint(rf\"\\ell_{{\\gamma\\gamma\\gamma\\gamma}} = {latex(l_gggg)}\")"
   ]
  },
  {
   "cell_type": "markdown",
   "id": "3c422df3-5355-458b-b970-a14204726dce",
   "metadata": {},
   "source": [
    "#### w.r.t. $\\theta_0$"
   ]
  },
  {
   "cell_type": "code",
   "execution_count": 15,
   "id": "4281dffc-6fa2-4777-b313-e679dfccd4b3",
   "metadata": {},
   "outputs": [],
   "source": [
    "omega = symbols(\"omega\")\n",
    "w = (1 / alpha) * log(1 + alpha * exp(g)) - kappa"
   ]
  },
  {
   "cell_type": "code",
   "execution_count": 16,
   "id": "4819a8d7-aaa7-4871-a148-a974ce749346",
   "metadata": {},
   "outputs": [
    {
     "data": {
      "text/latex": [
       "$\\displaystyle \\ell_{\\theta_0} = - \\alpha \\kappa y + \\omega \\tau + y + \\frac{\\operatorname{polygamma}{\\left(0,\\frac{1}{\\alpha} \\right)}}{\\alpha} - \\frac{\\operatorname{polygamma}{\\left(0,y + \\frac{1}{\\alpha} \\right)}}{\\alpha}$"
      ],
      "text/plain": [
       "<IPython.core.display.Math object>"
      ]
     },
     "metadata": {},
     "output_type": "display_data"
    }
   ],
   "source": [
    "l_t0 = l_ZINB.diff(t0, 1).subs(a, alpha).subs(k, kappa).subs(t, tau).subs(w, omega)\n",
    "cprint(rf\"\\ell_{{\\theta_{0}}} = {latex(l_t0)}\")"
   ]
  },
  {
   "cell_type": "code",
   "execution_count": 17,
   "id": "02bb1fde-8a05-4d67-a7b9-e18175183b84",
   "metadata": {},
   "outputs": [
    {
     "data": {
      "text/latex": [
       "$\\displaystyle \\ell_{\\theta_0\\theta_0} = - \\ell_{\\gamma} \\alpha \\kappa + \\omega^{2} \\tau^{2} - \\omega^{2} \\tau - \\omega \\tau - \\frac{\\operatorname{polygamma}{\\left(0,\\frac{1}{\\alpha} \\right)}}{\\alpha} + \\frac{\\operatorname{polygamma}{\\left(0,y + \\frac{1}{\\alpha} \\right)}}{\\alpha} - \\frac{\\operatorname{polygamma}{\\left(1,\\frac{1}{\\alpha} \\right)}}{\\alpha^{2}} + \\frac{\\operatorname{polygamma}{\\left(1,y + \\frac{1}{\\alpha} \\right)}}{\\alpha^{2}}$"
      ],
      "text/plain": [
       "<IPython.core.display.Math object>"
      ]
     },
     "metadata": {},
     "output_type": "display_data"
    }
   ],
   "source": [
    "l_t0t0 = l_ZINB.diff(t0, 2).subs(a, alpha).subs(k, kappa).subs(t, tau).subs(w, omega)\n",
    "\n",
    "sl_t0t0 = (\n",
    "    -alpha * kappa * lg\n",
    "    + omega**2 * tau**2\n",
    "    - omega**2 * tau\n",
    "    - omega * tau\n",
    "    - polygamma(0, 1 / alpha) / alpha\n",
    "    + polygamma(0, y + 1 / alpha) / alpha\n",
    "    - polygamma(1, 1 / alpha) / alpha**2\n",
    "    + polygamma(1, y + 1 / alpha) / alpha**2\n",
    ")\n",
    "assert simplify(sl_t0t0.subs(lg, l_g) - l_t0t0) == 0\n",
    "cprint(rf\"\\ell_{{\\theta_{0}\\theta_{0}}} = {latex(sl_t0t0)}\")"
   ]
  },
  {
   "cell_type": "markdown",
   "id": "eebc07d1-e6f0-43db-935d-3f700ddf12df",
   "metadata": {},
   "source": [
    "#### Mixed derivatives"
   ]
  },
  {
   "cell_type": "markdown",
   "id": "b217d724-fce3-4542-b8d1-d66b5ebc5f2f",
   "metadata": {},
   "source": [
    "Mixed derivatives involving $\\eta$ are all 0 in the GAMLSS case. In the Extended GAM case, with $\\eta=\\theta_{1} + \\exp(\\theta_{2})\\gamma$, we are interested in mixed derivatives involving $\\gamma$ and $\\theta_{i}, i=0,1,2$."
   ]
  },
  {
   "cell_type": "code",
   "execution_count": 18,
   "id": "435e764c-6cd0-4685-8e1f-410d7235a59e",
   "metadata": {},
   "outputs": [
    {
     "data": {
      "text/latex": [
       "$\\displaystyle \\ell_{\\gamma\\theta_0} = - \\ell_{\\gamma} \\alpha \\kappa - \\kappa \\omega \\tau^{2} + \\kappa \\omega \\tau$"
      ],
      "text/plain": [
       "<IPython.core.display.Math object>"
      ]
     },
     "metadata": {},
     "output_type": "display_data"
    }
   ],
   "source": [
    "# for quasi-Newton\n",
    "l_gt0 = (\n",
    "    l_ZINB.diff(g, 1, t0, 1)\n",
    "    .subs(a, alpha)\n",
    "    .subs(k, kappa)\n",
    "    .subs(t, tau)\n",
    "    .subs(w, omega)\n",
    "    .expand()\n",
    ")\n",
    "\n",
    "sl_gt0 = -alpha * kappa * lg - kappa * tau**2 * omega + kappa * tau * omega\n",
    "assert simplify(sl_gt0.subs(lg, l_g) - l_gt0) == 0\n",
    "cprint(rf\"\\ell_{{\\gamma\\theta_{0}}} = {latex(sl_gt0)}\")"
   ]
  },
  {
   "cell_type": "code",
   "execution_count": 19,
   "id": "a805a307-80c7-44f5-8704-86e2e43f4a62",
   "metadata": {},
   "outputs": [
    {
     "data": {
      "text/latex": [
       "$\\displaystyle \\ell_{\\gamma\\gamma\\theta_0} = - 2 \\ell_{\\gamma\\theta_{0}} \\alpha \\kappa + \\ell_{\\gamma\\theta_{0}} - 2 \\alpha \\kappa^{3} \\tau^{2} + 2 \\alpha \\kappa^{3} \\tau - \\alpha \\kappa^{2} \\omega \\tau^{2} + \\alpha \\kappa^{2} \\omega \\tau + \\alpha \\kappa^{2} \\tau + 2 \\kappa^{2} \\omega \\tau^{3} - 3 \\kappa^{2} \\omega \\tau^{2} + \\kappa^{2} \\omega \\tau$"
      ],
      "text/plain": [
       "<IPython.core.display.Math object>"
      ]
     },
     "metadata": {},
     "output_type": "display_data"
    }
   ],
   "source": [
    "# for quasi-Newton\n",
    "l_ggt0 = (\n",
    "    l_ZINB.diff(g, 2, t0, 1)\n",
    "    .subs(a, alpha)\n",
    "    .subs(k, kappa)\n",
    "    .subs(t, tau)\n",
    "    .subs(w, omega)\n",
    "    .expand()\n",
    ")\n",
    "\n",
    "lgt0 = symbols(r\"\\ell_{\\gamma\\theta_{0}}\")\n",
    "sl_ggt0 = (\n",
    "    -2 * alpha * kappa * lgt0\n",
    "    + lgt0\n",
    "    + alpha * kappa**2 * tau\n",
    "    - alpha * kappa**2 * omega * tau**2\n",
    "    + alpha * kappa**2 * omega * tau\n",
    "    - 2 * alpha * kappa**3 * tau**2\n",
    "    + 2 * alpha * kappa**3 * tau\n",
    "    + 2 * kappa**2 * omega * tau**3\n",
    "    - 3 * kappa**2 * omega * tau**2\n",
    "    + kappa**2 * omega * tau\n",
    ")\n",
    "assert simplify(sl_ggt0.subs(lgt0, l_gt0) - l_ggt0) == 0\n",
    "cprint(rf\"\\ell_{{\\gamma\\gamma\\theta_{0}}} = {latex(sl_ggt0)}\")"
   ]
  },
  {
   "cell_type": "code",
   "execution_count": 20,
   "id": "fde98722-0c67-4fbd-a7b4-53486867411d",
   "metadata": {},
   "outputs": [
    {
     "data": {
      "text/latex": [
       "$\\displaystyle \\ell_{\\gamma\\theta_0\\theta_0} = - 2 \\alpha^{3} \\kappa^{3} y - 2 \\alpha^{2} \\kappa^{3} \\tau + 3 \\alpha^{2} \\kappa^{2} y - \\alpha \\kappa^{3} \\tau^{2} + \\alpha \\kappa^{3} \\tau + 2 \\alpha \\kappa^{2} \\omega \\tau^{2} - 2 \\alpha \\kappa^{2} \\omega \\tau + \\alpha \\kappa^{2} \\tau - \\alpha \\kappa y - 2 \\kappa \\omega^{2} \\tau^{3} + 3 \\kappa \\omega^{2} \\tau^{2} - \\kappa \\omega^{2} \\tau + \\kappa \\omega \\tau^{2} - \\kappa \\omega \\tau$"
      ],
      "text/plain": [
       "<IPython.core.display.Math object>"
      ]
     },
     "metadata": {},
     "output_type": "display_data"
    }
   ],
   "source": [
    "# for full Newton\n",
    "# not simplified\n",
    "l_gt0t0 = (\n",
    "    l_ZINB.diff(g, 1, t0, 2)\n",
    "    .subs(a, alpha)\n",
    "    .subs(k, kappa)\n",
    "    .subs(t, tau)\n",
    "    .subs(w, omega)\n",
    "    .expand()\n",
    ")\n",
    "cprint(rf\"\\ell_{{\\gamma\\theta_{0}\\theta_{0}}} = {latex(l_gt0t0)}\")"
   ]
  },
  {
   "cell_type": "code",
   "execution_count": 21,
   "id": "9ba5aa9a-cc51-4ca4-9230-0e7ac950c7a1",
   "metadata": {},
   "outputs": [
    {
     "data": {
      "text/latex": [
       "$\\displaystyle \\ell_{\\gamma\\gamma\\theta_0\\theta_0} = 6 \\alpha^{4} \\kappa^{4} y + 6 \\alpha^{3} \\kappa^{4} \\tau - 12 \\alpha^{3} \\kappa^{3} y + 7 \\alpha^{2} \\kappa^{4} \\tau^{2} - 7 \\alpha^{2} \\kappa^{4} \\tau - 4 \\alpha^{2} \\kappa^{3} \\omega \\tau^{2} + 4 \\alpha^{2} \\kappa^{3} \\omega \\tau - 8 \\alpha^{2} \\kappa^{3} \\tau + 7 \\alpha^{2} \\kappa^{2} y + 2 \\alpha \\kappa^{4} \\tau^{3} - 3 \\alpha \\kappa^{4} \\tau^{2} + \\alpha \\kappa^{4} \\tau - 8 \\alpha \\kappa^{3} \\omega \\tau^{3} + 12 \\alpha \\kappa^{3} \\omega \\tau^{2} - 4 \\alpha \\kappa^{3} \\omega \\tau - 3 \\alpha \\kappa^{3} \\tau^{2} + 3 \\alpha \\kappa^{3} \\tau + 2 \\alpha \\kappa^{2} \\omega^{2} \\tau^{3} - 3 \\alpha \\kappa^{2} \\omega^{2} \\tau^{2} + \\alpha \\kappa^{2} \\omega^{2} \\tau + 3 \\alpha \\kappa^{2} \\omega \\tau^{2} - 3 \\alpha \\kappa^{2} \\omega \\tau + 2 \\alpha \\kappa^{2} \\tau - \\alpha \\kappa y + 6 \\kappa^{2} \\omega^{2} \\tau^{4} - 12 \\kappa^{2} \\omega^{2} \\tau^{3} + 7 \\kappa^{2} \\omega^{2} \\tau^{2} - \\kappa^{2} \\omega^{2} \\tau - 2 \\kappa^{2} \\omega \\tau^{3} + 3 \\kappa^{2} \\omega \\tau^{2} - \\kappa^{2} \\omega \\tau - 2 \\kappa \\omega^{2} \\tau^{3} + 3 \\kappa \\omega^{2} \\tau^{2} - \\kappa \\omega^{2} \\tau + \\kappa \\omega \\tau^{2} - \\kappa \\omega \\tau$"
      ],
      "text/plain": [
       "<IPython.core.display.Math object>"
      ]
     },
     "metadata": {},
     "output_type": "display_data"
    }
   ],
   "source": [
    "# for full Newton\n",
    "# not simplified\n",
    "l_ggt0t0 = (\n",
    "    l_ZINB.diff(g, 2, t0, 2)\n",
    "    .subs(a, alpha)\n",
    "    .subs(k, kappa)\n",
    "    .subs(t, tau)\n",
    "    .collect(4)\n",
    "    .subs(w, omega)\n",
    "    .expand()\n",
    ")\n",
    "cprint(rf\"\\ell_{{\\gamma\\gamma\\theta_{0}\\theta_{0}}} = {latex(l_ggt0t0)}\")"
   ]
  },
  {
   "cell_type": "code",
   "execution_count": 22,
   "id": "b46399d3-c41b-429f-87db-9660625bd632",
   "metadata": {},
   "outputs": [
    {
     "data": {
      "text/latex": [
       "$\\displaystyle \\ell_{\\gamma\\gamma\\gamma\\theta_0} = 6 \\alpha^{4} \\kappa^{4} y + 6 \\alpha^{3} \\kappa^{4} \\tau - 12 \\alpha^{3} \\kappa^{3} y + 9 \\alpha^{2} \\kappa^{4} \\tau^{2} - 9 \\alpha^{2} \\kappa^{4} \\tau - 2 \\alpha^{2} \\kappa^{3} \\omega \\tau^{2} + 2 \\alpha^{2} \\kappa^{3} \\omega \\tau - 10 \\alpha^{2} \\kappa^{3} \\tau + 7 \\alpha^{2} \\kappa^{2} y + 6 \\alpha \\kappa^{4} \\tau^{3} - 9 \\alpha \\kappa^{4} \\tau^{2} + 3 \\alpha \\kappa^{4} \\tau - 6 \\alpha \\kappa^{3} \\omega \\tau^{3} + 9 \\alpha \\kappa^{3} \\omega \\tau^{2} - 3 \\alpha \\kappa^{3} \\omega \\tau - 9 \\alpha \\kappa^{3} \\tau^{2} + 9 \\alpha \\kappa^{3} \\tau + 3 \\alpha \\kappa^{2} \\omega \\tau^{2} - 3 \\alpha \\kappa^{2} \\omega \\tau + 4 \\alpha \\kappa^{2} \\tau - \\alpha \\kappa y - 6 \\kappa^{3} \\omega \\tau^{4} + 12 \\kappa^{3} \\omega \\tau^{3} - 7 \\kappa^{3} \\omega \\tau^{2} + \\kappa^{3} \\omega \\tau + 6 \\kappa^{2} \\omega \\tau^{3} - 9 \\kappa^{2} \\omega \\tau^{2} + 3 \\kappa^{2} \\omega \\tau - \\kappa \\omega \\tau^{2} + \\kappa \\omega \\tau$"
      ],
      "text/plain": [
       "<IPython.core.display.Math object>"
      ]
     },
     "metadata": {},
     "output_type": "display_data"
    }
   ],
   "source": [
    "# for full Newton\n",
    "# not simplified\n",
    "l_gggt0 = (\n",
    "    l_ZINB.diff(g, 3, t0, 1)\n",
    "    .subs(a, alpha)\n",
    "    .subs(k, kappa)\n",
    "    .subs(t, tau)\n",
    "    .collect([2, 6, 7, 12])\n",
    "    .subs(w, omega)\n",
    "    .expand()\n",
    ")\n",
    "cprint(rf\"\\ell_{{\\gamma\\gamma\\gamma\\theta_{0}}} = {latex(l_gggt0)}\")"
   ]
  },
  {
   "cell_type": "markdown",
   "id": "9c87c1a6-8e5a-491a-9591-abf5d583933f",
   "metadata": {},
   "source": [
    "Further mixed derivatives are trivial."
   ]
  }
 ],
 "metadata": {
  "kernelspec": {
   "display_name": "Python 3 (ipykernel)",
   "language": "python",
   "name": "python3"
  },
  "language_info": {
   "codemirror_mode": {
    "name": "ipython",
    "version": 3
   },
   "file_extension": ".py",
   "mimetype": "text/x-python",
   "name": "python",
   "nbconvert_exporter": "python",
   "pygments_lexer": "ipython3",
   "version": "3.10.16"
  }
 },
 "nbformat": 4,
 "nbformat_minor": 5
}
