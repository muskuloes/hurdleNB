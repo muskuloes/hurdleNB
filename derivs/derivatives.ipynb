{
 "cells": [
  {
   "cell_type": "code",
   "execution_count": 1,
   "id": "60700f4e-8099-4974-984c-738f786ec5f2",
   "metadata": {},
   "outputs": [],
   "source": [
    "import numpy as np\n",
    "import sympy as sp\n",
    "from IPython.display import Math, display"
   ]
  },
  {
   "cell_type": "code",
   "execution_count": 2,
   "id": "bcef9664-ec6f-4223-8fbb-c5f7bae073a2",
   "metadata": {},
   "outputs": [],
   "source": [
    "def cprint(tex_text):\n",
    "    display(Math(tex_text))"
   ]
  },
  {
   "cell_type": "markdown",
   "id": "7d4cc949-c6d7-4965-95e9-8ab66078ec09",
   "metadata": {},
   "source": [
    "# Derivatives for the extended GAM implementation"
   ]
  },
  {
   "cell_type": "markdown",
   "id": "1799d688-c3c5-4fbd-b47d-ddc2276fedd8",
   "metadata": {},
   "source": [
    "\\begin{align*}\n",
    "y&: y \\\\\n",
    "a&: \\alpha = \\exp(\\theta_{0}) \\\\\n",
    "n&: \\eta \\\\\n",
    "g&: \\gamma \\\\\n",
    "\\end{align*}\n",
    "where $\\theta_{0}\\in \\mathbb{R}$ is an unrestricted parameter."
   ]
  },
  {
   "cell_type": "code",
   "execution_count": 3,
   "id": "bc71e175-b1d6-4937-b73c-e179562da425",
   "metadata": {},
   "outputs": [],
   "source": [
    "y, t0, n, g = sp.symbols(\"y, theta0, eta, gamma\")\n",
    "a = sp.exp(t0)"
   ]
  },
  {
   "cell_type": "code",
   "execution_count": 4,
   "id": "24b1bd07-5294-45ee-a14f-6cd9524f397e",
   "metadata": {},
   "outputs": [
    {
     "data": {
      "text/latex": [
       "$\\displaystyle \\ell_{ZTNB} = \\gamma y + y \\log{\\left(\\alpha \\right)} - y \\log{\\left(\\alpha e^{\\gamma} + 1 \\right)} - \\log{\\left(\\left(\\alpha e^{\\gamma} + 1\\right)^{\\frac{1}{\\alpha}} - 1 \\right)} - \\log{\\left(\\Gamma\\left(\\frac{1}{\\alpha}\\right) \\right)} - \\log{\\left(\\Gamma\\left(y + 1\\right) \\right)} + \\log{\\left(\\Gamma\\left(y + \\frac{1}{\\alpha}\\right) \\right)}$"
      ],
      "text/plain": [
       "<IPython.core.display.Math object>"
      ]
     },
     "metadata": {},
     "output_type": "display_data"
    }
   ],
   "source": [
    "l_ZTNB = (\n",
    "    y * sp.log(a)\n",
    "    + y * g\n",
    "    - y * sp.log(1 + a * sp.exp(g))\n",
    "    + sp.log(sp.gamma(y + 1 / a))\n",
    "    - sp.log(sp.gamma(y + 1))\n",
    "    - sp.log(sp.gamma(1 / a))\n",
    "    - sp.log(((1 + a * sp.exp(g)) ** (1 / a)) - 1)\n",
    ")\n",
    "\n",
    "cprint(rf\"\\ell_{{ZTNB}} = {sp.latex(l_ZTNB.subs(a, 'alpha'))}\")"
   ]
  },
  {
   "cell_type": "code",
   "execution_count": 5,
   "id": "4bf0931d-6396-4652-8b1a-af3e66eb6aa9",
   "metadata": {},
   "outputs": [
    {
     "data": {
      "text/latex": [
       "$\\displaystyle \\ell_{hurdleNB} = - e^{\\eta}, \\quad \\text{for} ~ y = 0.$"
      ],
      "text/plain": [
       "<IPython.core.display.Math object>"
      ]
     },
     "metadata": {},
     "output_type": "display_data"
    },
    {
     "data": {
      "text/latex": [
       "$\\displaystyle \\ell_{hurdleNB} = \\gamma y + y \\log{\\left(\\alpha \\right)} - y \\log{\\left(\\alpha e^{\\gamma} + 1 \\right)} + \\log{\\left(1 - e^{- e^{\\eta}} \\right)} - \\log{\\left(\\left(\\alpha e^{\\gamma} + 1\\right)^{\\frac{1}{\\alpha}} - 1 \\right)} - \\log{\\left(\\Gamma\\left(\\frac{1}{\\alpha}\\right) \\right)} - \\log{\\left(\\Gamma\\left(y + 1\\right) \\right)} + \\log{\\left(\\Gamma\\left(y + \\frac{1}{\\alpha}\\right) \\right)}, \\quad \\text{for} ~ y > 0.$"
      ],
      "text/plain": [
       "<IPython.core.display.Math object>"
      ]
     },
     "metadata": {},
     "output_type": "display_data"
    }
   ],
   "source": [
    "# for y == 0\n",
    "l0_hurdleNB = -sp.exp(n)\n",
    "# for y_p = y > 0\n",
    "l_hurdleNB = sp.log(1 - sp.exp(-sp.exp(n))) + l_ZTNB\n",
    "\n",
    "cprint(rf\"\\ell_{{hurdleNB}} = {sp.latex(l0_hurdleNB)}, \\quad \\text{{for}} ~ y = 0.\")\n",
    "cprint(\n",
    "    rf\"\\ell_{{hurdleNB}} = {sp.latex(l_hurdleNB.subs(a, 'alpha'))}, \\quad \\text{{for}} ~ y > 0.\"\n",
    ")"
   ]
  },
  {
   "cell_type": "markdown",
   "id": "6ced3a5e-08b9-4b46-93aa-b3a980fcc1ab",
   "metadata": {},
   "source": [
    "## Derivatives, for $y > 0$"
   ]
  },
  {
   "cell_type": "markdown",
   "id": "e3dbb424-b147-4408-a149-4c5af2e52ac1",
   "metadata": {},
   "source": [
    "#### w.r.t. $\\eta$"
   ]
  },
  {
   "cell_type": "code",
   "execution_count": 6,
   "id": "1c1c94a6-2b36-4aa5-87ba-72583096462c",
   "metadata": {},
   "outputs": [
    {
     "data": {
      "text/latex": [
       "$\\displaystyle \\ell_{\\eta} = \\frac{e^{\\eta} e^{- e^{\\eta}}}{1 - e^{- e^{\\eta}}}$"
      ],
      "text/plain": [
       "<IPython.core.display.Math object>"
      ]
     },
     "metadata": {},
     "output_type": "display_data"
    }
   ],
   "source": [
    "l_e = l_hurdleNB.diff(n, 1)\n",
    "cprint(rf\"\\ell_{{\\eta}} = {sp.latex(l_e)}\")"
   ]
  },
  {
   "cell_type": "code",
   "execution_count": 7,
   "id": "9e5858f0-5171-40e0-aa86-3c0a9081344e",
   "metadata": {},
   "outputs": [
    {
     "data": {
      "text/latex": [
       "$\\displaystyle \\ell_{\\eta\\eta} = - l_{\\eta}^{2} - l_{\\eta} e^{\\eta} + l_{\\eta}$"
      ],
      "text/plain": [
       "<IPython.core.display.Math object>"
      ]
     },
     "metadata": {},
     "output_type": "display_data"
    }
   ],
   "source": [
    "l_ee = l_hurdleNB.diff(n, 2).subs(l_e, \"l_eta\").expand()\n",
    "cprint(rf\"\\ell_{{\\eta\\eta}} = {sp.latex(l_ee)}\")"
   ]
  },
  {
   "cell_type": "code",
   "execution_count": 8,
   "id": "e6439f28-8791-4c0a-b79f-a2c08c14b938",
   "metadata": {},
   "outputs": [
    {
     "data": {
      "text/latex": [
       "$\\displaystyle \\ell_{\\eta\\eta\\eta} = 2 l_{\\eta}^{3} + 3 l_{\\eta}^{2} e^{\\eta} - 3 l_{\\eta}^{2} + l_{\\eta} e^{2 \\eta} - 3 l_{\\eta} e^{\\eta} + l_{\\eta}$"
      ],
      "text/plain": [
       "<IPython.core.display.Math object>"
      ]
     },
     "metadata": {},
     "output_type": "display_data"
    }
   ],
   "source": [
    "l_eee = l_hurdleNB.diff(n, 3).subs(l_e, \"l_eta\").expand()\n",
    "cprint(rf\"\\ell_{{\\eta\\eta\\eta}} = {sp.latex(l_eee)}\")"
   ]
  },
  {
   "cell_type": "code",
   "execution_count": 9,
   "id": "51f17d35-a86a-4d85-a3e3-e014022ab3c8",
   "metadata": {},
   "outputs": [
    {
     "data": {
      "text/latex": [
       "$\\displaystyle \\ell_{\\eta\\eta\\eta\\eta} = - 6 l_{\\eta}^{4} - 12 l_{\\eta}^{3} e^{\\eta} + 12 l_{\\eta}^{3} - 7 l_{\\eta}^{2} e^{2 \\eta} + 18 l_{\\eta}^{2} e^{\\eta} - 7 l_{\\eta}^{2} - l_{\\eta} e^{3 \\eta} + 6 l_{\\eta} e^{2 \\eta} - 7 l_{\\eta} e^{\\eta} + l_{\\eta}$"
      ],
      "text/plain": [
       "<IPython.core.display.Math object>"
      ]
     },
     "metadata": {},
     "output_type": "display_data"
    }
   ],
   "source": [
    "l_eeee = l_hurdleNB.diff(n, 4).subs(l_e, \"l_eta\").expand()\n",
    "cprint(rf\"\\ell_{{\\eta\\eta\\eta\\eta}} = {sp.latex(l_eeee)}\")"
   ]
  },
  {
   "cell_type": "markdown",
   "id": "242f9346-a418-45e7-8603-bafeb089193f",
   "metadata": {},
   "source": [
    "#### w.r.t. $\\gamma$"
   ]
  },
  {
   "cell_type": "code",
   "execution_count": 10,
   "id": "c3f183de-687b-4fb6-ab36-281155d36caf",
   "metadata": {},
   "outputs": [],
   "source": [
    "alpha, kappa, tau = sp.symbols(\"alpha kappa tau\")\n",
    "\n",
    "k = sp.exp(g) / (1 + alpha * sp.exp(g))\n",
    "t = ((1 + alpha * sp.exp(g)) ** (1 / alpha)) / (\n",
    "    (1 + alpha * sp.exp(g)) ** (1 / alpha) - 1\n",
    ")"
   ]
  },
  {
   "cell_type": "code",
   "execution_count": 11,
   "id": "a8bd8f39-7d75-417c-874a-545ffb6e3043",
   "metadata": {},
   "outputs": [
    {
     "data": {
      "text/latex": [
       "$\\displaystyle \\ell_{\\gamma} = - \\alpha \\kappa y - \\kappa \\tau + y$"
      ],
      "text/plain": [
       "<IPython.core.display.Math object>"
      ]
     },
     "metadata": {},
     "output_type": "display_data"
    }
   ],
   "source": [
    "l_g = l_hurdleNB.diff(g, 1).subs(a, alpha).subs(k, kappa).subs(t, tau)\n",
    "cprint(rf\"\\ell_{{\\gamma}} = {sp.latex(l_g)}\")"
   ]
  },
  {
   "cell_type": "code",
   "execution_count": 12,
   "id": "1eb49c78-3955-42a5-ba7a-19f78aed36af",
   "metadata": {},
   "outputs": [
    {
     "data": {
      "text/latex": [
       "$\\displaystyle \\ell_{\\gamma\\gamma} = - \\ell_{\\gamma} \\alpha \\kappa + \\kappa^{2} \\tau^{2} - \\kappa^{2} \\tau - \\kappa \\tau$"
      ],
      "text/plain": [
       "<IPython.core.display.Math object>"
      ]
     },
     "metadata": {},
     "output_type": "display_data"
    }
   ],
   "source": [
    "l_gg = l_hurdleNB.diff(g, 2).subs(a, alpha).subs(k, kappa).subs(t, tau).expand()\n",
    "\n",
    "lg = sp.symbols(r\"\\ell_{\\gamma}\")\n",
    "sl_gg = -alpha * kappa * lg - kappa * tau + kappa**2 * tau**2 - kappa**2 * tau\n",
    "assert sp.simplify(sl_gg.subs(lg, l_g) - l_gg) == 0\n",
    "cprint(rf\"\\ell_{{\\gamma\\gamma}} = {sp.latex(sl_gg)}\")"
   ]
  },
  {
   "cell_type": "code",
   "execution_count": 13,
   "id": "bf9f4117-d8eb-4bc1-8fa1-a21ed6adc7da",
   "metadata": {},
   "outputs": [
    {
     "data": {
      "text/latex": [
       "$\\displaystyle \\ell_{\\gamma\\gamma\\gamma} = - 2 \\ell_{\\gamma\\gamma} \\alpha \\kappa + \\ell_{\\gamma\\gamma} - \\alpha \\kappa^{3} \\tau^{2} + \\alpha \\kappa^{3} \\tau - 2 \\kappa^{3} \\tau^{3} + 3 \\kappa^{3} \\tau^{2} - \\kappa^{3} \\tau + 2 \\kappa^{2} \\tau^{2} - 2 \\kappa^{2} \\tau$"
      ],
      "text/plain": [
       "<IPython.core.display.Math object>"
      ]
     },
     "metadata": {},
     "output_type": "display_data"
    }
   ],
   "source": [
    "l_ggg = l_hurdleNB.diff(g, 3).subs(a, alpha).subs(k, kappa).subs(t, tau).expand()\n",
    "\n",
    "lgg = sp.symbols(r\"\\ell_{\\gamma\\gamma}\")\n",
    "sl_ggg = (\n",
    "    -2 * alpha * kappa * lgg\n",
    "    + lgg\n",
    "    - alpha * kappa**3 * tau**2\n",
    "    + alpha * kappa**3 * tau\n",
    "    + 2 * kappa**2 * tau**2\n",
    "    - 2 * kappa**2 * tau\n",
    "    - 2 * kappa**3 * tau**3\n",
    "    + 3 * kappa**3 * tau**2\n",
    "    - kappa**3 * tau\n",
    ")\n",
    "assert sp.simplify(sl_ggg.subs(lgg, l_gg) - l_ggg) == 0\n",
    "cprint(rf\"\\ell_{{\\gamma\\gamma\\gamma}} = {sp.latex(sl_ggg)}\")"
   ]
  },
  {
   "cell_type": "code",
   "execution_count": 14,
   "id": "b6eb44eb-c9c4-4ad1-a2fa-d38d8e74d615",
   "metadata": {},
   "outputs": [
    {
     "data": {
      "text/latex": [
       "$\\displaystyle \\ell_{\\gamma\\gamma\\gamma\\gamma} = - 3 \\ell_{\\gamma\\gamma\\gamma} \\alpha \\kappa + 6 \\ell_{\\gamma\\gamma\\gamma} + 9 \\ell_{\\gamma\\gamma} \\alpha \\kappa - 11 \\ell_{\\gamma\\gamma} - 6 \\ell_{\\gamma} \\alpha \\kappa + 2 \\alpha^{2} \\kappa^{4} \\tau^{2} - 2 \\alpha^{2} \\kappa^{4} \\tau + 6 \\alpha \\kappa^{4} \\tau^{3} - 9 \\alpha \\kappa^{4} \\tau^{2} + 3 \\alpha \\kappa^{4} \\tau + 6 \\kappa^{4} \\tau^{4} - 12 \\kappa^{4} \\tau^{3} + 7 \\kappa^{4} \\tau^{2} - \\kappa^{4} \\tau - 6 \\kappa \\tau$"
      ],
      "text/plain": [
       "<IPython.core.display.Math object>"
      ]
     },
     "metadata": {},
     "output_type": "display_data"
    }
   ],
   "source": [
    "# for full-Newton\n",
    "l_gggg = l_hurdleNB.diff(g, 4).subs(a, alpha).subs(k, kappa).subs(t, tau).expand()\n",
    "\n",
    "lggg = sp.symbols(r\"\\ell_{\\gamma\\gamma\\gamma}\")\n",
    "sl_gggg = (\n",
    "    -3 * alpha * kappa * lggg\n",
    "    + 6 * lggg\n",
    "    + 9 * alpha * kappa * lgg\n",
    "    - 11 * lgg\n",
    "    - 6 * alpha * kappa * lg\n",
    "    - 6 * kappa * tau\n",
    "    + 2 * alpha**2 * kappa**4 * tau**2\n",
    "    - 2 * alpha**2 * kappa**4 * tau\n",
    "    + 6 * alpha * kappa**4 * tau**3\n",
    "    - 9 * alpha * kappa**4 * tau**2\n",
    "    + 3 * alpha * kappa**4 * tau\n",
    "    + 6 * kappa**4 * tau**4\n",
    "    - 12 * kappa**4 * tau**3\n",
    "    + 7 * kappa**4 * tau**2\n",
    "    - kappa**4 * tau\n",
    ")\n",
    "\n",
    "assert (\n",
    "    sp.simplify(sl_gggg.subs(lggg, l_ggg).subs(lgg, l_gg).subs(lg, l_g) - l_gggg) == 0\n",
    ")\n",
    "cprint(rf\"\\ell_{{\\gamma\\gamma\\gamma\\gamma}} = {sp.latex(sl_gggg)}\")"
   ]
  },
  {
   "cell_type": "markdown",
   "id": "3c422df3-5355-458b-b970-a14204726dce",
   "metadata": {},
   "source": [
    "#### w.r.t. $\\theta_0$"
   ]
  },
  {
   "cell_type": "code",
   "execution_count": 15,
   "id": "4281dffc-6fa2-4777-b313-e679dfccd4b3",
   "metadata": {},
   "outputs": [],
   "source": [
    "omega = sp.symbols(\"omega\")\n",
    "w = (1 / alpha) * sp.log(1 + alpha * sp.exp(g)) - kappa"
   ]
  },
  {
   "cell_type": "code",
   "execution_count": 16,
   "id": "4819a8d7-aaa7-4871-a148-a974ce749346",
   "metadata": {},
   "outputs": [
    {
     "data": {
      "text/latex": [
       "$\\displaystyle \\ell_{\\vartheta_0} = - \\alpha \\kappa y + \\omega \\tau + y + \\frac{\\operatorname{polygamma}{\\left(0,\\frac{1}{\\alpha} \\right)}}{\\alpha} - \\frac{\\operatorname{polygamma}{\\left(0,y + \\frac{1}{\\alpha} \\right)}}{\\alpha}$"
      ],
      "text/plain": [
       "<IPython.core.display.Math object>"
      ]
     },
     "metadata": {},
     "output_type": "display_data"
    }
   ],
   "source": [
    "l_t0 = l_hurdleNB.diff(t0, 1).subs(a, alpha).subs(k, kappa).subs(t, tau).subs(w, omega)\n",
    "cprint(rf\"\\ell_{{\\vartheta_{0}}} = {sp.latex(l_t0)}\")"
   ]
  },
  {
   "cell_type": "code",
   "execution_count": 17,
   "id": "02bb1fde-8a05-4d67-a7b9-e18175183b84",
   "metadata": {},
   "outputs": [
    {
     "data": {
      "text/latex": [
       "$\\displaystyle \\ell_{\\vartheta_0\\vartheta_0} = - \\ell_{\\gamma} \\alpha \\kappa + \\omega^{2} \\tau^{2} - \\omega^{2} \\tau - \\omega \\tau - \\frac{\\operatorname{polygamma}{\\left(0,\\frac{1}{\\alpha} \\right)}}{\\alpha} + \\frac{\\operatorname{polygamma}{\\left(0,y + \\frac{1}{\\alpha} \\right)}}{\\alpha} - \\frac{\\operatorname{polygamma}{\\left(1,\\frac{1}{\\alpha} \\right)}}{\\alpha^{2}} + \\frac{\\operatorname{polygamma}{\\left(1,y + \\frac{1}{\\alpha} \\right)}}{\\alpha^{2}}$"
      ],
      "text/plain": [
       "<IPython.core.display.Math object>"
      ]
     },
     "metadata": {},
     "output_type": "display_data"
    }
   ],
   "source": [
    "# for full Newton\n",
    "l_t0t0 = (\n",
    "    l_hurdleNB.diff(t0, 2).subs(a, alpha).subs(k, kappa).subs(t, tau).subs(w, omega)\n",
    ")\n",
    "\n",
    "sl_t0t0 = (\n",
    "    -alpha * kappa * lg\n",
    "    + omega**2 * tau**2\n",
    "    - omega**2 * tau\n",
    "    - omega * tau\n",
    "    - sp.polygamma(0, 1 / alpha) / alpha\n",
    "    + sp.polygamma(0, y + 1 / alpha) / alpha\n",
    "    - sp.polygamma(1, 1 / alpha) / alpha**2\n",
    "    + sp.polygamma(1, y + 1 / alpha) / alpha**2\n",
    ")\n",
    "assert sp.simplify(sl_t0t0.subs(lg, l_g) - l_t0t0) == 0\n",
    "cprint(rf\"\\ell_{{\\vartheta_{0}\\vartheta_{0}}} = {sp.latex(sl_t0t0)}\")"
   ]
  },
  {
   "cell_type": "markdown",
   "id": "eebc07d1-e6f0-43db-935d-3f700ddf12df",
   "metadata": {},
   "source": [
    "#### Mixed derivatives"
   ]
  },
  {
   "cell_type": "markdown",
   "id": "b217d724-fce3-4542-b8d1-d66b5ebc5f2f",
   "metadata": {},
   "source": [
    "Mixed derivatives involving $\\eta$ are all 0 in the GAMLSS case. In the Extended GAM case, with $\\eta=\\theta_{1} + \\exp(\\theta_{2})\\gamma$, we are interested in mixed derivatives involving $\\gamma$ and $\\theta_{i}, i=0,1,2$."
   ]
  },
  {
   "cell_type": "code",
   "execution_count": 18,
   "id": "435e764c-6cd0-4685-8e1f-410d7235a59e",
   "metadata": {},
   "outputs": [
    {
     "data": {
      "text/latex": [
       "$\\displaystyle \\ell_{\\gamma\\vartheta_0} = - \\ell_{\\gamma} \\alpha \\kappa - \\kappa \\omega \\tau^{2} + \\kappa \\omega \\tau$"
      ],
      "text/plain": [
       "<IPython.core.display.Math object>"
      ]
     },
     "metadata": {},
     "output_type": "display_data"
    }
   ],
   "source": [
    "l_gt0 = (\n",
    "    l_hurdleNB.diff(g, 1, t0, 1)\n",
    "    .subs(a, alpha)\n",
    "    .subs(k, kappa)\n",
    "    .subs(t, tau)\n",
    "    .subs(w, omega)\n",
    "    .expand()\n",
    ")\n",
    "\n",
    "sl_gt0 = -alpha * kappa * lg - kappa * tau**2 * omega + kappa * tau * omega\n",
    "assert sp.simplify(sl_gt0.subs(lg, l_g) - l_gt0) == 0\n",
    "cprint(rf\"\\ell_{{\\gamma\\vartheta_{0}}} = {sp.latex(sl_gt0)}\")"
   ]
  },
  {
   "cell_type": "code",
   "execution_count": 19,
   "id": "a805a307-80c7-44f5-8704-86e2e43f4a62",
   "metadata": {},
   "outputs": [
    {
     "data": {
      "text/latex": [
       "$\\displaystyle \\ell_{\\gamma\\gamma\\vartheta_0} = - 2 \\ell_{\\gamma\\vartheta_{0}} \\alpha \\kappa + \\ell_{\\gamma\\vartheta_{0}} - 2 \\alpha \\kappa^{3} \\tau^{2} + 2 \\alpha \\kappa^{3} \\tau - \\alpha \\kappa^{2} \\omega \\tau^{2} + \\alpha \\kappa^{2} \\omega \\tau + \\alpha \\kappa^{2} \\tau + 2 \\kappa^{2} \\omega \\tau^{3} - 3 \\kappa^{2} \\omega \\tau^{2} + \\kappa^{2} \\omega \\tau$"
      ],
      "text/plain": [
       "<IPython.core.display.Math object>"
      ]
     },
     "metadata": {},
     "output_type": "display_data"
    }
   ],
   "source": [
    "l_ggt0 = (\n",
    "    l_hurdleNB.diff(g, 2, t0, 1)\n",
    "    .subs(a, alpha)\n",
    "    .subs(k, kappa)\n",
    "    .subs(t, tau)\n",
    "    .subs(w, omega)\n",
    "    .expand()\n",
    ")\n",
    "\n",
    "lgt0 = sp.symbols(r\"\\ell_{\\gamma\\vartheta_{0}}\")\n",
    "sl_ggt0 = (\n",
    "    -2 * alpha * kappa * lgt0\n",
    "    + lgt0\n",
    "    + alpha * kappa**2 * tau\n",
    "    - alpha * kappa**2 * omega * tau**2\n",
    "    + alpha * kappa**2 * omega * tau\n",
    "    - 2 * alpha * kappa**3 * tau**2\n",
    "    + 2 * alpha * kappa**3 * tau\n",
    "    + 2 * kappa**2 * omega * tau**3\n",
    "    - 3 * kappa**2 * omega * tau**2\n",
    "    + kappa**2 * omega * tau\n",
    ")\n",
    "assert sp.simplify(sl_ggt0.subs(lgt0, l_gt0) - l_ggt0) == 0\n",
    "cprint(rf\"\\ell_{{\\gamma\\gamma\\vartheta_{0}}} = {sp.latex(sl_ggt0)}\")"
   ]
  },
  {
   "cell_type": "code",
   "execution_count": 20,
   "id": "fde98722-0c67-4fbd-a7b4-53486867411d",
   "metadata": {},
   "outputs": [
    {
     "data": {
      "text/latex": [
       "$\\displaystyle \\ell_{\\gamma\\vartheta_0\\vartheta_0} = - 2 \\alpha^{3} \\kappa^{3} y - 2 \\alpha^{2} \\kappa^{3} \\tau + 3 \\alpha^{2} \\kappa^{2} y - \\alpha \\kappa^{3} \\tau^{2} + \\alpha \\kappa^{3} \\tau + 2 \\alpha \\kappa^{2} \\omega \\tau^{2} - 2 \\alpha \\kappa^{2} \\omega \\tau + \\alpha \\kappa^{2} \\tau - \\alpha \\kappa y - 2 \\kappa \\omega^{2} \\tau^{3} + 3 \\kappa \\omega^{2} \\tau^{2} - \\kappa \\omega^{2} \\tau + \\kappa \\omega \\tau^{2} - \\kappa \\omega \\tau$"
      ],
      "text/plain": [
       "<IPython.core.display.Math object>"
      ]
     },
     "metadata": {},
     "output_type": "display_data"
    }
   ],
   "source": [
    "# for full Newton\n",
    "# not simplified\n",
    "l_gt0t0 = (\n",
    "    l_hurdleNB.diff(g, 1, t0, 2)\n",
    "    .subs(a, alpha)\n",
    "    .subs(k, kappa)\n",
    "    .subs(t, tau)\n",
    "    .subs(w, omega)\n",
    "    .expand()\n",
    ")\n",
    "cprint(rf\"\\ell_{{\\gamma\\vartheta_{0}\\vartheta_{0}}} = {sp.latex(l_gt0t0)}\")"
   ]
  },
  {
   "cell_type": "code",
   "execution_count": 21,
   "id": "9ba5aa9a-cc51-4ca4-9230-0e7ac950c7a1",
   "metadata": {},
   "outputs": [
    {
     "data": {
      "text/latex": [
       "$\\displaystyle \\ell_{\\gamma\\gamma\\vartheta_0\\vartheta_0} = 6 \\alpha^{4} \\kappa^{4} y + 6 \\alpha^{3} \\kappa^{4} \\tau - 12 \\alpha^{3} \\kappa^{3} y + 7 \\alpha^{2} \\kappa^{4} \\tau^{2} - 7 \\alpha^{2} \\kappa^{4} \\tau - 4 \\alpha^{2} \\kappa^{3} \\omega \\tau^{2} + 4 \\alpha^{2} \\kappa^{3} \\omega \\tau - 8 \\alpha^{2} \\kappa^{3} \\tau + 7 \\alpha^{2} \\kappa^{2} y + 2 \\alpha \\kappa^{4} \\tau^{3} - 3 \\alpha \\kappa^{4} \\tau^{2} + \\alpha \\kappa^{4} \\tau - 8 \\alpha \\kappa^{3} \\omega \\tau^{3} + 12 \\alpha \\kappa^{3} \\omega \\tau^{2} - 4 \\alpha \\kappa^{3} \\omega \\tau - 3 \\alpha \\kappa^{3} \\tau^{2} + 3 \\alpha \\kappa^{3} \\tau + 2 \\alpha \\kappa^{2} \\omega^{2} \\tau^{3} - 3 \\alpha \\kappa^{2} \\omega^{2} \\tau^{2} + \\alpha \\kappa^{2} \\omega^{2} \\tau + 3 \\alpha \\kappa^{2} \\omega \\tau^{2} - 3 \\alpha \\kappa^{2} \\omega \\tau + 2 \\alpha \\kappa^{2} \\tau - \\alpha \\kappa y + 6 \\kappa^{2} \\omega^{2} \\tau^{4} - 12 \\kappa^{2} \\omega^{2} \\tau^{3} + 7 \\kappa^{2} \\omega^{2} \\tau^{2} - \\kappa^{2} \\omega^{2} \\tau - 2 \\kappa^{2} \\omega \\tau^{3} + 3 \\kappa^{2} \\omega \\tau^{2} - \\kappa^{2} \\omega \\tau - 2 \\kappa \\omega^{2} \\tau^{3} + 3 \\kappa \\omega^{2} \\tau^{2} - \\kappa \\omega^{2} \\tau + \\kappa \\omega \\tau^{2} - \\kappa \\omega \\tau$"
      ],
      "text/plain": [
       "<IPython.core.display.Math object>"
      ]
     },
     "metadata": {},
     "output_type": "display_data"
    }
   ],
   "source": [
    "# for full Newton\n",
    "# not simplified\n",
    "l_ggt0t0 = (\n",
    "    l_hurdleNB.diff(g, 2, t0, 2)\n",
    "    .subs(a, alpha)\n",
    "    .subs(k, kappa)\n",
    "    .subs(t, tau)\n",
    "    .collect(4)\n",
    "    .subs(w, omega)\n",
    "    .expand()\n",
    ")\n",
    "cprint(rf\"\\ell_{{\\gamma\\gamma\\vartheta_{0}\\vartheta_{0}}} = {sp.latex(l_ggt0t0)}\")"
   ]
  },
  {
   "cell_type": "code",
   "execution_count": 22,
   "id": "b46399d3-c41b-429f-87db-9660625bd632",
   "metadata": {},
   "outputs": [
    {
     "data": {
      "text/latex": [
       "$\\displaystyle \\ell_{\\gamma\\gamma\\gamma\\vartheta_0} = 6 \\alpha^{4} \\kappa^{4} y + 6 \\alpha^{3} \\kappa^{4} \\tau - 12 \\alpha^{3} \\kappa^{3} y + 9 \\alpha^{2} \\kappa^{4} \\tau^{2} - 9 \\alpha^{2} \\kappa^{4} \\tau - 2 \\alpha^{2} \\kappa^{3} \\omega \\tau^{2} + 2 \\alpha^{2} \\kappa^{3} \\omega \\tau - 10 \\alpha^{2} \\kappa^{3} \\tau + 7 \\alpha^{2} \\kappa^{2} y + 6 \\alpha \\kappa^{4} \\tau^{3} - 9 \\alpha \\kappa^{4} \\tau^{2} + 3 \\alpha \\kappa^{4} \\tau - 6 \\alpha \\kappa^{3} \\omega \\tau^{3} + 9 \\alpha \\kappa^{3} \\omega \\tau^{2} - 3 \\alpha \\kappa^{3} \\omega \\tau - 9 \\alpha \\kappa^{3} \\tau^{2} + 9 \\alpha \\kappa^{3} \\tau + 3 \\alpha \\kappa^{2} \\omega \\tau^{2} - 3 \\alpha \\kappa^{2} \\omega \\tau + 4 \\alpha \\kappa^{2} \\tau - \\alpha \\kappa y - 6 \\kappa^{3} \\omega \\tau^{4} + 12 \\kappa^{3} \\omega \\tau^{3} - 7 \\kappa^{3} \\omega \\tau^{2} + \\kappa^{3} \\omega \\tau + 6 \\kappa^{2} \\omega \\tau^{3} - 9 \\kappa^{2} \\omega \\tau^{2} + 3 \\kappa^{2} \\omega \\tau - \\kappa \\omega \\tau^{2} + \\kappa \\omega \\tau$"
      ],
      "text/plain": [
       "<IPython.core.display.Math object>"
      ]
     },
     "metadata": {},
     "output_type": "display_data"
    }
   ],
   "source": [
    "# for full Newton\n",
    "# not simplified\n",
    "l_gggt0 = (\n",
    "    l_hurdleNB.diff(g, 3, t0, 1)\n",
    "    .subs(a, alpha)\n",
    "    .subs(k, kappa)\n",
    "    .subs(t, tau)\n",
    "    .collect([2, 6, 7, 12])\n",
    "    .subs(w, omega)\n",
    "    .expand()\n",
    ")\n",
    "cprint(rf\"\\ell_{{\\gamma\\gamma\\gamma\\vartheta_{0}}} = {sp.latex(l_gggt0)}\")"
   ]
  },
  {
   "cell_type": "markdown",
   "id": "9c87c1a6-8e5a-491a-9591-abf5d583933f",
   "metadata": {},
   "source": [
    "Further mixed derivatives are trivial."
   ]
  },
  {
   "cell_type": "markdown",
   "id": "7b8b80b5-a485-48ee-a2d5-886a22f73618",
   "metadata": {},
   "source": [
    "### Limiting behavior"
   ]
  },
  {
   "cell_type": "markdown",
   "id": "bf18437e-5056-421a-bc5e-880fd62375ec",
   "metadata": {},
   "source": [
    "$\\alpha$ is considered fixed.\n",
    "\n",
    "As $\\gamma \\to -\\infty$,\n",
    "\n",
    "$\\ell_{\\gamma} \\to y-1, ~ \\ell_{\\gamma\\gamma} \\to \\ell_{\\gamma\\gamma\\gamma} \\to \\ell_{\\gamma\\gamma\\gamma\\gamma} \\to 0$,\n",
    "\n",
    "$\\ell_{\\vartheta_0} \\to y - \\frac{\\psi(y+1/\\alpha)}{\\alpha} + \\frac{\\psi(1/\\alpha)}{\\alpha}, ~ \\ell_{\\vartheta_{0}\\vartheta_{0}} \\to - \\frac{\\psi{(1/\\alpha)}}{\\alpha} + \\frac{\\psi{(y + 1/\\alpha)}}{\\alpha} - \\frac{\\psi^{(1)}{(1/\\alpha)}}{\\alpha^{2}} + \\frac{\\psi^{(1)}{(y + 1/\\alpha)}}{\\alpha^{2}}$,\n",
    "\n",
    "$\\ell_{\\gamma\\vartheta_{0}} \\to \\ell_{\\gamma\\gamma\\vartheta_{0}} \\to \\ell_{\\gamma\\vartheta_{0}\\vartheta_{0}} \\to \\ell_{\\gamma\\gamma\\vartheta_{0}\\vartheta_{0}} \\to \\ell_{\\gamma\\gamma\\gamma\\vartheta_{0}} \\to 0$\n",
    "\n",
    "\n",
    "As $\\gamma \\to \\infty$,\n",
    "\n",
    "$\\ell_{\\gamma} \\to -1/\\alpha, ~ \\ell_{\\gamma\\gamma}\\to\\ell_{\\gamma\\gamma\\gamma}\\to\\ell_{\\gamma\\gamma\\gamma\\gamma}\\to 0$\n",
    "\n",
    "$\\ell_{\\vartheta_0} \\to \\frac{\\log \\alpha}{\\alpha} + \\frac{\\gamma}{\\alpha} - \\frac{1}{\\alpha} - \\frac{\\psi(y+1/\\alpha)}{\\alpha} + \\frac{\\psi(1/\\alpha)}{\\alpha},~ \\ell_{\\vartheta_{0}\\vartheta_{0}} \\to \\frac{2}{\\alpha} - \\frac{\\log \\alpha}{\\alpha} - \\frac{\\gamma}{\\alpha} - \\frac{\\psi{(1/\\alpha)}}{\\alpha} + \\frac{\\psi{(y + 1/\\alpha)}}{\\alpha} - \\frac{\\psi^{(1)}{(1/\\alpha)}}{\\alpha^{2}} + \\frac{\\psi^{(1)}{(y + 1/\\alpha)}}{\\alpha^{2}}$\n",
    "\n",
    "$\\ell_{\\gamma\\vartheta_0} \\to 1/\\alpha, ~ \\ell_{\\gamma\\vartheta_0\\vartheta_0} \\to -1/\\alpha, ~ \\ell_{\\gamma\\gamma\\vartheta_0} \\to \\ell_{\\gamma\\gamma\\vartheta_0\\vartheta_0} \\to \\ell_{\\gamma\\gamma\\gamma\\vartheta_0} \\to 0 \\quad \\text{where } \\psi(x) = \\text{polygamma}(0, x), ~ \\psi^{(1)}(x) = \\text{polygamma}(1, x)$. "
   ]
  },
  {
   "cell_type": "markdown",
   "id": "433c3d45-edff-428b-9748-e0231f1ab746",
   "metadata": {},
   "source": [
    "Limits w.r.t. $\\eta$ are the same as in [Wood et al., 2016, Supplementary Appendix I](https://doi.org/10.1080/01621459.2016.1180986)"
   ]
  }
 ],
 "metadata": {
  "kernelspec": {
   "display_name": "Python 3 (ipykernel)",
   "language": "python",
   "name": "python3"
  },
  "language_info": {
   "codemirror_mode": {
    "name": "ipython",
    "version": 3
   },
   "file_extension": ".py",
   "mimetype": "text/x-python",
   "name": "python",
   "nbconvert_exporter": "python",
   "pygments_lexer": "ipython3",
   "version": "3.10.16"
  }
 },
 "nbformat": 4,
 "nbformat_minor": 5
}
