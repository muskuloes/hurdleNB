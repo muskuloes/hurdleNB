{
 "cells": [
  {
   "cell_type": "code",
   "execution_count": null,
   "id": "60700f4e-8099-4974-984c-738f786ec5f2",
   "metadata": {},
   "outputs": [],
   "source": [
    "import numpy as np\n",
    "import sympy as sp\n",
    "from IPython.display import Math, display"
   ]
  },
  {
   "cell_type": "code",
   "execution_count": null,
   "id": "bcef9664-ec6f-4223-8fbb-c5f7bae073a2",
   "metadata": {},
   "outputs": [],
   "source": [
    "def cprint(tex_text):\n",
    "    display(Math(tex_text))"
   ]
  },
  {
   "cell_type": "markdown",
   "id": "7d4cc949-c6d7-4965-95e9-8ab66078ec09",
   "metadata": {},
   "source": [
    "# Derivatives for the extended GAM implementation"
   ]
  },
  {
   "cell_type": "markdown",
   "id": "1799d688-c3c5-4fbd-b47d-ddc2276fedd8",
   "metadata": {},
   "source": [
    "\\begin{align*}\n",
    "y&: y \\\\\n",
    "a&: \\alpha = \\exp(\\vartheta_{0}) \\\\\n",
    "n&: \\eta \\\\\n",
    "g&: \\gamma \\\\\n",
    "\\end{align*}\n",
    "where $\\vartheta_{0}\\in \\mathbb{R}$ is an unrestricted parameter."
   ]
  },
  {
   "cell_type": "code",
   "execution_count": null,
   "id": "bc71e175-b1d6-4937-b73c-e179562da425",
   "metadata": {},
   "outputs": [],
   "source": [
    "y, t0, n, g = sp.symbols(\"y, theta0, eta, gamma\")\n",
    "a = sp.exp(t0)"
   ]
  },
  {
   "cell_type": "code",
   "execution_count": null,
   "id": "24b1bd07-5294-45ee-a14f-6cd9524f397e",
   "metadata": {},
   "outputs": [],
   "source": [
    "l_ZTNB = (\n",
    "    y * sp.log(a)\n",
    "    + y * g\n",
    "    - y * sp.log(1 + a * sp.exp(g))\n",
    "    + sp.log(sp.gamma(y + 1 / a))\n",
    "    - sp.log(sp.gamma(y + 1))\n",
    "    - sp.log(sp.gamma(1 / a))\n",
    "    - sp.log(((1 + a * sp.exp(g)) ** (1 / a)) - 1)\n",
    ")\n",
    "\n",
    "cprint(rf\"\\ell_{{ZTNB}} = {sp.latex(l_ZTNB.subs(a, 'alpha'))}\")"
   ]
  },
  {
   "cell_type": "code",
   "execution_count": null,
   "id": "4bf0931d-6396-4652-8b1a-af3e66eb6aa9",
   "metadata": {},
   "outputs": [],
   "source": [
    "# for y == 0\n",
    "l0_hurdleNB = -sp.exp(n)\n",
    "# for y_p = y > 0\n",
    "l_hurdleNB = sp.log(1 - sp.exp(-sp.exp(n))) + l_ZTNB\n",
    "\n",
    "cprint(rf\"\\ell_{{hurdleNB}} = {sp.latex(l0_hurdleNB)}, \\quad \\text{{for}} ~ y = 0.\")\n",
    "cprint(\n",
    "    rf\"\\ell_{{hurdleNB}} = {sp.latex(l_hurdleNB.subs(a, 'alpha'))}, \\quad \\text{{for}} ~ y > 0.\"\n",
    ")"
   ]
  },
  {
   "cell_type": "markdown",
   "id": "6ced3a5e-08b9-4b46-93aa-b3a980fcc1ab",
   "metadata": {},
   "source": [
    "## Derivatives, for $y > 0$"
   ]
  },
  {
   "cell_type": "markdown",
   "id": "e3dbb424-b147-4408-a149-4c5af2e52ac1",
   "metadata": {},
   "source": [
    "#### w.r.t. $\\eta$"
   ]
  },
  {
   "cell_type": "code",
   "execution_count": null,
   "id": "1c1c94a6-2b36-4aa5-87ba-72583096462c",
   "metadata": {},
   "outputs": [],
   "source": [
    "l_e = l_hurdleNB.diff(n, 1)\n",
    "cprint(rf\"\\ell_{{\\eta}} = {sp.latex(l_e)}\")"
   ]
  },
  {
   "cell_type": "code",
   "execution_count": null,
   "id": "9e5858f0-5171-40e0-aa86-3c0a9081344e",
   "metadata": {},
   "outputs": [],
   "source": [
    "l_ee = l_hurdleNB.diff(n, 2).subs(l_e, \"l_eta\").expand()\n",
    "cprint(rf\"\\ell_{{\\eta\\eta}} = {sp.latex(l_ee)}\")"
   ]
  },
  {
   "cell_type": "code",
   "execution_count": null,
   "id": "e6439f28-8791-4c0a-b79f-a2c08c14b938",
   "metadata": {},
   "outputs": [],
   "source": [
    "l_eee = l_hurdleNB.diff(n, 3).subs(l_e, \"l_eta\").expand()\n",
    "cprint(rf\"\\ell_{{\\eta\\eta\\eta}} = {sp.latex(l_eee)}\")"
   ]
  },
  {
   "cell_type": "code",
   "execution_count": null,
   "id": "51f17d35-a86a-4d85-a3e3-e014022ab3c8",
   "metadata": {},
   "outputs": [],
   "source": [
    "l_eeee = l_hurdleNB.diff(n, 4).subs(l_e, \"l_eta\").expand()\n",
    "cprint(rf\"\\ell_{{\\eta\\eta\\eta\\eta}} = {sp.latex(l_eeee)}\")"
   ]
  },
  {
   "cell_type": "markdown",
   "id": "242f9346-a418-45e7-8603-bafeb089193f",
   "metadata": {},
   "source": [
    "#### w.r.t. $\\gamma$"
   ]
  },
  {
   "cell_type": "code",
   "execution_count": null,
   "id": "c3f183de-687b-4fb6-ab36-281155d36caf",
   "metadata": {},
   "outputs": [],
   "source": [
    "alpha, kappa, tau = sp.symbols(\"alpha kappa tau\")\n",
    "\n",
    "k = sp.exp(g) / (1 + alpha * sp.exp(g))\n",
    "t = ((1 + alpha * sp.exp(g)) ** (1 / alpha)) / (\n",
    "    (1 + alpha * sp.exp(g)) ** (1 / alpha) - 1\n",
    ")"
   ]
  },
  {
   "cell_type": "code",
   "execution_count": null,
   "id": "a8bd8f39-7d75-417c-874a-545ffb6e3043",
   "metadata": {},
   "outputs": [],
   "source": [
    "l_g = l_hurdleNB.diff(g, 1).subs(a, alpha).subs(k, kappa).subs(t, tau)\n",
    "cprint(rf\"\\ell_{{\\gamma}} = {sp.latex(l_g)}\")"
   ]
  },
  {
   "cell_type": "code",
   "execution_count": null,
   "id": "1eb49c78-3955-42a5-ba7a-19f78aed36af",
   "metadata": {},
   "outputs": [],
   "source": [
    "l_gg = l_hurdleNB.diff(g, 2).subs(a, alpha).subs(k, kappa).subs(t, tau).expand()\n",
    "\n",
    "lg = sp.symbols(r\"\\ell_{\\gamma}\")\n",
    "sl_gg = -alpha * kappa * lg - kappa * tau + kappa**2 * tau**2 - kappa**2 * tau\n",
    "assert sp.simplify(sl_gg.subs(lg, l_g) - l_gg) == 0\n",
    "cprint(rf\"\\ell_{{\\gamma\\gamma}} = {sp.latex(sl_gg)}\")"
   ]
  },
  {
   "cell_type": "code",
   "execution_count": null,
   "id": "bf9f4117-d8eb-4bc1-8fa1-a21ed6adc7da",
   "metadata": {},
   "outputs": [],
   "source": [
    "l_ggg = l_hurdleNB.diff(g, 3).subs(a, alpha).subs(k, kappa).subs(t, tau).expand()\n",
    "\n",
    "lgg = sp.symbols(r\"\\ell_{\\gamma\\gamma}\")\n",
    "sl_ggg = (\n",
    "    -3 * alpha * kappa * lgg\n",
    "    + 3 * lgg\n",
    "    + 2 * alpha * kappa * lg\n",
    "    - alpha**2 * kappa**2 * lg\n",
    "    - alpha * kappa**2 * tau\n",
    "    - 2 * kappa**3 * tau**3\n",
    "    + 3 * kappa**3 * tau**2\n",
    "    - kappa**3 * tau\n",
    "    + 2 * kappa * tau\n",
    ")\n",
    "assert sp.simplify(sl_ggg.subs(lg, l_g).subs(lgg, l_gg) - l_ggg) == 0\n",
    "cprint(rf\"\\ell_{{\\gamma\\gamma\\gamma}} = {sp.latex(sl_ggg)}\")"
   ]
  },
  {
   "cell_type": "code",
   "execution_count": null,
   "id": "b6eb44eb-c9c4-4ad1-a2fa-d38d8e74d615",
   "metadata": {},
   "outputs": [],
   "source": [
    "# for full-Newton\n",
    "l_gggg = l_hurdleNB.diff(g, 4).subs(a, alpha).subs(k, kappa).subs(t, tau).expand()\n",
    "\n",
    "lggg = sp.symbols(r\"\\ell_{\\gamma\\gamma\\gamma}\")\n",
    "sl_gggg = (\n",
    "    -3 * alpha * kappa * lggg\n",
    "    + 6 * lggg\n",
    "    + 9 * alpha * kappa * lgg\n",
    "    - 11 * lgg\n",
    "    - 6 * alpha * kappa * lg\n",
    "    - 6 * kappa * tau\n",
    "    + 2 * alpha**2 * kappa**4 * tau**2\n",
    "    - 2 * alpha**2 * kappa**4 * tau\n",
    "    + 6 * alpha * kappa**4 * tau**3\n",
    "    - 9 * alpha * kappa**4 * tau**2\n",
    "    + 3 * alpha * kappa**4 * tau\n",
    "    + 6 * kappa**4 * tau**4\n",
    "    - 12 * kappa**4 * tau**3\n",
    "    + 7 * kappa**4 * tau**2\n",
    "    - kappa**4 * tau\n",
    ")\n",
    "\n",
    "assert (\n",
    "    sp.simplify(sl_gggg.subs(lggg, l_ggg).subs(lgg, l_gg).subs(lg, l_g) - l_gggg) == 0\n",
    ")\n",
    "cprint(rf\"\\ell_{{\\gamma\\gamma\\gamma\\gamma}} = {sp.latex(sl_gggg)}\")"
   ]
  },
  {
   "cell_type": "markdown",
   "id": "3c422df3-5355-458b-b970-a14204726dce",
   "metadata": {},
   "source": [
    "#### w.r.t. $\\vartheta_0$"
   ]
  },
  {
   "cell_type": "code",
   "execution_count": null,
   "id": "4281dffc-6fa2-4777-b313-e679dfccd4b3",
   "metadata": {},
   "outputs": [],
   "source": [
    "omega = sp.symbols(\"omega\")\n",
    "w = (1 / alpha) * sp.log(1 + alpha * sp.exp(g)) - kappa"
   ]
  },
  {
   "cell_type": "code",
   "execution_count": null,
   "id": "4819a8d7-aaa7-4871-a148-a974ce749346",
   "metadata": {},
   "outputs": [],
   "source": [
    "l_t0 = l_hurdleNB.diff(t0, 1).subs(a, alpha).subs(k, kappa).subs(t, tau).subs(w, omega)\n",
    "\n",
    "sl_t0 = (\n",
    "    lg\n",
    "    + kappa * tau\n",
    "    + tau * omega\n",
    "    + sp.polygamma(0, 1 / alpha) / alpha\n",
    "    - sp.polygamma(0, y + 1 / alpha) / alpha\n",
    ")\n",
    "assert sp.simplify(sl_t0.subs(lg, l_g) - l_t0) == 0\n",
    "cprint(rf\"\\ell_{{\\vartheta_{0}}} = {sp.latex(sl_t0)}\")"
   ]
  },
  {
   "cell_type": "code",
   "execution_count": null,
   "id": "02bb1fde-8a05-4d67-a7b9-e18175183b84",
   "metadata": {},
   "outputs": [],
   "source": [
    "# for full Newton\n",
    "l_t0t0 = (\n",
    "    l_hurdleNB.diff(t0, 2).subs(a, alpha).subs(k, kappa).subs(t, tau).subs(w, omega)\n",
    ")\n",
    "\n",
    "lt0 = sp.symbols(r\"\\ell_{\\vartheta_{0}}\")\n",
    "sl_t0t0 = (\n",
    "    -lt0\n",
    "    - alpha * kappa * lg\n",
    "    + omega**2 * tau**2\n",
    "    - omega**2 * tau\n",
    "    + lg\n",
    "    + kappa * tau\n",
    "    - sp.polygamma(1, 1 / alpha) / alpha**2\n",
    "    + sp.polygamma(1, y + 1 / alpha) / alpha**2\n",
    ")\n",
    "assert sp.simplify(sl_t0t0.subs(lg, l_g).subs(lt0, l_t0) - l_t0t0) == 0\n",
    "cprint(rf\"\\ell_{{\\vartheta_{0}\\vartheta_{0}}} = {sp.latex(sl_t0t0)}\")"
   ]
  },
  {
   "cell_type": "markdown",
   "id": "eebc07d1-e6f0-43db-935d-3f700ddf12df",
   "metadata": {},
   "source": [
    "#### Mixed derivatives"
   ]
  },
  {
   "cell_type": "markdown",
   "id": "b217d724-fce3-4542-b8d1-d66b5ebc5f2f",
   "metadata": {},
   "source": [
    "Mixed derivatives involving $\\eta$ are all 0 in the GAMLSS case. In the Extended GAM case, with $\\eta=\\vartheta_{1} + \\exp(\\vartheta_{2})\\gamma$, we are interested in mixed derivatives involving $\\gamma$ and $\\vartheta_{i}, i=0,1,2$."
   ]
  },
  {
   "cell_type": "code",
   "execution_count": null,
   "id": "435e764c-6cd0-4685-8e1f-410d7235a59e",
   "metadata": {},
   "outputs": [],
   "source": [
    "l_gt0 = (\n",
    "    l_hurdleNB.diff(g, 1, t0, 1)\n",
    "    .subs(a, alpha)\n",
    "    .subs(k, kappa)\n",
    "    .subs(t, tau)\n",
    "    .subs(w, omega)\n",
    "    .expand()\n",
    ")\n",
    "\n",
    "sl_gt0 = -alpha * kappa * lg - kappa * tau**2 * omega + kappa * tau * omega\n",
    "assert sp.simplify(sl_gt0.subs(lg, l_g) - l_gt0) == 0\n",
    "cprint(rf\"\\ell_{{\\gamma\\vartheta_{0}}} = {sp.latex(sl_gt0)}\")"
   ]
  },
  {
   "cell_type": "code",
   "execution_count": null,
   "id": "a805a307-80c7-44f5-8704-86e2e43f4a62",
   "metadata": {},
   "outputs": [],
   "source": [
    "l_ggt0 = (\n",
    "    l_hurdleNB.diff(g, 2, t0, 1)\n",
    "    .subs(a, alpha)\n",
    "    .subs(k, kappa)\n",
    "    .subs(t, tau)\n",
    "    .subs(w, omega)\n",
    "    .expand()\n",
    ")\n",
    "\n",
    "lgt0 = sp.symbols(r\"\\ell_{\\gamma\\vartheta_{0}}\")\n",
    "sl_ggt0 = (\n",
    "    -alpha * kappa * lgt0\n",
    "    - alpha**2 * kappa**2 * lg\n",
    "    - 2 * alpha * kappa * lgg\n",
    "    + lgt0\n",
    "    - alpha * kappa**2 * tau\n",
    "    + 2 * kappa**2 * omega * tau**3\n",
    "    - 3 * kappa**2 * omega * tau**2\n",
    "    + kappa**2 * omega * tau\n",
    ")\n",
    "assert (\n",
    "    sp.simplify(sl_ggt0.subs(lg, l_g).subs(lgg, l_gg).subs(lgt0, l_gt0) - l_ggt0) == 0\n",
    ")\n",
    "cprint(rf\"\\ell_{{\\gamma\\gamma\\vartheta_{0}}} = {sp.latex(sl_ggt0)}\")"
   ]
  },
  {
   "cell_type": "code",
   "execution_count": null,
   "id": "fde98722-0c67-4fbd-a7b4-53486867411d",
   "metadata": {},
   "outputs": [],
   "source": [
    "# for full Newton\n",
    "l_gt0t0 = (\n",
    "    l_hurdleNB.diff(g, 1, t0, 2)\n",
    "    .subs(a, alpha)\n",
    "    .subs(k, kappa)\n",
    "    .subs(t, tau)\n",
    "    .subs(w, omega)\n",
    "    .expand()\n",
    ")\n",
    "\n",
    "sl_gt0t0 = (\n",
    "    -2 * alpha * kappa * lgt0\n",
    "    - 2 * lg * alpha * kappa\n",
    "    - lgt0\n",
    "    - alpha * kappa**3 * tau**2\n",
    "    + alpha * kappa**3 * tau\n",
    "    - 2 * kappa * omega**2 * tau**3\n",
    "    + 3 * kappa * omega**2 * tau**2\n",
    "    - kappa * omega**2 * tau\n",
    ")\n",
    "assert sp.simplify(sl_gt0t0.subs(lg, l_g).subs(lgt0, l_gt0) - l_gt0t0) == 0\n",
    "cprint(rf\"\\ell_{{\\gamma\\vartheta_{0}\\vartheta_{0}}} = {sp.latex(sl_gt0t0)}\")"
   ]
  },
  {
   "cell_type": "code",
   "execution_count": null,
   "id": "b46399d3-c41b-429f-87db-9660625bd632",
   "metadata": {},
   "outputs": [],
   "source": [
    "# for full Newton\n",
    "l_gggt0 = (\n",
    "    l_hurdleNB.diff(g, 3, t0, 1)\n",
    "    .subs(a, alpha)\n",
    "    .subs(k, kappa)\n",
    "    .subs(t, tau)\n",
    "    .collect([2, 6, 7, 12])\n",
    "    .subs(w, omega)\n",
    "    .expand()\n",
    ")\n",
    "\n",
    "lggt0 = sp.symbols(r\"\\ell_{\\gamma\\gamma\\vartheta_{0}}\")\n",
    "sl_gggt0 = (\n",
    "    -3 * lggt0 * alpha * kappa\n",
    "    + 3 * lggt0\n",
    "    + 3 * lgt0 * alpha * kappa\n",
    "    - 2 * lgt0\n",
    "    - 3 * lggg * alpha * kappa\n",
    "    + 6 * lgg * alpha * kappa\n",
    "    - 6 * lgg * alpha**2 * kappa**2\n",
    "    - alpha**2 * kappa**2 * lgt0\n",
    "    - alpha**3 * kappa**3 * lg\n",
    "    + 3 * alpha**2 * kappa**2 * lg\n",
    "    + 3 * alpha * kappa**2 * tau\n",
    "    - alpha**2 * kappa**3 * tau\n",
    "    - 6 * kappa**3 * omega * tau**4\n",
    "    + 12 * kappa**3 * omega * tau**3\n",
    "    - 7 * kappa**3 * omega * tau**2\n",
    "    + kappa**3 * omega * tau\n",
    ")\n",
    "assert (\n",
    "    sp.simplify(\n",
    "        sl_gggt0.subs(lg, l_g)\n",
    "        .subs(lgg, l_gg)\n",
    "        .subs(lggg, l_ggg)\n",
    "        .subs(lgt0, l_gt0)\n",
    "        .subs(lggt0, l_ggt0)\n",
    "        - l_gggt0\n",
    "    )\n",
    "    == 0\n",
    ")\n",
    "cprint(rf\"\\ell_{{\\gamma\\gamma\\gamma\\vartheta_{0}}} = {sp.latex(sl_gggt0)}\")"
   ]
  },
  {
   "cell_type": "code",
   "execution_count": null,
   "id": "9ba5aa9a-cc51-4ca4-9230-0e7ac950c7a1",
   "metadata": {},
   "outputs": [],
   "source": [
    "# for full Newton\n",
    "l_ggt0t0 = (\n",
    "    l_hurdleNB.diff(g, 2, t0, 2)\n",
    "    .subs(a, alpha)\n",
    "    .subs(k, kappa)\n",
    "    .subs(t, tau)\n",
    "    .collect(4)\n",
    "    .subs(w, omega)\n",
    "    .expand()\n",
    ")\n",
    "\n",
    "lgt0t0 = sp.symbols(r\"\\ell_{\\gamma\\vartheta_{0}\\vartheta_{0}}\")\n",
    "sl_ggt0t0 = (\n",
    "    -2 * lggt0 * alpha * kappa\n",
    "    - lggt0\n",
    "    - alpha * kappa * lggg\n",
    "    - lgt0t0 * alpha * kappa\n",
    "    + lgt0t0\n",
    "    - lgt0 * alpha * kappa\n",
    "    + lgt0\n",
    "    - lgg * alpha**2 * kappa**2\n",
    "    - alpha * kappa * lgg\n",
    "    + alpha**3 * kappa**3 * lg\n",
    "    + alpha**2 * kappa**3 * tau\n",
    "    + 6 * kappa**2 * omega**2 * tau**4\n",
    "    - 12 * kappa**2 * omega**2 * tau**3\n",
    "    + 7 * kappa**2 * omega**2 * tau**2\n",
    "    - kappa**2 * omega**2 * tau\n",
    "    - 4 * alpha * kappa**3 * omega * tau**3\n",
    "    + 6 * alpha * kappa**3 * omega * tau**2\n",
    "    - 2 * alpha * kappa**3 * omega * tau\n",
    ")\n",
    "assert (\n",
    "    sp.simplify(\n",
    "        sl_ggt0t0.subs(lg, l_g)\n",
    "        .subs(lgg, l_gg)\n",
    "        .subs(lggg, l_ggg)\n",
    "        .subs(lgt0, l_gt0)\n",
    "        .subs(lggt0, l_ggt0)\n",
    "        .subs(lgt0t0, l_gt0t0)\n",
    "        - l_ggt0t0\n",
    "    )\n",
    "    == 0\n",
    ")\n",
    "cprint(rf\"\\ell_{{\\gamma\\gamma\\vartheta_{0}\\vartheta_{0}}} = {sp.latex(sl_ggt0t0)}\")"
   ]
  },
  {
   "cell_type": "markdown",
   "id": "9c87c1a6-8e5a-491a-9591-abf5d583933f",
   "metadata": {},
   "source": [
    "Further mixed derivatives are trivial."
   ]
  },
  {
   "cell_type": "markdown",
   "id": "433c3d45-edff-428b-9748-e0231f1ab746",
   "metadata": {},
   "source": [
    "Limits w.r.t. $\\eta$ are the same as in [Wood et al., 2016, Supplementary Appendix I](https://doi.org/10.1080/01621459.2016.1180986)"
   ]
  }
 ],
 "metadata": {
  "kernelspec": {
   "display_name": "Python 3 (ipykernel)",
   "language": "python",
   "name": "python3"
  },
  "language_info": {
   "codemirror_mode": {
    "name": "ipython",
    "version": 3
   },
   "file_extension": ".py",
   "mimetype": "text/x-python",
   "name": "python",
   "nbconvert_exporter": "python",
   "pygments_lexer": "ipython3",
   "version": "3.10.16"
  }
 },
 "nbformat": 4,
 "nbformat_minor": 5
}
